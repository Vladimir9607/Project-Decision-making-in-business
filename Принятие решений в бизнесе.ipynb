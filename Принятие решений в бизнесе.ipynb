{
 "cells": [
  {
   "cell_type": "markdown",
   "metadata": {},
   "source": [
    "# Принятие решений в бизнесе"
   ]
  },
  {
   "cell_type": "markdown",
   "metadata": {},
   "source": [
    "В нашем распоряжении 3 файла: hypothesis.csv содержащий данные о 9 гипотез по увеличению выручки интернет-магазина с указанными параметрами Reach, Impact, Confidence, Effort и файлы orders.csv и visitors.csv в которых описаны результаты A/B-теста.\n",
    "\n",
    "Цель исследования: приоритизировать гипотезы, запустить A/B-тест и проанализировать результаты.\n",
    "\n",
    "Ход исследования:\n",
    "\n",
    "- Приоритизация гипотез: \n",
    "1. Примените фреймворк ICE для приоритизации гипотез. Отсортируйте их по убыванию приоритета.\n",
    "2. Примените фреймворк RICE для приоритизации гипотез. Отсортируйте их по убыванию приоритета.\n",
    "3. Укажите, как изменилась приоритизация гипотез при применении RICE вместо ICE. Объясните, почему так произошло.\n",
    "\n",
    "- Анализ A/B-теста:\n",
    "1. Постройте график кумулятивной выручки по группам. Сделайте выводы и предположения.\n",
    "2. Постройте график кумулятивного среднего чека по группам. Сделайте выводы и предположения.\n",
    "3. Постройте график относительного изменения кумулятивного среднего чека группы B к группе A. Сделайте выводы и предположения.\n",
    "4. Постройте график кумулятивного среднего количества заказов на посетителя по группам. Сделайте выводы и предположения.\n",
    "5. Постройте график относительного изменения кумулятивного среднего количества заказов на посетителя группы B к группе A. Сделайте выводы и предположения.\n",
    "6. Постройте точечный график количества заказов по пользователям. Сделайте выводы и предположения.\n",
    "7. Посчитайте 95-й и 99-й перцентили количества заказов на пользователя. Выберите границу для определения аномальных пользователей.\n",
    "8. Постройте точечный график стоимостей заказов. Сделайте выводы и предположения.\n",
    "9. Посчитайте 95-й и 99-й перцентили стоимости заказов. Выберите границу для определения аномальных заказов.\n",
    "10. Посчитайте статистическую значимость различий в среднем количестве заказов на посетителя между группами по «сырым» данным. Сделайте выводы и предположения.\n",
    "11. Посчитайте статистическую значимость различий в среднем чеке заказа между группами по «сырым» данным. Сделайте выводы и предположения.\n",
    "12. Посчитайте статистическую значимость различий в среднем количестве заказов на посетителя между группами по «очищенным» данным. Сделайте выводы и предположения.\n",
    "13. Посчитайте статистическую значимость различий в среднем чеке заказа между группами по «очищенным» данным. Сделайте выводы и предположения.\n",
    "14. Примите решение по результатам теста и объясните его. Варианты решений:\n",
    "- Остановить тест, зафиксировать победу одной из групп.\n",
    "- Остановить тест, зафиксировать отсутствие различий между группами.\n",
    "- Продолжить тест."
   ]
  },
  {
   "cell_type": "code",
   "execution_count": 1,
   "metadata": {},
   "outputs": [],
   "source": [
    "import pandas as pd\n",
    "import scipy.stats as stats\n",
    "import datetime as dt\n",
    "import numpy as np\n",
    "import matplotlib.pyplot as plt\n",
    "import seaborn as sns\n",
    "from scipy import stats as st"
   ]
  },
  {
   "cell_type": "markdown",
   "metadata": {},
   "source": [
    "## Приоритизация гипотез"
   ]
  },
  {
   "cell_type": "markdown",
   "metadata": {},
   "source": [
    "Загрузим файл с гипотезам"
   ]
  },
  {
   "cell_type": "code",
   "execution_count": 2,
   "metadata": {},
   "outputs": [],
   "source": [
    "try:\n",
    "    data = pd.read_csv('/datasets/hypothesis.csv', sep=',')\n",
    "except:\n",
    "    data = pd.read_csv('https://code.s3.yandex.net/datasets/hypothesis.csv', sep=',')"
   ]
  },
  {
   "cell_type": "code",
   "execution_count": 3,
   "metadata": {},
   "outputs": [],
   "source": [
    "pd.set_option('max_colwidth', 130)"
   ]
  },
  {
   "cell_type": "code",
   "execution_count": 4,
   "metadata": {},
   "outputs": [
    {
     "data": {
      "text/html": [
       "<div>\n",
       "<style scoped>\n",
       "    .dataframe tbody tr th:only-of-type {\n",
       "        vertical-align: middle;\n",
       "    }\n",
       "\n",
       "    .dataframe tbody tr th {\n",
       "        vertical-align: top;\n",
       "    }\n",
       "\n",
       "    .dataframe thead th {\n",
       "        text-align: right;\n",
       "    }\n",
       "</style>\n",
       "<table border=\"1\" class=\"dataframe\">\n",
       "  <thead>\n",
       "    <tr style=\"text-align: right;\">\n",
       "      <th></th>\n",
       "      <th>Hypothesis</th>\n",
       "      <th>Reach</th>\n",
       "      <th>Impact</th>\n",
       "      <th>Confidence</th>\n",
       "      <th>Efforts</th>\n",
       "    </tr>\n",
       "  </thead>\n",
       "  <tbody>\n",
       "    <tr>\n",
       "      <th>0</th>\n",
       "      <td>Добавить два новых канала привлечения трафика, что позволит привлекать на 30% больше пользователей</td>\n",
       "      <td>3</td>\n",
       "      <td>10</td>\n",
       "      <td>8</td>\n",
       "      <td>6</td>\n",
       "    </tr>\n",
       "    <tr>\n",
       "      <th>1</th>\n",
       "      <td>Запустить собственную службу доставки, что сократит срок доставки заказов</td>\n",
       "      <td>2</td>\n",
       "      <td>5</td>\n",
       "      <td>4</td>\n",
       "      <td>10</td>\n",
       "    </tr>\n",
       "    <tr>\n",
       "      <th>2</th>\n",
       "      <td>Добавить блоки рекомендаций товаров на сайт интернет магазина, чтобы повысить конверсию и средний чек заказа</td>\n",
       "      <td>8</td>\n",
       "      <td>3</td>\n",
       "      <td>7</td>\n",
       "      <td>3</td>\n",
       "    </tr>\n",
       "    <tr>\n",
       "      <th>3</th>\n",
       "      <td>Изменить структура категорий, что увеличит конверсию, т.к. пользователи быстрее найдут нужный товар</td>\n",
       "      <td>8</td>\n",
       "      <td>3</td>\n",
       "      <td>3</td>\n",
       "      <td>8</td>\n",
       "    </tr>\n",
       "    <tr>\n",
       "      <th>4</th>\n",
       "      <td>Изменить цвет фона главной страницы, чтобы увеличить вовлеченность пользователей</td>\n",
       "      <td>3</td>\n",
       "      <td>1</td>\n",
       "      <td>1</td>\n",
       "      <td>1</td>\n",
       "    </tr>\n",
       "    <tr>\n",
       "      <th>5</th>\n",
       "      <td>Добавить страницу отзывов клиентов о магазине, что позволит увеличить количество заказов</td>\n",
       "      <td>3</td>\n",
       "      <td>2</td>\n",
       "      <td>2</td>\n",
       "      <td>3</td>\n",
       "    </tr>\n",
       "    <tr>\n",
       "      <th>6</th>\n",
       "      <td>Показать на главной странице баннеры с актуальными акциями и распродажами, чтобы увеличить конверсию</td>\n",
       "      <td>5</td>\n",
       "      <td>3</td>\n",
       "      <td>8</td>\n",
       "      <td>3</td>\n",
       "    </tr>\n",
       "    <tr>\n",
       "      <th>7</th>\n",
       "      <td>Добавить форму подписки на все основные страницы, чтобы собрать базу клиентов для email-рассылок</td>\n",
       "      <td>10</td>\n",
       "      <td>7</td>\n",
       "      <td>8</td>\n",
       "      <td>5</td>\n",
       "    </tr>\n",
       "    <tr>\n",
       "      <th>8</th>\n",
       "      <td>Запустить акцию, дающую скидку на товар в день рождения</td>\n",
       "      <td>1</td>\n",
       "      <td>9</td>\n",
       "      <td>9</td>\n",
       "      <td>5</td>\n",
       "    </tr>\n",
       "  </tbody>\n",
       "</table>\n",
       "</div>"
      ],
      "text/plain": [
       "                                                                                                     Hypothesis  \\\n",
       "0            Добавить два новых канала привлечения трафика, что позволит привлекать на 30% больше пользователей   \n",
       "1                                     Запустить собственную службу доставки, что сократит срок доставки заказов   \n",
       "2  Добавить блоки рекомендаций товаров на сайт интернет магазина, чтобы повысить конверсию и средний чек заказа   \n",
       "3           Изменить структура категорий, что увеличит конверсию, т.к. пользователи быстрее найдут нужный товар   \n",
       "4                              Изменить цвет фона главной страницы, чтобы увеличить вовлеченность пользователей   \n",
       "5                      Добавить страницу отзывов клиентов о магазине, что позволит увеличить количество заказов   \n",
       "6          Показать на главной странице баннеры с актуальными акциями и распродажами, чтобы увеличить конверсию   \n",
       "7              Добавить форму подписки на все основные страницы, чтобы собрать базу клиентов для email-рассылок   \n",
       "8                                                       Запустить акцию, дающую скидку на товар в день рождения   \n",
       "\n",
       "   Reach  Impact  Confidence  Efforts  \n",
       "0      3      10           8        6  \n",
       "1      2       5           4       10  \n",
       "2      8       3           7        3  \n",
       "3      8       3           3        8  \n",
       "4      3       1           1        1  \n",
       "5      3       2           2        3  \n",
       "6      5       3           8        3  \n",
       "7     10       7           8        5  \n",
       "8      1       9           9        5  "
      ]
     },
     "metadata": {},
     "output_type": "display_data"
    }
   ],
   "source": [
    "display(data)"
   ]
  },
  {
   "cell_type": "markdown",
   "metadata": {},
   "source": [
    "Приводим к нижнему регистру"
   ]
  },
  {
   "cell_type": "code",
   "execution_count": 5,
   "metadata": {},
   "outputs": [],
   "source": [
    "data.columns = data.columns.str.lower()"
   ]
  },
  {
   "cell_type": "markdown",
   "metadata": {},
   "source": [
    "Применим фреймворк ICE для приоритизации гипотез. Отсортируем их по убыванию приоритета"
   ]
  },
  {
   "cell_type": "code",
   "execution_count": 6,
   "metadata": {},
   "outputs": [],
   "source": [
    "data['ice'] = round(data['impact']*data['confidence']/data['efforts'], 2)"
   ]
  },
  {
   "cell_type": "code",
   "execution_count": 7,
   "metadata": {},
   "outputs": [],
   "source": [
    "pd.set_option('max_colwidth', 130)"
   ]
  },
  {
   "cell_type": "code",
   "execution_count": 8,
   "metadata": {},
   "outputs": [
    {
     "data": {
      "text/html": [
       "<div>\n",
       "<style scoped>\n",
       "    .dataframe tbody tr th:only-of-type {\n",
       "        vertical-align: middle;\n",
       "    }\n",
       "\n",
       "    .dataframe tbody tr th {\n",
       "        vertical-align: top;\n",
       "    }\n",
       "\n",
       "    .dataframe thead th {\n",
       "        text-align: right;\n",
       "    }\n",
       "</style>\n",
       "<table border=\"1\" class=\"dataframe\">\n",
       "  <thead>\n",
       "    <tr style=\"text-align: right;\">\n",
       "      <th></th>\n",
       "      <th>hypothesis</th>\n",
       "      <th>ice</th>\n",
       "    </tr>\n",
       "  </thead>\n",
       "  <tbody>\n",
       "    <tr>\n",
       "      <th>8</th>\n",
       "      <td>Запустить акцию, дающую скидку на товар в день рождения</td>\n",
       "      <td>16.20</td>\n",
       "    </tr>\n",
       "    <tr>\n",
       "      <th>0</th>\n",
       "      <td>Добавить два новых канала привлечения трафика, что позволит привлекать на 30% больше пользователей</td>\n",
       "      <td>13.33</td>\n",
       "    </tr>\n",
       "    <tr>\n",
       "      <th>7</th>\n",
       "      <td>Добавить форму подписки на все основные страницы, чтобы собрать базу клиентов для email-рассылок</td>\n",
       "      <td>11.20</td>\n",
       "    </tr>\n",
       "    <tr>\n",
       "      <th>6</th>\n",
       "      <td>Показать на главной странице баннеры с актуальными акциями и распродажами, чтобы увеличить конверсию</td>\n",
       "      <td>8.00</td>\n",
       "    </tr>\n",
       "    <tr>\n",
       "      <th>2</th>\n",
       "      <td>Добавить блоки рекомендаций товаров на сайт интернет магазина, чтобы повысить конверсию и средний чек заказа</td>\n",
       "      <td>7.00</td>\n",
       "    </tr>\n",
       "    <tr>\n",
       "      <th>1</th>\n",
       "      <td>Запустить собственную службу доставки, что сократит срок доставки заказов</td>\n",
       "      <td>2.00</td>\n",
       "    </tr>\n",
       "    <tr>\n",
       "      <th>5</th>\n",
       "      <td>Добавить страницу отзывов клиентов о магазине, что позволит увеличить количество заказов</td>\n",
       "      <td>1.33</td>\n",
       "    </tr>\n",
       "    <tr>\n",
       "      <th>3</th>\n",
       "      <td>Изменить структура категорий, что увеличит конверсию, т.к. пользователи быстрее найдут нужный товар</td>\n",
       "      <td>1.12</td>\n",
       "    </tr>\n",
       "    <tr>\n",
       "      <th>4</th>\n",
       "      <td>Изменить цвет фона главной страницы, чтобы увеличить вовлеченность пользователей</td>\n",
       "      <td>1.00</td>\n",
       "    </tr>\n",
       "  </tbody>\n",
       "</table>\n",
       "</div>"
      ],
      "text/plain": [
       "                                                                                                     hypothesis  \\\n",
       "8                                                       Запустить акцию, дающую скидку на товар в день рождения   \n",
       "0            Добавить два новых канала привлечения трафика, что позволит привлекать на 30% больше пользователей   \n",
       "7              Добавить форму подписки на все основные страницы, чтобы собрать базу клиентов для email-рассылок   \n",
       "6          Показать на главной странице баннеры с актуальными акциями и распродажами, чтобы увеличить конверсию   \n",
       "2  Добавить блоки рекомендаций товаров на сайт интернет магазина, чтобы повысить конверсию и средний чек заказа   \n",
       "1                                     Запустить собственную службу доставки, что сократит срок доставки заказов   \n",
       "5                      Добавить страницу отзывов клиентов о магазине, что позволит увеличить количество заказов   \n",
       "3           Изменить структура категорий, что увеличит конверсию, т.к. пользователи быстрее найдут нужный товар   \n",
       "4                              Изменить цвет фона главной страницы, чтобы увеличить вовлеченность пользователей   \n",
       "\n",
       "     ice  \n",
       "8  16.20  \n",
       "0  13.33  \n",
       "7  11.20  \n",
       "6   8.00  \n",
       "2   7.00  \n",
       "1   2.00  \n",
       "5   1.33  \n",
       "3   1.12  \n",
       "4   1.00  "
      ]
     },
     "metadata": {},
     "output_type": "display_data"
    }
   ],
   "source": [
    "display(data[['hypothesis','ice']].sort_values(by='ice', ascending=False))"
   ]
  },
  {
   "cell_type": "markdown",
   "metadata": {},
   "source": [
    "По фреймворку ICE наиболее приоритетными были гипотезы:\n",
    "\n",
    "- Запустить акцию, дающую скидку на товар в день рождения;\n",
    "\n",
    "- Добавить два новых канала привлечения трафика, что позволит привлекать на 30% больше пользователей;\n",
    "\n",
    "- Добавить форму подписки на все основные страницы, чтобы собрать базу клиентов для email-рассылок."
   ]
  },
  {
   "cell_type": "markdown",
   "metadata": {},
   "source": [
    "Применим фреймворк RICE для приоритизации гипотез. Отсортируем их по убыванию приоритета."
   ]
  },
  {
   "cell_type": "code",
   "execution_count": 9,
   "metadata": {},
   "outputs": [],
   "source": [
    "data['rice'] = data['reach']*data['impact']*data['confidence']/data['efforts']"
   ]
  },
  {
   "cell_type": "code",
   "execution_count": 10,
   "metadata": {},
   "outputs": [],
   "source": [
    "pd.set_option('max_colwidth', 130)"
   ]
  },
  {
   "cell_type": "code",
   "execution_count": 11,
   "metadata": {},
   "outputs": [
    {
     "data": {
      "text/html": [
       "<div>\n",
       "<style scoped>\n",
       "    .dataframe tbody tr th:only-of-type {\n",
       "        vertical-align: middle;\n",
       "    }\n",
       "\n",
       "    .dataframe tbody tr th {\n",
       "        vertical-align: top;\n",
       "    }\n",
       "\n",
       "    .dataframe thead th {\n",
       "        text-align: right;\n",
       "    }\n",
       "</style>\n",
       "<table border=\"1\" class=\"dataframe\">\n",
       "  <thead>\n",
       "    <tr style=\"text-align: right;\">\n",
       "      <th></th>\n",
       "      <th>hypothesis</th>\n",
       "      <th>rice</th>\n",
       "    </tr>\n",
       "  </thead>\n",
       "  <tbody>\n",
       "    <tr>\n",
       "      <th>7</th>\n",
       "      <td>Добавить форму подписки на все основные страницы, чтобы собрать базу клиентов для email-рассылок</td>\n",
       "      <td>112.0</td>\n",
       "    </tr>\n",
       "    <tr>\n",
       "      <th>2</th>\n",
       "      <td>Добавить блоки рекомендаций товаров на сайт интернет магазина, чтобы повысить конверсию и средний чек заказа</td>\n",
       "      <td>56.0</td>\n",
       "    </tr>\n",
       "    <tr>\n",
       "      <th>0</th>\n",
       "      <td>Добавить два новых канала привлечения трафика, что позволит привлекать на 30% больше пользователей</td>\n",
       "      <td>40.0</td>\n",
       "    </tr>\n",
       "    <tr>\n",
       "      <th>6</th>\n",
       "      <td>Показать на главной странице баннеры с актуальными акциями и распродажами, чтобы увеличить конверсию</td>\n",
       "      <td>40.0</td>\n",
       "    </tr>\n",
       "    <tr>\n",
       "      <th>8</th>\n",
       "      <td>Запустить акцию, дающую скидку на товар в день рождения</td>\n",
       "      <td>16.2</td>\n",
       "    </tr>\n",
       "    <tr>\n",
       "      <th>3</th>\n",
       "      <td>Изменить структура категорий, что увеличит конверсию, т.к. пользователи быстрее найдут нужный товар</td>\n",
       "      <td>9.0</td>\n",
       "    </tr>\n",
       "    <tr>\n",
       "      <th>1</th>\n",
       "      <td>Запустить собственную службу доставки, что сократит срок доставки заказов</td>\n",
       "      <td>4.0</td>\n",
       "    </tr>\n",
       "    <tr>\n",
       "      <th>5</th>\n",
       "      <td>Добавить страницу отзывов клиентов о магазине, что позволит увеличить количество заказов</td>\n",
       "      <td>4.0</td>\n",
       "    </tr>\n",
       "    <tr>\n",
       "      <th>4</th>\n",
       "      <td>Изменить цвет фона главной страницы, чтобы увеличить вовлеченность пользователей</td>\n",
       "      <td>3.0</td>\n",
       "    </tr>\n",
       "  </tbody>\n",
       "</table>\n",
       "</div>"
      ],
      "text/plain": [
       "                                                                                                     hypothesis  \\\n",
       "7              Добавить форму подписки на все основные страницы, чтобы собрать базу клиентов для email-рассылок   \n",
       "2  Добавить блоки рекомендаций товаров на сайт интернет магазина, чтобы повысить конверсию и средний чек заказа   \n",
       "0            Добавить два новых канала привлечения трафика, что позволит привлекать на 30% больше пользователей   \n",
       "6          Показать на главной странице баннеры с актуальными акциями и распродажами, чтобы увеличить конверсию   \n",
       "8                                                       Запустить акцию, дающую скидку на товар в день рождения   \n",
       "3           Изменить структура категорий, что увеличит конверсию, т.к. пользователи быстрее найдут нужный товар   \n",
       "1                                     Запустить собственную службу доставки, что сократит срок доставки заказов   \n",
       "5                      Добавить страницу отзывов клиентов о магазине, что позволит увеличить количество заказов   \n",
       "4                              Изменить цвет фона главной страницы, чтобы увеличить вовлеченность пользователей   \n",
       "\n",
       "    rice  \n",
       "7  112.0  \n",
       "2   56.0  \n",
       "0   40.0  \n",
       "6   40.0  \n",
       "8   16.2  \n",
       "3    9.0  \n",
       "1    4.0  \n",
       "5    4.0  \n",
       "4    3.0  "
      ]
     },
     "metadata": {},
     "output_type": "display_data"
    }
   ],
   "source": [
    "display(data[['hypothesis','rice']].sort_values(by='rice', ascending=False))"
   ]
  },
  {
   "cell_type": "markdown",
   "metadata": {},
   "source": [
    "по фреймворку RICE наиболее приоритетные гипотезы расположились следующим образом:\n",
    "\n",
    "- Добавить форму подписки на все основные страницы, чтобы собрать базу клиентов для email-рассылок;\n",
    "\n",
    "- Добавить блоки рекомендаций товаров на сайт интернет магазина, чтобы повысить конверсию и средний чек заказа;\n",
    "\n",
    "- Добавить два новых канала привлечения трафика, что позволит привлекать на 30% больше пользователей."
   ]
  },
  {
   "cell_type": "markdown",
   "metadata": {},
   "source": [
    "Вывод:\n",
    "\n",
    "По фреймворку ICE наиболее приоритетными были гипотезы:\n",
    "\n",
    "- Запустить акцию, дающую скидку на товар в день рождения;\n",
    "\n",
    "- Добавить два новых канала привлечения трафика, что позволит привлекать на 30% больше пользователей;\n",
    "\n",
    "- Добавить форму подписки на все основные страницы, чтобы собрать базу клиентов для email-рассылок.\n",
    "\n",
    "А по фреймворку RICE наиболее приоритетные гипотезы расположились следующим образом:\n",
    "\n",
    "- Добавить форму подписки на все основные страницы, чтобы собрать базу клиентов для email-рассылок;\n",
    "\n",
    "- Добавить блоки рекомендаций товаров на сайт интернет магазина, чтобы повысить конверсию и средний чек заказа;\n",
    "\n",
    "- Добавить два новых канала привлечения трафика, что позволит привлекать на 30% больше пользователей.\n",
    "\n",
    "Это произошло потому что фреймворк RICE учитывает параметр Reach (скольких пользователей затронет изменение, которое вы хотите внести), и в лидеры вышли гипотезы с наибольшим охватом пользователей. Для ICE этот критерий не учитывается."
   ]
  },
  {
   "cell_type": "markdown",
   "metadata": {},
   "source": [
    "## Анализ A/B-теста"
   ]
  },
  {
   "cell_type": "markdown",
   "metadata": {},
   "source": [
    "### График кумулятивной выручки по группам"
   ]
  },
  {
   "cell_type": "markdown",
   "metadata": {},
   "source": [
    "Для начала запишем данные из имеющихся датафреймов в переменные orders и visitors соответственно и посмотрим как выглядят таблицы."
   ]
  },
  {
   "cell_type": "code",
   "execution_count": 12,
   "metadata": {},
   "outputs": [],
   "source": [
    "try:\n",
    "    orders = pd.read_csv('/datasets/orders.csv', sep=',')\n",
    "except:\n",
    "    orders = pd.read_csv('https://code.s3.yandex.net/datasets/orders.csv', sep=',')"
   ]
  },
  {
   "cell_type": "code",
   "execution_count": 13,
   "metadata": {},
   "outputs": [
    {
     "data": {
      "text/html": [
       "<div>\n",
       "<style scoped>\n",
       "    .dataframe tbody tr th:only-of-type {\n",
       "        vertical-align: middle;\n",
       "    }\n",
       "\n",
       "    .dataframe tbody tr th {\n",
       "        vertical-align: top;\n",
       "    }\n",
       "\n",
       "    .dataframe thead th {\n",
       "        text-align: right;\n",
       "    }\n",
       "</style>\n",
       "<table border=\"1\" class=\"dataframe\">\n",
       "  <thead>\n",
       "    <tr style=\"text-align: right;\">\n",
       "      <th></th>\n",
       "      <th>transactionId</th>\n",
       "      <th>visitorId</th>\n",
       "      <th>date</th>\n",
       "      <th>revenue</th>\n",
       "      <th>group</th>\n",
       "    </tr>\n",
       "  </thead>\n",
       "  <tbody>\n",
       "    <tr>\n",
       "      <th>0</th>\n",
       "      <td>3667963787</td>\n",
       "      <td>3312258926</td>\n",
       "      <td>2019-08-15</td>\n",
       "      <td>1650</td>\n",
       "      <td>B</td>\n",
       "    </tr>\n",
       "    <tr>\n",
       "      <th>1</th>\n",
       "      <td>2804400009</td>\n",
       "      <td>3642806036</td>\n",
       "      <td>2019-08-15</td>\n",
       "      <td>730</td>\n",
       "      <td>B</td>\n",
       "    </tr>\n",
       "    <tr>\n",
       "      <th>2</th>\n",
       "      <td>2961555356</td>\n",
       "      <td>4069496402</td>\n",
       "      <td>2019-08-15</td>\n",
       "      <td>400</td>\n",
       "      <td>A</td>\n",
       "    </tr>\n",
       "    <tr>\n",
       "      <th>3</th>\n",
       "      <td>3797467345</td>\n",
       "      <td>1196621759</td>\n",
       "      <td>2019-08-15</td>\n",
       "      <td>9759</td>\n",
       "      <td>B</td>\n",
       "    </tr>\n",
       "    <tr>\n",
       "      <th>4</th>\n",
       "      <td>2282983706</td>\n",
       "      <td>2322279887</td>\n",
       "      <td>2019-08-15</td>\n",
       "      <td>2308</td>\n",
       "      <td>B</td>\n",
       "    </tr>\n",
       "  </tbody>\n",
       "</table>\n",
       "</div>"
      ],
      "text/plain": [
       "   transactionId   visitorId        date  revenue group\n",
       "0     3667963787  3312258926  2019-08-15     1650     B\n",
       "1     2804400009  3642806036  2019-08-15      730     B\n",
       "2     2961555356  4069496402  2019-08-15      400     A\n",
       "3     3797467345  1196621759  2019-08-15     9759     B\n",
       "4     2282983706  2322279887  2019-08-15     2308     B"
      ]
     },
     "execution_count": 13,
     "metadata": {},
     "output_type": "execute_result"
    }
   ],
   "source": [
    "orders.head()"
   ]
  },
  {
   "cell_type": "code",
   "execution_count": 14,
   "metadata": {},
   "outputs": [
    {
     "name": "stdout",
     "output_type": "stream",
     "text": [
      "<class 'pandas.core.frame.DataFrame'>\n",
      "RangeIndex: 1197 entries, 0 to 1196\n",
      "Data columns (total 5 columns):\n",
      " #   Column         Non-Null Count  Dtype \n",
      "---  ------         --------------  ----- \n",
      " 0   transactionId  1197 non-null   int64 \n",
      " 1   visitorId      1197 non-null   int64 \n",
      " 2   date           1197 non-null   object\n",
      " 3   revenue        1197 non-null   int64 \n",
      " 4   group          1197 non-null   object\n",
      "dtypes: int64(3), object(2)\n",
      "memory usage: 46.9+ KB\n"
     ]
    }
   ],
   "source": [
    "orders.info()"
   ]
  },
  {
   "cell_type": "code",
   "execution_count": 15,
   "metadata": {},
   "outputs": [
    {
     "name": "stdout",
     "output_type": "stream",
     "text": [
      "transactionId    0\n",
      "visitorId        0\n",
      "date             0\n",
      "revenue          0\n",
      "group            0\n",
      "dtype: int64\n"
     ]
    }
   ],
   "source": [
    " print(orders.isna().sum())"
   ]
  },
  {
   "cell_type": "code",
   "execution_count": 16,
   "metadata": {},
   "outputs": [
    {
     "name": "stdout",
     "output_type": "stream",
     "text": [
      "0\n"
     ]
    }
   ],
   "source": [
    "print(orders.duplicated().sum())"
   ]
  },
  {
   "cell_type": "code",
   "execution_count": 17,
   "metadata": {},
   "outputs": [],
   "source": [
    "try:\n",
    "    visitors = pd.read_csv('/datasets/visitors.csv', sep=',')\n",
    "except:\n",
    "    visitors = pd.read_csv('https://code.s3.yandex.net/datasets/visitors.csv', sep=',')"
   ]
  },
  {
   "cell_type": "code",
   "execution_count": 18,
   "metadata": {},
   "outputs": [
    {
     "data": {
      "text/html": [
       "<div>\n",
       "<style scoped>\n",
       "    .dataframe tbody tr th:only-of-type {\n",
       "        vertical-align: middle;\n",
       "    }\n",
       "\n",
       "    .dataframe tbody tr th {\n",
       "        vertical-align: top;\n",
       "    }\n",
       "\n",
       "    .dataframe thead th {\n",
       "        text-align: right;\n",
       "    }\n",
       "</style>\n",
       "<table border=\"1\" class=\"dataframe\">\n",
       "  <thead>\n",
       "    <tr style=\"text-align: right;\">\n",
       "      <th></th>\n",
       "      <th>date</th>\n",
       "      <th>group</th>\n",
       "      <th>visitors</th>\n",
       "    </tr>\n",
       "  </thead>\n",
       "  <tbody>\n",
       "    <tr>\n",
       "      <th>0</th>\n",
       "      <td>2019-08-01</td>\n",
       "      <td>A</td>\n",
       "      <td>719</td>\n",
       "    </tr>\n",
       "    <tr>\n",
       "      <th>1</th>\n",
       "      <td>2019-08-02</td>\n",
       "      <td>A</td>\n",
       "      <td>619</td>\n",
       "    </tr>\n",
       "    <tr>\n",
       "      <th>2</th>\n",
       "      <td>2019-08-03</td>\n",
       "      <td>A</td>\n",
       "      <td>507</td>\n",
       "    </tr>\n",
       "    <tr>\n",
       "      <th>3</th>\n",
       "      <td>2019-08-04</td>\n",
       "      <td>A</td>\n",
       "      <td>717</td>\n",
       "    </tr>\n",
       "    <tr>\n",
       "      <th>4</th>\n",
       "      <td>2019-08-05</td>\n",
       "      <td>A</td>\n",
       "      <td>756</td>\n",
       "    </tr>\n",
       "  </tbody>\n",
       "</table>\n",
       "</div>"
      ],
      "text/plain": [
       "         date group  visitors\n",
       "0  2019-08-01     A       719\n",
       "1  2019-08-02     A       619\n",
       "2  2019-08-03     A       507\n",
       "3  2019-08-04     A       717\n",
       "4  2019-08-05     A       756"
      ]
     },
     "execution_count": 18,
     "metadata": {},
     "output_type": "execute_result"
    }
   ],
   "source": [
    "visitors.head()"
   ]
  },
  {
   "cell_type": "code",
   "execution_count": 19,
   "metadata": {},
   "outputs": [
    {
     "name": "stdout",
     "output_type": "stream",
     "text": [
      "<class 'pandas.core.frame.DataFrame'>\n",
      "RangeIndex: 62 entries, 0 to 61\n",
      "Data columns (total 3 columns):\n",
      " #   Column    Non-Null Count  Dtype \n",
      "---  ------    --------------  ----- \n",
      " 0   date      62 non-null     object\n",
      " 1   group     62 non-null     object\n",
      " 2   visitors  62 non-null     int64 \n",
      "dtypes: int64(1), object(2)\n",
      "memory usage: 1.6+ KB\n"
     ]
    }
   ],
   "source": [
    "visitors.info()"
   ]
  },
  {
   "cell_type": "code",
   "execution_count": 20,
   "metadata": {},
   "outputs": [
    {
     "name": "stdout",
     "output_type": "stream",
     "text": [
      "date        0\n",
      "group       0\n",
      "visitors    0\n",
      "dtype: int64\n"
     ]
    }
   ],
   "source": [
    "print(visitors.isna().sum())"
   ]
  },
  {
   "cell_type": "code",
   "execution_count": 21,
   "metadata": {},
   "outputs": [
    {
     "name": "stdout",
     "output_type": "stream",
     "text": [
      "0\n"
     ]
    }
   ],
   "source": [
    "print(visitors.duplicated().sum())"
   ]
  },
  {
   "cell_type": "markdown",
   "metadata": {},
   "source": [
    "Приведем тип данных в столбцах date в обоих датафреймах к типу datetime"
   ]
  },
  {
   "cell_type": "code",
   "execution_count": 22,
   "metadata": {},
   "outputs": [],
   "source": [
    "orders['date'] = orders['date'].map(\n",
    "    lambda x: dt.datetime.strptime(x, '%Y-%m-%d')\n",
    ")"
   ]
  },
  {
   "cell_type": "code",
   "execution_count": 23,
   "metadata": {},
   "outputs": [],
   "source": [
    "visitors['date'] = visitors['date'].map(\n",
    "    lambda x: dt.datetime.strptime(x, '%Y-%m-%d')\n",
    ")"
   ]
  },
  {
   "cell_type": "code",
   "execution_count": 24,
   "metadata": {},
   "outputs": [
    {
     "name": "stdout",
     "output_type": "stream",
     "text": [
      "<class 'pandas.core.frame.DataFrame'>\n",
      "RangeIndex: 1197 entries, 0 to 1196\n",
      "Data columns (total 5 columns):\n",
      " #   Column         Non-Null Count  Dtype         \n",
      "---  ------         --------------  -----         \n",
      " 0   transactionId  1197 non-null   int64         \n",
      " 1   visitorId      1197 non-null   int64         \n",
      " 2   date           1197 non-null   datetime64[ns]\n",
      " 3   revenue        1197 non-null   int64         \n",
      " 4   group          1197 non-null   object        \n",
      "dtypes: datetime64[ns](1), int64(3), object(1)\n",
      "memory usage: 46.9+ KB\n"
     ]
    }
   ],
   "source": [
    "orders.info()"
   ]
  },
  {
   "cell_type": "code",
   "execution_count": 25,
   "metadata": {},
   "outputs": [
    {
     "name": "stdout",
     "output_type": "stream",
     "text": [
      "<class 'pandas.core.frame.DataFrame'>\n",
      "RangeIndex: 62 entries, 0 to 61\n",
      "Data columns (total 3 columns):\n",
      " #   Column    Non-Null Count  Dtype         \n",
      "---  ------    --------------  -----         \n",
      " 0   date      62 non-null     datetime64[ns]\n",
      " 1   group     62 non-null     object        \n",
      " 2   visitors  62 non-null     int64         \n",
      "dtypes: datetime64[ns](1), int64(1), object(1)\n",
      "memory usage: 1.6+ KB\n"
     ]
    }
   ],
   "source": [
    "visitors.info()"
   ]
  },
  {
   "cell_type": "code",
   "execution_count": 26,
   "metadata": {},
   "outputs": [
    {
     "name": "stdout",
     "output_type": "stream",
     "text": [
      "['B' 'A']\n"
     ]
    }
   ],
   "source": [
    "print(orders['group'].unique())"
   ]
  },
  {
   "cell_type": "markdown",
   "metadata": {},
   "source": [
    "В АВ-тесте присутсвуют 2 группы"
   ]
  },
  {
   "cell_type": "code",
   "execution_count": 27,
   "metadata": {},
   "outputs": [
    {
     "name": "stdout",
     "output_type": "stream",
     "text": [
      "2019-08-01 00:00:00\n"
     ]
    }
   ],
   "source": [
    "print(orders['date'].min())"
   ]
  },
  {
   "cell_type": "code",
   "execution_count": 28,
   "metadata": {},
   "outputs": [
    {
     "name": "stdout",
     "output_type": "stream",
     "text": [
      "2019-08-31 00:00:00\n"
     ]
    }
   ],
   "source": [
    "print(orders['date'].max())"
   ]
  },
  {
   "cell_type": "markdown",
   "metadata": {},
   "source": [
    "Начало теста 2019-08-01, конец 2019-08-31."
   ]
  },
  {
   "cell_type": "code",
   "execution_count": 29,
   "metadata": {},
   "outputs": [],
   "source": [
    "group_ab = orders.groupby('group')['visitorId'].nunique()"
   ]
  },
  {
   "cell_type": "code",
   "execution_count": 30,
   "metadata": {},
   "outputs": [
    {
     "name": "stdout",
     "output_type": "stream",
     "text": [
      "group\n",
      "A    503\n",
      "B    586\n",
      "Name: visitorId, dtype: int64\n"
     ]
    }
   ],
   "source": [
    "print(group_ab)"
   ]
  },
  {
   "cell_type": "markdown",
   "metadata": {},
   "source": [
    "Группы не равномерны, в группе \"В\" больше пользователей."
   ]
  },
  {
   "cell_type": "markdown",
   "metadata": {},
   "source": [
    "Cоздаем массив уникальных пар значений дат и групп теста"
   ]
  },
  {
   "cell_type": "code",
   "execution_count": 35,
   "metadata": {},
   "outputs": [],
   "source": [
    "datesGroups = orders[['date','group']].drop_duplicates()"
   ]
  },
  {
   "cell_type": "markdown",
   "metadata": {},
   "source": [
    "Получим строки таблицы orders, дата которых меньше или равна дате элемента из datesGroups, а группа теста равна группе из datesGroups.\n",
    "\n",
    "Результат запишем в датафрейм ordersAgregated"
   ]
  },
  {
   "cell_type": "code",
   "execution_count": 36,
   "metadata": {},
   "outputs": [],
   "source": [
    "ordersAggregated = datesGroups.apply(\n",
    "    lambda x: orders[\n",
    "        np.logical_and(\n",
    "            orders['date'] <= x['date'], orders['group'] == x['group']\n",
    "        )\n",
    "    ].agg(\n",
    "        {\n",
    "            'date': 'max',\n",
    "            'group': 'max',\n",
    "            'transactionId' : 'nunique', \n",
    "            'visitorId' : 'nunique', \n",
    "            'revenue' : 'sum'\n",
    "        }\n",
    "    ),\n",
    "    axis=1,\n",
    ").sort_values(by=['date', 'group'])"
   ]
  },
  {
   "cell_type": "markdown",
   "metadata": {},
   "source": [
    "Аналогично visitorsAggregated"
   ]
  },
  {
   "cell_type": "code",
   "execution_count": 37,
   "metadata": {},
   "outputs": [],
   "source": [
    "visitorsAggregated = datesGroups.apply(\n",
    "    lambda x: visitors[\n",
    "        np.logical_and(\n",
    "            visitors['date'] <= x['date'], visitors['group'] == x['group']\n",
    "        )\n",
    "    ].agg({'date': 'max', 'group': 'max', 'visitors': 'sum'}),\n",
    "    axis=1,\n",
    ").sort_values(by=['date', 'group'])"
   ]
  },
  {
   "cell_type": "markdown",
   "metadata": {},
   "source": [
    "Объединяем кумулятивные данные в одной таблице и присваиваем ее столбцам понятные названия"
   ]
  },
  {
   "cell_type": "code",
   "execution_count": 38,
   "metadata": {},
   "outputs": [],
   "source": [
    "cumulativeData = ordersAggregated.merge(visitorsAggregated, left_on=['date', 'group'], right_on=['date', 'group'])"
   ]
  },
  {
   "cell_type": "code",
   "execution_count": 39,
   "metadata": {},
   "outputs": [],
   "source": [
    "cumulativeData.columns = ['date', 'group', 'orders', 'buyers', 'revenue', 'visitors']"
   ]
  },
  {
   "cell_type": "code",
   "execution_count": 40,
   "metadata": {},
   "outputs": [
    {
     "name": "stdout",
     "output_type": "stream",
     "text": [
      "        date group  orders  buyers  revenue  visitors\n",
      "0 2019-08-01     A      24      20   148579       719\n",
      "1 2019-08-01     B      21      20   101217       713\n",
      "2 2019-08-02     A      44      38   242401      1338\n",
      "3 2019-08-02     B      45      43   266748      1294\n",
      "4 2019-08-03     A      68      62   354874      1845\n"
     ]
    }
   ],
   "source": [
    "print(cumulativeData.head())"
   ]
  },
  {
   "cell_type": "code",
   "execution_count": 41,
   "metadata": {},
   "outputs": [
    {
     "name": "stdout",
     "output_type": "stream",
     "text": [
      "2019-08-01 00:00:00\n"
     ]
    }
   ],
   "source": [
    "print(cumulativeData['date'].min())"
   ]
  },
  {
   "cell_type": "code",
   "execution_count": 42,
   "metadata": {},
   "outputs": [
    {
     "name": "stdout",
     "output_type": "stream",
     "text": [
      "2019-08-31 00:00:00\n"
     ]
    }
   ],
   "source": [
    "print(cumulativeData['date'].max())"
   ]
  },
  {
   "cell_type": "markdown",
   "metadata": {},
   "source": [
    "Минимальная и максимальная даты в датафрейме cumulativeData совпадает с минимальной и максимальной датой в исходных данных."
   ]
  },
  {
   "cell_type": "markdown",
   "metadata": {},
   "source": [
    "График кумулятивной выручки по группам"
   ]
  },
  {
   "cell_type": "code",
   "execution_count": 43,
   "metadata": {},
   "outputs": [],
   "source": [
    "sns.set(font_scale=2, style='whitegrid', rc={'figure.figsize':(15,7)})"
   ]
  },
  {
   "cell_type": "code",
   "execution_count": 44,
   "metadata": {},
   "outputs": [],
   "source": [
    "# датафрейм с кумулятивным количеством заказов и кумулятивной выручкой по дням в группе А\n",
    "cumulativeRevenueA = cumulativeData[cumulativeData['group']=='A'][['date','revenue', 'orders']]"
   ]
  },
  {
   "cell_type": "code",
   "execution_count": 45,
   "metadata": {},
   "outputs": [],
   "source": [
    "# датафрейм с кумулятивным количеством заказов и кумулятивной выручкой по дням в группе B\n",
    "cumulativeRevenueB = cumulativeData[cumulativeData['group']=='B'][['date','revenue', 'orders']]"
   ]
  },
  {
   "cell_type": "code",
   "execution_count": 46,
   "metadata": {},
   "outputs": [
    {
     "data": {
      "text/plain": [
       "<matplotlib.legend.Legend at 0x7fc9dbb7ee50>"
      ]
     },
     "execution_count": 46,
     "metadata": {},
     "output_type": "execute_result"
    },
    {
     "data": {
      "image/png": "[encoded data removed]",
      "text/plain": [
       "<Figure size 1080x504 with 1 Axes>"
      ]
     },
     "metadata": {},
     "output_type": "display_data"
    }
   ],
   "source": [
    "# Строим график выручки группы А\n",
    "plt.plot(cumulativeRevenueA['date'], cumulativeRevenueA['revenue'], label='A')\n",
    "\n",
    "# Строим график выручки группы B\n",
    "plt.plot(cumulativeRevenueB['date'], cumulativeRevenueB['revenue'], label='B')\n",
    "\n",
    "# размер шрифта по оси х\n",
    "plt.tick_params(axis='x', which='major', labelsize=15)\n",
    "\n",
    "plt.title('График кумулятивной выручки по группам')\n",
    "plt.xlabel('Дата')\n",
    "plt.ylabel('Выручка')\n",
    "plt.legend()"
   ]
  },
  {
   "cell_type": "markdown",
   "metadata": {},
   "source": [
    "Исходя из графика можно сказать, что: \n",
    "    \n",
    "- выручка стабильно растет на протяжении всего теста в обоих группах;\n",
    "\n",
    "- в начале теста метрика имеют близкие значения в обоих группах;\n",
    "\n",
    "- у группы B наблюдается резкий всплеск после 17.08, который может быть связан с резким увеличением заказов в этот день, либо о появлении очень дорогих заказов в выборке;\n",
    "\n",
    "- после выброса в группе B выручки в обоих группах стабилизируются и растут практически одинаково;\n",
    "\n",
    "- Однозначно утверждать, что группа B лучше на данном шаге нельзя."
   ]
  },
  {
   "cell_type": "markdown",
   "metadata": {},
   "source": [
    "### График кумулятивного среднего чека по группам"
   ]
  },
  {
   "cell_type": "code",
   "execution_count": 47,
   "metadata": {},
   "outputs": [],
   "source": [
    "sns.set(font_scale=2, style='whitegrid', rc={'figure.figsize':(15,7)})"
   ]
  },
  {
   "cell_type": "code",
   "execution_count": 48,
   "metadata": {},
   "outputs": [
    {
     "data": {
      "text/plain": [
       "<matplotlib.legend.Legend at 0x7fc9d3ad5d60>"
      ]
     },
     "execution_count": 48,
     "metadata": {},
     "output_type": "execute_result"
    },
    {
     "data": {
      "image/png": "[encoded data removed]",
      "text/plain": [
       "<Figure size 1080x504 with 1 Axes>"
      ]
     },
     "metadata": {},
     "output_type": "display_data"
    }
   ],
   "source": [
    "# график среднего чека группы А\n",
    "plt.plot(cumulativeRevenueA['date'], cumulativeRevenueA['revenue']/cumulativeRevenueA['orders'], label='A')\n",
    "\n",
    "# график среднего чека группы В\n",
    "plt.plot(cumulativeRevenueB['date'], cumulativeRevenueB['revenue']/cumulativeRevenueB['orders'], label='B')\n",
    "\n",
    "# размер шрифта по оси x\n",
    "plt.tick_params(axis='x', which='major', labelsize=15)\n",
    "\n",
    "plt.title('График кумулятивного среднего чека по группам')\n",
    "plt.xlabel('Дата')\n",
    "plt.ylabel('Кумулятивный cредний чек')\n",
    "plt.legend()"
   ]
  },
  {
   "cell_type": "markdown",
   "metadata": {},
   "source": [
    "В целом к концу теста метрика стабилизируется в обоих группах.\n",
    "\n",
    "Группа А, в отличии от группы В более равномерна, к концу теста средний чек почти сравнялся с максимальным значением, достигнутым 13 августа.\n",
    "\n",
    "Выделяется аномальный рост среднего чека 18-19 августа по группе В, а затем снижение. Возможно, в группу B в первой половине теста попали крупные заказы (резкий всплеск на графике). Тогда ей нужно больше данных, чтобы прийти к реальному среднему чеку и установиться на его уровне."
   ]
  },
  {
   "cell_type": "markdown",
   "metadata": {},
   "source": [
    "### График относительного изменения кумулятивного среднего чека группы В к группе А"
   ]
  },
  {
   "cell_type": "markdown",
   "metadata": {},
   "source": [
    "Построим график относительного различия для среднего чека."
   ]
  },
  {
   "cell_type": "code",
   "execution_count": 49,
   "metadata": {},
   "outputs": [],
   "source": [
    "sns.set(font_scale=2, style='whitegrid', rc={'figure.figsize':(15,7)})"
   ]
  },
  {
   "cell_type": "code",
   "execution_count": 50,
   "metadata": {},
   "outputs": [
    {
     "data": {
      "text/plain": [
       "Text(0, 0.5, 'Кумулятивный cредний чек')"
      ]
     },
     "execution_count": 50,
     "metadata": {},
     "output_type": "execute_result"
    },
    {
     "data": {
      "image/png": "[encoded data removed]",
      "text/plain": [
       "<Figure size 1080x504 with 1 Axes>"
      ]
     },
     "metadata": {},
     "output_type": "display_data"
    }
   ],
   "source": [
    "# собираем данные в одном датафрейме\n",
    "mergedCumulativeRevenue = cumulativeRevenueA.merge(cumulativeRevenueB, left_on='date', right_on='date', how='left', suffixes=['A', 'B'])\n",
    "\n",
    "# cтроим отношение средних чеков\n",
    "plt.plot(mergedCumulativeRevenue['date'], (mergedCumulativeRevenue['revenueB']/mergedCumulativeRevenue['ordersB'])/(mergedCumulativeRevenue['revenueA']/mergedCumulativeRevenue['ordersA'])-1)\n",
    "\n",
    "# добавляем ось X\n",
    "plt.axhline(y=0, color='black', linestyle='--')\n",
    "\n",
    "# размер шрифта по оси x\n",
    "plt.tick_params(axis='x', which='major', labelsize=15)\n",
    "\n",
    "plt.title('График относительного изменения кумулятивного среднего чека группы B к группе A')\n",
    "plt.xlabel('Дата')\n",
    "plt.ylabel('Кумулятивный cредний чек')"
   ]
  },
  {
   "cell_type": "markdown",
   "metadata": {},
   "source": [
    "На графике видим резкие скачки, это может значит, что именно в пиковый дни на графике, были сделаны анамально дорогие заказы."
   ]
  },
  {
   "cell_type": "markdown",
   "metadata": {},
   "source": [
    "### График кумулятивного среднего количества заказов на посетителя по группам"
   ]
  },
  {
   "cell_type": "code",
   "execution_count": 51,
   "metadata": {},
   "outputs": [
    {
     "data": {
      "text/plain": [
       "Text(0, 0.5, 'Кумулятивная конверсия')"
      ]
     },
     "execution_count": 51,
     "metadata": {},
     "output_type": "execute_result"
    },
    {
     "data": {
      "image/png": "[encoded data removed]",
      "text/plain": [
       "<Figure size 1080x504 with 1 Axes>"
      ]
     },
     "metadata": {},
     "output_type": "display_data"
    }
   ],
   "source": [
    "# считаем кумулятивную конверсию\n",
    "cumulativeData['conversion'] = cumulativeData['orders']/cumulativeData['visitors']\n",
    "\n",
    "# отделяем данные по группе A\n",
    "cumulativeDataA = cumulativeData[cumulativeData['group']=='A']\n",
    "\n",
    "# отделяем данные по группе B\n",
    "cumulativeDataB = cumulativeData[cumulativeData['group']=='B']\n",
    "\n",
    "# строим графики\n",
    "plt.plot(cumulativeDataA['date'], cumulativeDataA['conversion'], label='A')\n",
    "plt.plot(cumulativeDataB['date'], cumulativeDataB['conversion'], label='B')\n",
    "plt.legend()\n",
    "\n",
    "# размер шрифта по оси x\n",
    "plt.tick_params(axis='x', which='major', labelsize=15)\n",
    "\n",
    "# задаем масштаб осей\n",
    "plt.axis([dt.datetime(2019, 8, 1), dt.datetime(2019, 9, 1), 0.020, 0.038])\n",
    "\n",
    "plt.title('График кумулятивного среднего количества заказов на посетителя по группам')\n",
    "plt.xlabel('Дата')\n",
    "plt.ylabel('Кумулятивная конверсия')"
   ]
  },
  {
   "cell_type": "markdown",
   "metadata": {},
   "source": [
    "В начале теста наблюдаем заметные колебания. В начале конверсия у группы А была больше группы B, но уже к концу первой недели тестирования конверсия группы В выросла, а группы А снизилась, после чего графики начали стремиться к стабилизации\n",
    "К 11-12 августа различие в конверсии у обоих групп становится очевидно, и начинает фиксироваться.\n",
    "Примерно к 20 августа колебания максимально сглаживаются.\n",
    "В целом, конверсия у группы В стабильно лучше по накопленным показателям чем A."
   ]
  },
  {
   "cell_type": "markdown",
   "metadata": {},
   "source": [
    "### График относительного изменения кумулятивного среднего количества заказов на посетителя группы B к группе A"
   ]
  },
  {
   "cell_type": "markdown",
   "metadata": {},
   "source": [
    "Построим график относительного изменения кумулятивных конверсий"
   ]
  },
  {
   "cell_type": "code",
   "execution_count": 52,
   "metadata": {},
   "outputs": [],
   "source": [
    "sns.set(font_scale=2, style='whitegrid', rc={'figure.figsize':(25,10)})"
   ]
  },
  {
   "cell_type": "code",
   "execution_count": 53,
   "metadata": {},
   "outputs": [
    {
     "data": {
      "text/plain": [
       "Text(0, 0.5, 'Кумулятивная конверсия')"
      ]
     },
     "execution_count": 53,
     "metadata": {},
     "output_type": "execute_result"
    },
    {
     "data": {
      "image/png": "[encoded data removed]",
      "text/plain": [
       "<Figure size 1800x720 with 1 Axes>"
      ]
     },
     "metadata": {},
     "output_type": "display_data"
    }
   ],
   "source": [
    "mergedCumulativeConversions = cumulativeDataA[['date','conversion']].merge(cumulativeDataB[['date','conversion']], left_on='date', right_on='date', how='left', suffixes=['A', 'B'])\n",
    "\n",
    "plt.plot(mergedCumulativeConversions['date'], mergedCumulativeConversions['conversionB']/mergedCumulativeConversions['conversionA']-1, label=\"Относительный прирост среднего количества заказов на посетителя B относительно группы A\")\n",
    "plt.legend()\n",
    "\n",
    "plt.axhline(y=0, color='black', linestyle='--')\n",
    "plt.axhline(y=0.1, color='grey', linestyle='--')\n",
    "plt.axis([dt.datetime(2019, 8, 1), dt.datetime(2019, 9, 1), -0.3, 0.3])\n",
    "\n",
    "# размер шрифта по оси x\n",
    "plt.tick_params(axis='x', which='major', labelsize=15)\n",
    "\n",
    "plt.title('График относительного изменения кумулятивного среднего количества заказов на посетителя группы B к группе A')\n",
    "plt.xlabel('Дата')\n",
    "plt.ylabel('Кумулятивная конверсия')"
   ]
  },
  {
   "cell_type": "markdown",
   "metadata": {},
   "source": [
    "График различия конверсии между группами сообщает, что результаты группы B лучше группы A: имеют тенденцию к росту.\n",
    "C самого начала теста, метрика группа В меньше группы А, но с 6 августа вырвалась вперед и стабильно росла до своего пика 15.08 в 21%, далее метрика начинается снижаться и стремиться к стабилизации.\n",
    "В целом отношение конверсии стремится примерно к уровню 13-17% в пользу B, но в последние дни теста еще растет. Скорее всего отношение конверсии еще полностью не установилось, и сейчас делать какие-либо однозначные выводы по тесту еще нельзя, но на первый взгляд B выглядит интереснее в плане конверсии."
   ]
  },
  {
   "cell_type": "markdown",
   "metadata": {},
   "source": [
    "### Точечный график количества заказов по пользователям"
   ]
  },
  {
   "cell_type": "markdown",
   "metadata": {},
   "source": [
    "Для начала посмотрим топ количества заказов в табличном виде"
   ]
  },
  {
   "cell_type": "code",
   "execution_count": 54,
   "metadata": {},
   "outputs": [],
   "source": [
    "ordersByUsers = (orders.groupby('visitorId', as_index=False).agg({'transactionId': pd.Series.nunique}))"
   ]
  },
  {
   "cell_type": "code",
   "execution_count": 55,
   "metadata": {},
   "outputs": [],
   "source": [
    "ordersByUsers.columns = ['visitorId', 'orders']"
   ]
  },
  {
   "cell_type": "code",
   "execution_count": 56,
   "metadata": {},
   "outputs": [
    {
     "data": {
      "text/html": [
       "<div>\n",
       "<style scoped>\n",
       "    .dataframe tbody tr th:only-of-type {\n",
       "        vertical-align: middle;\n",
       "    }\n",
       "\n",
       "    .dataframe tbody tr th {\n",
       "        vertical-align: top;\n",
       "    }\n",
       "\n",
       "    .dataframe thead th {\n",
       "        text-align: right;\n",
       "    }\n",
       "</style>\n",
       "<table border=\"1\" class=\"dataframe\">\n",
       "  <thead>\n",
       "    <tr style=\"text-align: right;\">\n",
       "      <th></th>\n",
       "      <th>visitorId</th>\n",
       "      <th>orders</th>\n",
       "    </tr>\n",
       "  </thead>\n",
       "  <tbody>\n",
       "    <tr>\n",
       "      <th>1023</th>\n",
       "      <td>4256040402</td>\n",
       "      <td>11</td>\n",
       "    </tr>\n",
       "    <tr>\n",
       "      <th>591</th>\n",
       "      <td>2458001652</td>\n",
       "      <td>11</td>\n",
       "    </tr>\n",
       "    <tr>\n",
       "      <th>569</th>\n",
       "      <td>2378935119</td>\n",
       "      <td>9</td>\n",
       "    </tr>\n",
       "    <tr>\n",
       "      <th>487</th>\n",
       "      <td>2038680547</td>\n",
       "      <td>8</td>\n",
       "    </tr>\n",
       "    <tr>\n",
       "      <th>44</th>\n",
       "      <td>199603092</td>\n",
       "      <td>5</td>\n",
       "    </tr>\n",
       "  </tbody>\n",
       "</table>\n",
       "</div>"
      ],
      "text/plain": [
       "       visitorId  orders\n",
       "1023  4256040402      11\n",
       "591   2458001652      11\n",
       "569   2378935119       9\n",
       "487   2038680547       8\n",
       "44     199603092       5"
      ]
     },
     "execution_count": 56,
     "metadata": {},
     "output_type": "execute_result"
    }
   ],
   "source": [
    "ordersByUsers.sort_values(by='orders', ascending=False).head()"
   ]
  },
  {
   "cell_type": "markdown",
   "metadata": {},
   "source": [
    "Теперь построим точечный график количества заказов по пользователям"
   ]
  },
  {
   "cell_type": "code",
   "execution_count": 57,
   "metadata": {},
   "outputs": [
    {
     "data": {
      "image/png": "[encoded data removed]",
      "text/plain": [
       "<Figure size 1800x720 with 1 Axes>"
      ]
     },
     "metadata": {},
     "output_type": "display_data"
    }
   ],
   "source": [
    "# серия из чисел от 0 до количества наблюдений в ordersByUsers\n",
    "x_values = pd.Series(range(0, len(ordersByUsers)))\n",
    "plt.scatter(x_values, ordersByUsers['orders']);\n",
    "\n",
    "plt.title('Точечный график количества заказов по пользователям')\n",
    "plt.xlabel('Кол-во пользователей')\n",
    "plt.ylabel('Количество заказов');"
   ]
  },
  {
   "cell_type": "markdown",
   "metadata": {},
   "source": [
    "Большинство покупателей заказывали только один раз. Однако доля пользователей с 2-5 заказами тоже значительна. Их точная доля не ясна — непонятно, считать их аномалиями или нет."
   ]
  },
  {
   "cell_type": "markdown",
   "metadata": {},
   "source": [
    "### Посчитаем выборочные 95-й и 99-й перцентили количества заказов на пользователя"
   ]
  },
  {
   "cell_type": "code",
   "execution_count": 58,
   "metadata": {},
   "outputs": [
    {
     "name": "stdout",
     "output_type": "stream",
     "text": [
      "[2. 4.]\n"
     ]
    }
   ],
   "source": [
    "print(np.percentile(ordersByUsers['orders'], [95, 99]))"
   ]
  },
  {
   "cell_type": "markdown",
   "metadata": {},
   "source": [
    "Устанавливаем границу по колличеству заказов на пользователя в 3 шт., заключим её в переменную:"
   ]
  },
  {
   "cell_type": "code",
   "execution_count": 59,
   "metadata": {},
   "outputs": [],
   "source": [
    "to_much_orders = 3"
   ]
  },
  {
   "cell_type": "markdown",
   "metadata": {},
   "source": [
    "Не более 5% пользователей оформляли от 2-х заказов и 1% пользователей - больше четырех заказов."
   ]
  },
  {
   "cell_type": "markdown",
   "metadata": {},
   "source": [
    "### Точечный график стоимости заказов"
   ]
  },
  {
   "cell_type": "markdown",
   "metadata": {},
   "source": [
    "Посмотрим в табличном виде топ по стоимости заказов"
   ]
  },
  {
   "cell_type": "code",
   "execution_count": 60,
   "metadata": {},
   "outputs": [
    {
     "data": {
      "text/html": [
       "<div>\n",
       "<style scoped>\n",
       "    .dataframe tbody tr th:only-of-type {\n",
       "        vertical-align: middle;\n",
       "    }\n",
       "\n",
       "    .dataframe tbody tr th {\n",
       "        vertical-align: top;\n",
       "    }\n",
       "\n",
       "    .dataframe thead th {\n",
       "        text-align: right;\n",
       "    }\n",
       "</style>\n",
       "<table border=\"1\" class=\"dataframe\">\n",
       "  <thead>\n",
       "    <tr style=\"text-align: right;\">\n",
       "      <th></th>\n",
       "      <th>transactionId</th>\n",
       "      <th>visitorId</th>\n",
       "      <th>date</th>\n",
       "      <th>revenue</th>\n",
       "      <th>group</th>\n",
       "    </tr>\n",
       "  </thead>\n",
       "  <tbody>\n",
       "    <tr>\n",
       "      <th>425</th>\n",
       "      <td>590470918</td>\n",
       "      <td>1920142716</td>\n",
       "      <td>2019-08-19</td>\n",
       "      <td>1294500</td>\n",
       "      <td>B</td>\n",
       "    </tr>\n",
       "    <tr>\n",
       "      <th>1196</th>\n",
       "      <td>3936777065</td>\n",
       "      <td>2108080724</td>\n",
       "      <td>2019-08-15</td>\n",
       "      <td>202740</td>\n",
       "      <td>B</td>\n",
       "    </tr>\n",
       "    <tr>\n",
       "      <th>858</th>\n",
       "      <td>192721366</td>\n",
       "      <td>1316129916</td>\n",
       "      <td>2019-08-27</td>\n",
       "      <td>93940</td>\n",
       "      <td>A</td>\n",
       "    </tr>\n",
       "    <tr>\n",
       "      <th>1136</th>\n",
       "      <td>666610489</td>\n",
       "      <td>1307669133</td>\n",
       "      <td>2019-08-13</td>\n",
       "      <td>92550</td>\n",
       "      <td>A</td>\n",
       "    </tr>\n",
       "    <tr>\n",
       "      <th>744</th>\n",
       "      <td>3668308183</td>\n",
       "      <td>888512513</td>\n",
       "      <td>2019-08-27</td>\n",
       "      <td>86620</td>\n",
       "      <td>B</td>\n",
       "    </tr>\n",
       "  </tbody>\n",
       "</table>\n",
       "</div>"
      ],
      "text/plain": [
       "      transactionId   visitorId       date  revenue group\n",
       "425       590470918  1920142716 2019-08-19  1294500     B\n",
       "1196     3936777065  2108080724 2019-08-15   202740     B\n",
       "858       192721366  1316129916 2019-08-27    93940     A\n",
       "1136      666610489  1307669133 2019-08-13    92550     A\n",
       "744      3668308183   888512513 2019-08-27    86620     B"
      ]
     },
     "execution_count": 60,
     "metadata": {},
     "output_type": "execute_result"
    }
   ],
   "source": [
    "orders.sort_values(by='revenue', ascending=False).head()"
   ]
  },
  {
   "cell_type": "code",
   "execution_count": 61,
   "metadata": {},
   "outputs": [
    {
     "data": {
      "image/png": "[encoded data removed]",
      "text/plain": [
       "<Figure size 1800x720 with 1 Axes>"
      ]
     },
     "metadata": {},
     "output_type": "display_data"
    }
   ],
   "source": [
    "x_values = pd.Series(range(0, len(orders['revenue'])))\n",
    "plt.scatter(x_values, orders['revenue']);\n",
    "plt.title('Точечный график стоимостей заказов')\n",
    "plt.xlabel('Кол-во пользователей')\n",
    "plt.ylabel('Стоимость заказа в млн.');"
   ]
  },
  {
   "cell_type": "markdown",
   "metadata": {},
   "source": [
    "На графике зафиксирован один самый крупный заказ на сумму 1 294 500. Далее виден заказ в размере 202 740 Все остальные заказы ниже 92 550. Для того, чтобы точно определить стоимость заказа, которую следует считать аномальной посчитаем выборочные перцентели."
   ]
  },
  {
   "cell_type": "markdown",
   "metadata": {},
   "source": [
    "### Посчитаем выборочные 95-й и 99-й перцентили стоимости заказов"
   ]
  },
  {
   "cell_type": "code",
   "execution_count": 62,
   "metadata": {},
   "outputs": [
    {
     "name": "stdout",
     "output_type": "stream",
     "text": [
      "[28000.  58233.2]\n"
     ]
    }
   ],
   "source": [
    "print(np.percentile(orders['revenue'], [95, 99]))"
   ]
  },
  {
   "cell_type": "markdown",
   "metadata": {},
   "source": [
    "Не более, чем у 5% пользователей чек дороже 28000, и только не более 1% пользователей оформили на чек дороже 58233,2."
   ]
  },
  {
   "cell_type": "markdown",
   "metadata": {},
   "source": [
    "Устанавливаем границу по сумме заказа в 30000 рублей, добавим её в переменную:"
   ]
  },
  {
   "cell_type": "code",
   "execution_count": 63,
   "metadata": {},
   "outputs": [],
   "source": [
    "to_expensive_order  = 30000"
   ]
  },
  {
   "cell_type": "markdown",
   "metadata": {},
   "source": [
    "### Подсчёт статистической значимости различий в конверсии между группами по «сырым» данным"
   ]
  },
  {
   "cell_type": "markdown",
   "metadata": {},
   "source": [
    "Cтатистическую значимость различий будет считать с помощью теста Манна-Уитни, для начала подготовим данные:"
   ]
  },
  {
   "cell_type": "code",
   "execution_count": 64,
   "metadata": {},
   "outputs": [],
   "source": [
    "orders_by_users_a = orders[orders['group']=='A'].groupby('visitorId')['transactionId'].nunique().reset_index()\n",
    "orders_by_users_a.columns=['visitorId','orders']\n",
    "\n",
    "orders_by_users_b = orders[orders['group']=='B'].groupby('visitorId')['transactionId'].nunique().reset_index()\n",
    "orders_by_users_b.columns=['visitorId','orders'] "
   ]
  },
  {
   "cell_type": "code",
   "execution_count": 65,
   "metadata": {},
   "outputs": [
    {
     "data": {
      "text/html": [
       "<div>\n",
       "<style scoped>\n",
       "    .dataframe tbody tr th:only-of-type {\n",
       "        vertical-align: middle;\n",
       "    }\n",
       "\n",
       "    .dataframe tbody tr th {\n",
       "        vertical-align: top;\n",
       "    }\n",
       "\n",
       "    .dataframe thead th {\n",
       "        text-align: right;\n",
       "    }\n",
       "</style>\n",
       "<table border=\"1\" class=\"dataframe\">\n",
       "  <thead>\n",
       "    <tr style=\"text-align: right;\">\n",
       "      <th></th>\n",
       "      <th>visitorId</th>\n",
       "      <th>orders</th>\n",
       "    </tr>\n",
       "  </thead>\n",
       "  <tbody>\n",
       "    <tr>\n",
       "      <th>0</th>\n",
       "      <td>8300375</td>\n",
       "      <td>1</td>\n",
       "    </tr>\n",
       "    <tr>\n",
       "      <th>1</th>\n",
       "      <td>11685486</td>\n",
       "      <td>1</td>\n",
       "    </tr>\n",
       "    <tr>\n",
       "      <th>2</th>\n",
       "      <td>54447517</td>\n",
       "      <td>1</td>\n",
       "    </tr>\n",
       "    <tr>\n",
       "      <th>3</th>\n",
       "      <td>66685450</td>\n",
       "      <td>1</td>\n",
       "    </tr>\n",
       "    <tr>\n",
       "      <th>4</th>\n",
       "      <td>78758296</td>\n",
       "      <td>1</td>\n",
       "    </tr>\n",
       "  </tbody>\n",
       "</table>\n",
       "</div>"
      ],
      "text/plain": [
       "   visitorId  orders\n",
       "0    8300375       1\n",
       "1   11685486       1\n",
       "2   54447517       1\n",
       "3   66685450       1\n",
       "4   78758296       1"
      ]
     },
     "metadata": {},
     "output_type": "display_data"
    }
   ],
   "source": [
    "display(orders_by_users_a.head()) "
   ]
  },
  {
   "cell_type": "code",
   "execution_count": 66,
   "metadata": {},
   "outputs": [
    {
     "data": {
      "text/html": [
       "<div>\n",
       "<style scoped>\n",
       "    .dataframe tbody tr th:only-of-type {\n",
       "        vertical-align: middle;\n",
       "    }\n",
       "\n",
       "    .dataframe tbody tr th {\n",
       "        vertical-align: top;\n",
       "    }\n",
       "\n",
       "    .dataframe thead th {\n",
       "        text-align: right;\n",
       "    }\n",
       "</style>\n",
       "<table border=\"1\" class=\"dataframe\">\n",
       "  <thead>\n",
       "    <tr style=\"text-align: right;\">\n",
       "      <th></th>\n",
       "      <th>visitorId</th>\n",
       "      <th>orders</th>\n",
       "    </tr>\n",
       "  </thead>\n",
       "  <tbody>\n",
       "    <tr>\n",
       "      <th>0</th>\n",
       "      <td>5114589</td>\n",
       "      <td>1</td>\n",
       "    </tr>\n",
       "    <tr>\n",
       "      <th>1</th>\n",
       "      <td>6958315</td>\n",
       "      <td>1</td>\n",
       "    </tr>\n",
       "    <tr>\n",
       "      <th>2</th>\n",
       "      <td>8300375</td>\n",
       "      <td>1</td>\n",
       "    </tr>\n",
       "    <tr>\n",
       "      <th>3</th>\n",
       "      <td>39475350</td>\n",
       "      <td>1</td>\n",
       "    </tr>\n",
       "    <tr>\n",
       "      <th>4</th>\n",
       "      <td>47206413</td>\n",
       "      <td>1</td>\n",
       "    </tr>\n",
       "  </tbody>\n",
       "</table>\n",
       "</div>"
      ],
      "text/plain": [
       "   visitorId  orders\n",
       "0    5114589       1\n",
       "1    6958315       1\n",
       "2    8300375       1\n",
       "3   39475350       1\n",
       "4   47206413       1"
      ]
     },
     "metadata": {},
     "output_type": "display_data"
    }
   ],
   "source": [
    "display(orders_by_users_b.head()) "
   ]
  },
  {
   "cell_type": "markdown",
   "metadata": {},
   "source": [
    "Объявите переменные, в которых пользователям с заказами будет соответствовать число заказов пользователя, пользователям без заказов — нули."
   ]
  },
  {
   "cell_type": "code",
   "execution_count": 67,
   "metadata": {},
   "outputs": [],
   "source": [
    "sample_a = pd.concat(\n",
    "    [\n",
    "        orders_by_users_a['orders'],\n",
    "        pd.Series(0, \n",
    "                  index=np.arange\n",
    "                  (visitors[visitors['group']=='A']['visitors'].sum() - len(orders_by_users_a['orders'])\n",
    "                  ),\n",
    "                  name='orders'\n",
    "                 )\n",
    "    ],\n",
    "    axis=0)\n",
    "sample_b = pd.concat(\n",
    "    [\n",
    "        orders_by_users_b['orders'],\n",
    "        pd.Series\n",
    "        (0,\n",
    "         index=np.arange(\n",
    "             visitors[visitors['group']=='B']['visitors'].sum() - len(orders_by_users_b['orders'])\n",
    "         ),\n",
    "         name='orders'\n",
    "        )\n",
    "    ],\n",
    "    axis=0)"
   ]
  },
  {
   "cell_type": "markdown",
   "metadata": {},
   "source": [
    "Данные подготовлены, сформируем нулевую и альетрнативную гипотезы:\n",
    "\n",
    "Н0: Различий в конверсии между группами нет\n",
    "\n",
    "Н1: Различия в конверсиях между группами есть\n",
    "\n",
    "Коэффициент альфа: 0.05"
   ]
  },
  {
   "cell_type": "code",
   "execution_count": 68,
   "metadata": {},
   "outputs": [
    {
     "name": "stdout",
     "output_type": "stream",
     "text": [
      "Значение p-value : 0.016792355056752608\n",
      "Отвергаем нулевую гипотезу\n",
      "Средняя конверсия группы А: 3.0%\n",
      "Средняя конверсия группы B: 3.4%\n",
      "Отношение конверсии В к А: 0.138\n"
     ]
    }
   ],
   "source": [
    "result_1 = stats.mannwhitneyu(sample_a, sample_b)[1] \n",
    "#задаим значение aplha\n",
    "alpha = 0.05\n",
    "#введем значение p-value\n",
    "print(f'Значение p-value : {result_1}')\n",
    "# условный оператор с выводом строки с ответом\n",
    "if result_1 < alpha:\n",
    "    print(\"Отвергаем нулевую гипотезу\")\n",
    "else:\n",
    "    print(\"Не получилось отвергнуть нулевую гипотезу\")  \n",
    "print('Средняя конверсия группы А: {:.1%}'.format(sample_a.mean()))\n",
    "print('Средняя конверсия группы B: {:.1%}'.format(sample_b.mean()))  \n",
    "print('Отношение конверсии В к А: {0:.3f}'.format(sample_b.mean()/sample_a.mean()-1))   "
   ]
  },
  {
   "cell_type": "markdown",
   "metadata": {},
   "source": [
    "P-value меньше заданного значения alpha - отвергаем нулевую гипотезу, следовательно верно утвеждение о том, что различия в конверсиях есть.\n",
    "\n",
    "Отношений конверсий группы А к В 0.138, что можно интропритировать как относительный прирост в 14%, что является не плохим результатом, на следующих этапах посмотрим какое значения будут иметь данные без аномалий"
   ]
  },
  {
   "cell_type": "markdown",
   "metadata": {},
   "source": [
    "### Подсчёт статистической значимости различий в среднем чеке заказа между группами по «сырым» данным"
   ]
  },
  {
   "cell_type": "markdown",
   "metadata": {},
   "source": [
    "Сформулируем гипотезы:\n",
    "\n",
    "Н0: Различий в средних чеках между группами нет\n",
    "\n",
    "Н1: Различия в средних чеках между группами есть\n",
    "\n",
    "Коэффициент альфа: 0.05"
   ]
  },
  {
   "cell_type": "code",
   "execution_count": 69,
   "metadata": {},
   "outputs": [
    {
     "name": "stdout",
     "output_type": "stream",
     "text": [
      "Значение p-value : 0.7292909855432458\n",
      "Не получилось отвергнуть нулевую гипотезу\n",
      "Средний чек группы А: 7333.58\n",
      "Средний чек группы B: 9230.88\n",
      "Средний чек группы B: 1.26\n"
     ]
    }
   ],
   "source": [
    "result_2 = stats.mannwhitneyu(orders[orders['group']=='A']['revenue'], orders[orders['group']=='B']['revenue'])[1]  \n",
    "#введем значение p-value\n",
    "print(f'Значение p-value : {result_2}')\n",
    "# условный оператор с выводом строки с ответом\n",
    "if result_2 < alpha:\n",
    "    print(\"Отвергаем нулевую гипотезу\")\n",
    "else:\n",
    "    print(\"Не получилось отвергнуть нулевую гипотезу\")  \n",
    "#выведем основные показатели\n",
    "print('Средний чек группы А: {:.2f}'.format(orders[orders['group']=='A']['revenue'].mean()))\n",
    "print('Средний чек группы B: {:.2f}'.format(orders[orders['group']=='B']['revenue'].mean())) \n",
    "print('Средний чек группы B: {:.2f}'.format(orders[orders['group']=='B']['revenue'].mean() / orders[orders['group']=='A']['revenue'].mean()))  "
   ]
  },
  {
   "cell_type": "markdown",
   "metadata": {},
   "source": [
    "P-value значительно больше alpha, значит принимаем нулевую гипотезу - статичстичкой значимости различий в средних чеках нет, несмотря на разницу общего среднего значения по группам, которая составила в абсолютных значений 26%"
   ]
  },
  {
   "cell_type": "markdown",
   "metadata": {},
   "source": [
    "### Подсчёт статистической значимости различий в конверсии между группами по «очищенным» данным"
   ]
  },
  {
   "cell_type": "markdown",
   "metadata": {},
   "source": [
    "Ранее изучили распредление заказов по кол-ву для пользователя и сумме, границы были опредлены следующие:\n",
    "\n",
    "кол-во > 3, перемиенная to_much_orders\n",
    "\n",
    "сумма > 30000, переменная to_expensive_order\n",
    "\n",
    "Посмотрим, сколько в датафрейме анамальных пользователей:"
   ]
  },
  {
   "cell_type": "code",
   "execution_count": 70,
   "metadata": {},
   "outputs": [
    {
     "name": "stdout",
     "output_type": "stream",
     "text": [
      "1099    148427295\n",
      "18      199603092\n",
      "928     204675465\n",
      "23      237748145\n",
      "684     358944393\n",
      "Name: visitorId, dtype: int64\n",
      " \n",
      "Кол-во анамальных пользователей:  57\n"
     ]
    }
   ],
   "source": [
    "# собираем пользователей с большим кол-вом заказов \n",
    "many_orders = pd.concat(\n",
    "    [\n",
    "        orders_by_users_a[orders_by_users_a['orders'] > to_much_orders]['visitorId'],\n",
    "        orders_by_users_b[orders_by_users_b['orders'] > to_much_orders]['visitorId'],\n",
    "    ],\n",
    "    axis=0,\n",
    ")\n",
    "\n",
    "# собираем пользователей с слишком дорогими заказами\n",
    "expensive_orders = orders[orders['revenue'] > to_expensive_order]['visitorId']\n",
    "\n",
    "# объединяем всё в один датафрейм \n",
    "abnormal_users = (\n",
    "    pd.concat([many_orders, expensive_orders], axis=0)\n",
    "    .drop_duplicates()\n",
    "    .sort_values()\n",
    ")\n",
    "print(abnormal_users.head(5))\n",
    "print(' ')\n",
    "print('Кол-во анамальных пользователей: ', abnormal_users.shape[0])"
   ]
  },
  {
   "cell_type": "markdown",
   "metadata": {},
   "source": [
    "Такое кол-во может повлиять на итоговые выводы, используем полученные данные для того, чтобы убрать аномалии:"
   ]
  },
  {
   "cell_type": "code",
   "execution_count": 71,
   "metadata": {},
   "outputs": [],
   "source": [
    "#отфильтруем данные в группе А \n",
    "sample_a_filtered = pd.concat(\n",
    "    [\n",
    "        orders_by_users_a[\n",
    "            np.logical_not(orders_by_users_a['visitorId'].isin(abnormal_users))\n",
    "        ]['orders'],\n",
    "        pd.Series(\n",
    "            0,\n",
    "            index=np.arange(\n",
    "                visitors[visitors['group']=='A']['visitors'].sum() - len(orders_by_users_a['orders'])\n",
    "            ),\n",
    "            name='orders',\n",
    "        ),\n",
    "    ],\n",
    "    axis=0,\n",
    ")\n",
    "\n",
    "#отфильтруем данные в группе В\n",
    "sample_b_filtered = pd.concat(\n",
    "    [\n",
    "        orders_by_users_b[\n",
    "            np.logical_not(orders_by_users_b['visitorId'].isin(abnormal_users))\n",
    "        ]['orders'],\n",
    "        pd.Series(\n",
    "            0,\n",
    "            index=np.arange(\n",
    "                visitors[visitors['group']=='B']['visitors'].sum() - len(orders_by_users_b['orders'])\n",
    "            ),\n",
    "            name='orders',\n",
    "        ),\n",
    "    ],\n",
    "    axis=0,\n",
    ")  "
   ]
  },
  {
   "cell_type": "markdown",
   "metadata": {},
   "source": [
    "Анамалии убрали, гипотезы для проведеня теста, по аналогии с предыдущими:"
   ]
  },
  {
   "cell_type": "markdown",
   "metadata": {},
   "source": [
    "Н0: Конверсии групп A и B равны, статистически значимых отличий нет\n",
    "\n",
    "Н1: Конверсии групп A и B различны, статистически значимые отличия есть\n",
    "\n",
    "Коэффициент альфа: 0.05"
   ]
  },
  {
   "cell_type": "code",
   "execution_count": 72,
   "metadata": {},
   "outputs": [
    {
     "name": "stdout",
     "output_type": "stream",
     "text": [
      "Значение p-value : 0.01831750089424907\n",
      "Отвергаем нулевую гипотезу\n",
      "Средняя конверсия (очищенная) группы А: 2.7%\n",
      "Средняя конверсия (очищенная) группы B: 3.1%\n",
      "Отношение конверсии В к А, по очищенным данным: 0.148\n"
     ]
    }
   ],
   "source": [
    "result_3 = stats.mannwhitneyu(sample_a_filtered, sample_b_filtered)[1] \n",
    "#ведем значение pvalue\n",
    "print(f'Значение p-value : {result_3}') \n",
    "# условный оператор с выводом строки с ответом\n",
    "if result_3 < alpha:\n",
    "    print(\"Отвергаем нулевую гипотезу\")\n",
    "else:\n",
    "    print(\"Не получилось отвергнуть нулевую гипотезу\") \n",
    "print('Средняя конверсия (очищенная) группы А: {:.1%}'.format(sample_a_filtered.mean()))\n",
    "print('Средняя конверсия (очищенная) группы B: {:.1%}'.format(sample_b_filtered.mean())) \n",
    "print('Отношение конверсии В к А, по очищенным данным: {0:.3f}'.format(sample_b_filtered.mean()/sample_a_filtered.mean()-1))  "
   ]
  },
  {
   "cell_type": "markdown",
   "metadata": {},
   "source": [
    "Для \"очищенных\" данных также справедливо утверждение о том, что конверсии разные. Само значения конверсии данных изменилось в меньшую сторону для обоих групп, лидируют по-прежнему пользователи из B."
   ]
  },
  {
   "cell_type": "markdown",
   "metadata": {},
   "source": [
    "### Подсчёт статистической значимости различий в различий в среднем чеке заказа по «очищенным» данным"
   ]
  },
  {
   "cell_type": "markdown",
   "metadata": {},
   "source": [
    "Для \"сырых\" данных была принята нулевая гипотеза, проверим можем ли мы говорить о статистическом равенстве для \"очищенных\" данных:"
   ]
  },
  {
   "cell_type": "markdown",
   "metadata": {},
   "source": [
    "Н0: Различий в средних чеках между группами нет\n",
    "\n",
    "Н1: Различия в средних чеках между группами есть\n",
    "\n",
    "Коэффициент альфа: 0.05"
   ]
  },
  {
   "cell_type": "code",
   "execution_count": 73,
   "metadata": {},
   "outputs": [
    {
     "name": "stdout",
     "output_type": "stream",
     "text": [
      "Значение p-value : 0.9583231483662625\n",
      "Не получилось отвергнуть нулевую гипотезу\n",
      "Средняя чек группы А (очищенная): 5228.2\n",
      "Средняя конверсиягруппы B (очищенная): 5333.3\n",
      "Отношение конверсии В к А, по очищенным данным: 0.98\n"
     ]
    }
   ],
   "source": [
    "result4 = stats.mannwhitneyu(\n",
    "    orders[np.logical_and(\n",
    "        orders['group']=='A',\n",
    "        np.logical_not(orders['visitorId'].isin(abnormal_users)))]['revenue'],\n",
    "    orders[np.logical_and(\n",
    "        orders['group']=='B',\n",
    "        np.logical_not(orders['visitorId'].isin(abnormal_users)))]['revenue'])[1] \n",
    "\n",
    "#посчитаем среднием значения \n",
    "mean_revenue_b = orders[np.logical_and(orders['group']=='B',\n",
    "                                       np.logical_not(orders['visitorId'].\n",
    "                                                      isin(abnormal_users)))]['revenue'].mean()\n",
    "mean_revenue_a = orders[np.logical_and(orders['group']=='A',\n",
    "                                       np.logical_not(orders['visitorId'].\n",
    "                                                      isin(abnormal_users)))]['revenue'].mean() \n",
    "\n",
    "print(f'Значение p-value : {result4}')  \n",
    "# условный оператор с выводом строки с ответом\n",
    "if result4 < alpha:\n",
    "    print(\"Отвергаем нулевую гипотезу\")\n",
    "else:\n",
    "    print(\"Не получилось отвергнуть нулевую гипотезу\")  \n",
    "#выведем всю необходимую информацию\n",
    "print('Средняя чек группы А (очищенная): {:.1f}'.format(mean_revenue_b))\n",
    "print('Средняя конверсиягруппы B (очищенная): {:.1f}'.format(mean_revenue_a))\n",
    "print('Отношение конверсии В к А, по очищенным данным: {0:.2f}'.format(mean_revenue_b / mean_revenue_a)) "
   ]
  },
  {
   "cell_type": "markdown",
   "metadata": {},
   "source": [
    "Для \"очищенных\" данных статистическая занчимость средних чеков группы B и A, также равны, но стоит заметить, что абсолютные значения практически выровнились, отношение близко к единице"
   ]
  },
  {
   "cell_type": "markdown",
   "metadata": {},
   "source": [
    "Вывод:\n",
    "    \n",
    "Выручка стабильно растет на протяжении всего теста в обоих группах, у группы B наблюдается резкий всплеск после 17.08,\n",
    "В целом к концу теста метрика стабилизируется в обоих группах. \n",
    "\n",
    "Группа А, в отличии от группы В более равномерна, к концу теста средний чек почти сравнялся с максимальным значением, достигнутым 13 августа.\n",
    "Выделяется аномальный рост среднего чека 18-19 августа по группе В, а затем снижение. Возможно, в группу B в первой половине теста попали крупные заказы (резкий всплеск на графике).\n",
    "Исходя из графика куммулятивной конверсии видно, что в начале теста наблюдаем заметные колебания. В начале конверсия у группы А была больше группы B, но уже к концу первой недели тестирования конверсия группы В выросла. В целом, конверсия у группы В стабильно лучше по накопленным показателям чем A.\n",
    "\n",
    "График различия среднего чека колеблется.\n",
    "\n",
    "Большинство покупателей заказывали только один раз. Не более 5% пользователей оформляли от 2-х заказов и 1% пользователей - больше четырех заказов.\n",
    "\n",
    "Не более, чем у 5% пользователей чек дороже 28000, и только не более 1% пользователей оформили на чек дороже 58233,2. Один самый крупный заказ на сумму 1 294 500\n",
    "\n",
    "Есть статистически значимое различие по конверсии между группами как по сырым данным, так и после \"очищенных\" данных. \n",
    "Отношений конверсий группы А к В 0.138, что можно интропритировать как относительный прирост в 14%.\n",
    "Для \"очищенных\" данных также справедливо утверждение о том, что конверсии разные. Само значения конверсии данных изменилось в меньшую сторону для обоих групп, лидируют по-прежнему пользователи из B.\n",
    "\n",
    "По сырым данным нет статистически значимого различия по среднему чеку между группами. Так же как и после удаления аномалий статистически значимых различий нет.\n",
    "P-value значительно больше alpha, значит принимаем нулевую гипотезу - статичстичкой значимости различий в средних чеках нет, несмотря на разницу общего среднего значения по группам, которая составила в абсолютных значений 26%.\n",
    "Для \"очищенных\" данных статистическая занчимость средних чеков группы B и A, также равны, но стоит заметить, что абсолютные значения практически выровнились, отношение близко к единице.\n",
    "\n",
    "Исходя из обнаруженных фактов, тест следует остановить, признать его успешным и перейти к проверке следующей гипотезы."
   ]
  },
  {
   "cell_type": "markdown",
   "metadata": {},
   "source": [
    "# Общий вывод"
   ]
  },
  {
   "cell_type": "markdown",
   "metadata": {},
   "source": [
    "Вывод:\n",
    "    \n",
    "В Приоритизация гипотез можно выделить следующее:\n",
    "    \n",
    "1. По фреймворку ICE наиболее приоритетными были гипотезы:\n",
    "\n",
    "- Запустить акцию, дающую скидку на товар в день рождения;\n",
    "\n",
    "- Добавить два новых канала привлечения трафика, что позволит привлекать на 30% больше пользователей;\n",
    "\n",
    "- Добавить форму подписки на все основные страницы, чтобы собрать базу клиентов для email-рассылок.\n",
    "\n",
    "2. А по фреймворку RICE наиболее приоритетные гипотезы расположились следующим образом:\n",
    "\n",
    "- Добавить форму подписки на все основные страницы, чтобы собрать базу клиентов для email-рассылок;\n",
    "\n",
    "- Добавить блоки рекомендаций товаров на сайт интернет магазина, чтобы повысить конверсию и средний чек заказа;\n",
    "\n",
    "- Добавить два новых канала привлечения трафика, что позволит привлекать на 30% больше пользователей.\n",
    "\n",
    "Это произошло потому что фреймворк RICE учитывает параметр Reach (скольких пользователей затронет изменение, которое вы хотите внести), и в лидеры вышли гипотезы с наибольшим охватом пользователей. Для ICE этот критерий не учитывается.   \n",
    "\n",
    "\n",
    "При Анализе A/B-теста можно сделать вывод о том, что:\n",
    "\n",
    "Есть статистически значимое различие по конверсии между группами как по сырым данным, так и после \"очищенных\" данных.\n",
    "\n",
    "По сырым данным нет статистически значимого различия по среднему чеку между группами. Так же как и после удаления аномалий статистически значимых различий нет.\n",
    "\n",
    "График различия конверсии между группами сообщает, что результаты группы B лучше группы A: имеют тенденцию к росту.\n",
    "\n",
    "График различия среднего чека колеблется. Сделать из этого графика определённые выводы нельзя.\n",
    "\n",
    "Исходя из обнаруженных фактов, тест следует остановить, признать его успешным и перейти к проверке следующей гипотезы."
   ]
  }
 ],
 "metadata": {
  "ExecuteTimeLog": [
   {
    "duration": 1372,
    "start_time": "2023-12-15T11:19:16.286Z"
   },
   {
    "duration": 68,
    "start_time": "2023-12-15T11:37:25.618Z"
   },
   {
    "duration": 11,
    "start_time": "2023-12-15T11:37:26.372Z"
   },
   {
    "duration": 3,
    "start_time": "2023-12-15T11:43:48.762Z"
   },
   {
    "duration": 7,
    "start_time": "2023-12-15T11:43:52.899Z"
   },
   {
    "duration": 8,
    "start_time": "2023-12-15T11:46:11.613Z"
   },
   {
    "duration": 4,
    "start_time": "2023-12-15T11:47:13.038Z"
   },
   {
    "duration": 11,
    "start_time": "2023-12-15T11:47:46.679Z"
   },
   {
    "duration": 12,
    "start_time": "2023-12-15T11:48:56.312Z"
   },
   {
    "duration": 1151,
    "start_time": "2023-12-15T11:49:18.745Z"
   },
   {
    "duration": 2,
    "start_time": "2023-12-15T11:49:19.898Z"
   },
   {
    "duration": 5,
    "start_time": "2023-12-15T11:49:19.902Z"
   },
   {
    "duration": 44,
    "start_time": "2023-12-15T11:49:19.908Z"
   },
   {
    "duration": 11,
    "start_time": "2023-12-15T11:49:19.954Z"
   },
   {
    "duration": 2,
    "start_time": "2023-12-15T11:49:19.966Z"
   },
   {
    "duration": 5,
    "start_time": "2023-12-15T11:49:19.969Z"
   },
   {
    "duration": 4,
    "start_time": "2023-12-15T11:49:19.975Z"
   },
   {
    "duration": 9,
    "start_time": "2023-12-15T11:49:19.980Z"
   },
   {
    "duration": 9,
    "start_time": "2023-12-15T11:49:19.991Z"
   },
   {
    "duration": 33,
    "start_time": "2023-12-15T11:49:20.002Z"
   },
   {
    "duration": 1159,
    "start_time": "2023-12-15T11:51:50.505Z"
   },
   {
    "duration": 3,
    "start_time": "2023-12-15T11:51:51.666Z"
   },
   {
    "duration": 9,
    "start_time": "2023-12-15T11:51:51.671Z"
   },
   {
    "duration": 30,
    "start_time": "2023-12-15T11:51:51.682Z"
   },
   {
    "duration": 16,
    "start_time": "2023-12-15T11:51:51.715Z"
   },
   {
    "duration": 10,
    "start_time": "2023-12-15T11:51:51.732Z"
   },
   {
    "duration": 13,
    "start_time": "2023-12-15T11:51:51.743Z"
   },
   {
    "duration": 21,
    "start_time": "2023-12-15T11:51:51.758Z"
   },
   {
    "duration": 43,
    "start_time": "2023-12-15T11:51:51.780Z"
   },
   {
    "duration": 18,
    "start_time": "2023-12-15T11:51:51.827Z"
   },
   {
    "duration": 19,
    "start_time": "2023-12-15T11:51:51.847Z"
   },
   {
    "duration": 1114,
    "start_time": "2023-12-15T11:52:09.924Z"
   },
   {
    "duration": 2,
    "start_time": "2023-12-15T11:52:11.040Z"
   },
   {
    "duration": 5,
    "start_time": "2023-12-15T11:52:11.043Z"
   },
   {
    "duration": 30,
    "start_time": "2023-12-15T11:52:11.049Z"
   },
   {
    "duration": 11,
    "start_time": "2023-12-15T11:52:11.080Z"
   },
   {
    "duration": 7,
    "start_time": "2023-12-15T11:52:11.092Z"
   },
   {
    "duration": 5,
    "start_time": "2023-12-15T11:52:11.100Z"
   },
   {
    "duration": 4,
    "start_time": "2023-12-15T11:52:11.106Z"
   },
   {
    "duration": 13,
    "start_time": "2023-12-15T11:52:11.111Z"
   },
   {
    "duration": 6,
    "start_time": "2023-12-15T11:52:11.125Z"
   },
   {
    "duration": 11,
    "start_time": "2023-12-15T11:52:11.132Z"
   },
   {
    "duration": 1180,
    "start_time": "2023-12-15T11:52:32.890Z"
   },
   {
    "duration": 2,
    "start_time": "2023-12-15T11:52:34.072Z"
   },
   {
    "duration": 19,
    "start_time": "2023-12-15T11:52:34.075Z"
   },
   {
    "duration": 32,
    "start_time": "2023-12-15T11:52:34.096Z"
   },
   {
    "duration": 11,
    "start_time": "2023-12-15T11:52:34.130Z"
   },
   {
    "duration": 7,
    "start_time": "2023-12-15T11:52:34.143Z"
   },
   {
    "duration": 4,
    "start_time": "2023-12-15T11:52:34.152Z"
   },
   {
    "duration": 9,
    "start_time": "2023-12-15T11:52:34.157Z"
   },
   {
    "duration": 8,
    "start_time": "2023-12-15T11:52:34.168Z"
   },
   {
    "duration": 3,
    "start_time": "2023-12-15T11:52:34.177Z"
   },
   {
    "duration": 17,
    "start_time": "2023-12-15T11:52:34.181Z"
   },
   {
    "duration": 5,
    "start_time": "2023-12-15T11:55:02.641Z"
   },
   {
    "duration": 3,
    "start_time": "2023-12-15T11:55:03.236Z"
   },
   {
    "duration": 9,
    "start_time": "2023-12-15T11:55:03.829Z"
   },
   {
    "duration": 3,
    "start_time": "2023-12-15T11:57:54.969Z"
   },
   {
    "duration": 10,
    "start_time": "2023-12-15T11:57:55.215Z"
   },
   {
    "duration": 102,
    "start_time": "2023-12-15T12:32:06.403Z"
   },
   {
    "duration": 8,
    "start_time": "2023-12-15T12:32:07.200Z"
   },
   {
    "duration": 10,
    "start_time": "2023-12-15T12:32:14.272Z"
   },
   {
    "duration": 5,
    "start_time": "2023-12-15T12:33:13.408Z"
   },
   {
    "duration": 6,
    "start_time": "2023-12-15T12:33:29.161Z"
   },
   {
    "duration": 65,
    "start_time": "2023-12-15T12:33:37.312Z"
   },
   {
    "duration": 8,
    "start_time": "2023-12-15T12:33:38.697Z"
   },
   {
    "duration": 10,
    "start_time": "2023-12-15T12:34:01.874Z"
   },
   {
    "duration": 4,
    "start_time": "2023-12-15T12:34:02.538Z"
   },
   {
    "duration": 4,
    "start_time": "2023-12-15T12:34:03.002Z"
   },
   {
    "duration": 12,
    "start_time": "2023-12-15T12:36:00.650Z"
   },
   {
    "duration": 4,
    "start_time": "2023-12-15T12:36:01.251Z"
   },
   {
    "duration": 8,
    "start_time": "2023-12-15T12:36:32.475Z"
   },
   {
    "duration": 7,
    "start_time": "2023-12-15T12:36:33.142Z"
   },
   {
    "duration": 10,
    "start_time": "2023-12-15T12:36:58.867Z"
   },
   {
    "duration": 21,
    "start_time": "2023-12-15T12:36:59.220Z"
   },
   {
    "duration": 8,
    "start_time": "2023-12-15T12:48:12.421Z"
   },
   {
    "duration": 143,
    "start_time": "2023-12-15T12:48:20.319Z"
   },
   {
    "duration": 24,
    "start_time": "2023-12-15T12:50:07.424Z"
   },
   {
    "duration": 33,
    "start_time": "2023-12-15T12:50:36.152Z"
   },
   {
    "duration": 6,
    "start_time": "2023-12-15T12:51:22.808Z"
   },
   {
    "duration": 1201,
    "start_time": "2023-12-15T12:54:33.694Z"
   },
   {
    "duration": 3,
    "start_time": "2023-12-15T12:54:34.897Z"
   },
   {
    "duration": 24,
    "start_time": "2023-12-15T12:54:34.902Z"
   },
   {
    "duration": 31,
    "start_time": "2023-12-15T12:54:34.934Z"
   },
   {
    "duration": 12,
    "start_time": "2023-12-15T12:54:34.969Z"
   },
   {
    "duration": 6,
    "start_time": "2023-12-15T12:54:34.983Z"
   },
   {
    "duration": 14,
    "start_time": "2023-12-15T12:54:34.990Z"
   },
   {
    "duration": 3,
    "start_time": "2023-12-15T12:54:35.006Z"
   },
   {
    "duration": 24,
    "start_time": "2023-12-15T12:54:35.011Z"
   },
   {
    "duration": 39,
    "start_time": "2023-12-15T12:54:35.038Z"
   },
   {
    "duration": 19,
    "start_time": "2023-12-15T12:54:35.080Z"
   },
   {
    "duration": 9,
    "start_time": "2023-12-15T12:54:35.101Z"
   },
   {
    "duration": 26,
    "start_time": "2023-12-15T12:54:35.112Z"
   },
   {
    "duration": 7,
    "start_time": "2023-12-15T12:54:35.141Z"
   },
   {
    "duration": 14,
    "start_time": "2023-12-15T12:54:35.149Z"
   },
   {
    "duration": 5,
    "start_time": "2023-12-15T12:54:35.165Z"
   },
   {
    "duration": 14,
    "start_time": "2023-12-15T12:54:35.171Z"
   },
   {
    "duration": 6,
    "start_time": "2023-12-15T12:54:35.187Z"
   },
   {
    "duration": 29,
    "start_time": "2023-12-15T12:54:35.195Z"
   },
   {
    "duration": 13,
    "start_time": "2023-12-15T12:54:35.225Z"
   },
   {
    "duration": 51,
    "start_time": "2023-12-15T12:54:35.240Z"
   },
   {
    "duration": 12,
    "start_time": "2023-12-15T12:54:35.294Z"
   },
   {
    "duration": 25,
    "start_time": "2023-12-15T12:54:35.309Z"
   },
   {
    "duration": 17,
    "start_time": "2023-12-15T12:54:35.336Z"
   },
   {
    "duration": 29,
    "start_time": "2023-12-15T12:54:35.354Z"
   },
   {
    "duration": 21,
    "start_time": "2023-12-15T12:54:35.386Z"
   },
   {
    "duration": 57,
    "start_time": "2023-12-15T12:54:35.409Z"
   },
   {
    "duration": 15,
    "start_time": "2023-12-15T12:54:35.469Z"
   },
   {
    "duration": 7,
    "start_time": "2023-12-15T12:54:35.486Z"
   },
   {
    "duration": 9,
    "start_time": "2023-12-15T12:54:35.495Z"
   },
   {
    "duration": 46,
    "start_time": "2023-12-15T12:54:35.505Z"
   },
   {
    "duration": 38,
    "start_time": "2023-12-15T12:54:35.553Z"
   },
   {
    "duration": 14,
    "start_time": "2023-12-15T12:54:35.593Z"
   },
   {
    "duration": 35,
    "start_time": "2023-12-15T12:54:35.608Z"
   },
   {
    "duration": 12,
    "start_time": "2023-12-15T12:54:35.645Z"
   },
   {
    "duration": 7,
    "start_time": "2023-12-15T12:56:15.376Z"
   },
   {
    "duration": 5,
    "start_time": "2023-12-15T12:56:15.872Z"
   },
   {
    "duration": 2,
    "start_time": "2023-12-15T12:56:16.384Z"
   },
   {
    "duration": 4,
    "start_time": "2023-12-15T12:56:16.761Z"
   },
   {
    "duration": 4,
    "start_time": "2023-12-15T12:56:17.243Z"
   },
   {
    "duration": 6,
    "start_time": "2023-12-15T12:57:07.722Z"
   },
   {
    "duration": 7,
    "start_time": "2023-12-15T12:57:36.132Z"
   },
   {
    "duration": 4,
    "start_time": "2023-12-15T12:57:36.306Z"
   },
   {
    "duration": 4,
    "start_time": "2023-12-15T12:57:49.636Z"
   },
   {
    "duration": 4,
    "start_time": "2023-12-15T12:57:49.819Z"
   },
   {
    "duration": 6,
    "start_time": "2023-12-15T12:59:13.292Z"
   },
   {
    "duration": 182,
    "start_time": "2023-12-15T13:02:44.230Z"
   },
   {
    "duration": 122,
    "start_time": "2023-12-15T13:03:57.320Z"
   },
   {
    "duration": 7,
    "start_time": "2023-12-15T13:09:00.366Z"
   },
   {
    "duration": 4,
    "start_time": "2023-12-15T13:09:00.735Z"
   },
   {
    "duration": 6,
    "start_time": "2023-12-15T13:09:01.148Z"
   },
   {
    "duration": 5,
    "start_time": "2023-12-15T13:37:22.222Z"
   },
   {
    "duration": 4,
    "start_time": "2023-12-15T13:37:22.748Z"
   },
   {
    "duration": 281,
    "start_time": "2023-12-15T13:37:26.181Z"
   },
   {
    "duration": 167,
    "start_time": "2023-12-15T13:37:55.453Z"
   },
   {
    "duration": 1194,
    "start_time": "2023-12-15T13:38:14.906Z"
   },
   {
    "duration": 2,
    "start_time": "2023-12-15T13:38:16.102Z"
   },
   {
    "duration": 9,
    "start_time": "2023-12-15T13:38:16.106Z"
   },
   {
    "duration": 32,
    "start_time": "2023-12-15T13:38:16.116Z"
   },
   {
    "duration": 12,
    "start_time": "2023-12-15T13:38:16.150Z"
   },
   {
    "duration": 9,
    "start_time": "2023-12-15T13:38:16.164Z"
   },
   {
    "duration": 11,
    "start_time": "2023-12-15T13:38:16.175Z"
   },
   {
    "duration": 22,
    "start_time": "2023-12-15T13:38:16.188Z"
   },
   {
    "duration": 9,
    "start_time": "2023-12-15T13:38:16.212Z"
   },
   {
    "duration": 4,
    "start_time": "2023-12-15T13:38:16.222Z"
   },
   {
    "duration": 20,
    "start_time": "2023-12-15T13:38:16.227Z"
   },
   {
    "duration": 7,
    "start_time": "2023-12-15T13:38:16.249Z"
   },
   {
    "duration": 31,
    "start_time": "2023-12-15T13:38:16.258Z"
   },
   {
    "duration": 17,
    "start_time": "2023-12-15T13:38:16.292Z"
   },
   {
    "duration": 16,
    "start_time": "2023-12-15T13:38:16.311Z"
   },
   {
    "duration": 29,
    "start_time": "2023-12-15T13:38:16.329Z"
   },
   {
    "duration": 6,
    "start_time": "2023-12-15T13:38:16.359Z"
   },
   {
    "duration": 20,
    "start_time": "2023-12-15T13:38:16.367Z"
   },
   {
    "duration": 28,
    "start_time": "2023-12-15T13:38:16.388Z"
   },
   {
    "duration": 9,
    "start_time": "2023-12-15T13:38:16.418Z"
   },
   {
    "duration": 50,
    "start_time": "2023-12-15T13:38:16.429Z"
   },
   {
    "duration": 7,
    "start_time": "2023-12-15T13:38:16.481Z"
   },
   {
    "duration": 24,
    "start_time": "2023-12-15T13:38:16.490Z"
   },
   {
    "duration": 12,
    "start_time": "2023-12-15T13:38:16.515Z"
   },
   {
    "duration": 13,
    "start_time": "2023-12-15T13:38:16.529Z"
   },
   {
    "duration": 19,
    "start_time": "2023-12-15T13:38:16.544Z"
   },
   {
    "duration": 24,
    "start_time": "2023-12-15T13:38:16.565Z"
   },
   {
    "duration": 25,
    "start_time": "2023-12-15T13:38:16.591Z"
   },
   {
    "duration": 6,
    "start_time": "2023-12-15T13:38:16.618Z"
   },
   {
    "duration": 16,
    "start_time": "2023-12-15T13:38:16.626Z"
   },
   {
    "duration": 3,
    "start_time": "2023-12-15T13:38:16.644Z"
   },
   {
    "duration": 19,
    "start_time": "2023-12-15T13:38:16.648Z"
   },
   {
    "duration": 18,
    "start_time": "2023-12-15T13:38:16.669Z"
   },
   {
    "duration": 24,
    "start_time": "2023-12-15T13:38:16.689Z"
   },
   {
    "duration": 13,
    "start_time": "2023-12-15T13:38:16.715Z"
   },
   {
    "duration": 11,
    "start_time": "2023-12-15T13:38:16.730Z"
   },
   {
    "duration": 19,
    "start_time": "2023-12-15T13:38:16.743Z"
   },
   {
    "duration": 15,
    "start_time": "2023-12-15T13:38:16.764Z"
   },
   {
    "duration": 17,
    "start_time": "2023-12-15T13:38:16.781Z"
   },
   {
    "duration": 27,
    "start_time": "2023-12-15T13:38:16.800Z"
   },
   {
    "duration": 9,
    "start_time": "2023-12-15T13:38:16.832Z"
   },
   {
    "duration": 14,
    "start_time": "2023-12-15T13:38:16.842Z"
   },
   {
    "duration": 8,
    "start_time": "2023-12-15T13:38:16.857Z"
   },
   {
    "duration": 6,
    "start_time": "2023-12-15T13:38:16.866Z"
   },
   {
    "duration": 9,
    "start_time": "2023-12-15T13:38:16.874Z"
   },
   {
    "duration": 9,
    "start_time": "2023-12-15T13:38:16.884Z"
   },
   {
    "duration": 18,
    "start_time": "2023-12-15T13:38:16.894Z"
   },
   {
    "duration": 18,
    "start_time": "2023-12-15T13:38:16.914Z"
   },
   {
    "duration": 7,
    "start_time": "2023-12-15T13:38:16.934Z"
   },
   {
    "duration": 10,
    "start_time": "2023-12-15T13:38:16.943Z"
   },
   {
    "duration": 7,
    "start_time": "2023-12-15T13:38:16.955Z"
   },
   {
    "duration": 10,
    "start_time": "2023-12-15T13:38:16.963Z"
   },
   {
    "duration": 16,
    "start_time": "2023-12-15T13:38:16.974Z"
   },
   {
    "duration": 7,
    "start_time": "2023-12-15T13:38:16.992Z"
   },
   {
    "duration": 167,
    "start_time": "2023-12-15T13:38:17.001Z"
   },
   {
    "duration": 2,
    "start_time": "2023-12-15T13:38:17.170Z"
   },
   {
    "duration": 129,
    "start_time": "2023-12-15T13:38:17.174Z"
   },
   {
    "duration": 3,
    "start_time": "2023-12-15T13:38:17.305Z"
   },
   {
    "duration": 11,
    "start_time": "2023-12-15T13:38:17.309Z"
   },
   {
    "duration": 8,
    "start_time": "2023-12-15T13:38:17.321Z"
   },
   {
    "duration": 9,
    "start_time": "2023-12-15T13:38:17.331Z"
   },
   {
    "duration": 9,
    "start_time": "2023-12-15T13:38:17.341Z"
   },
   {
    "duration": 15,
    "start_time": "2023-12-15T13:38:17.352Z"
   },
   {
    "duration": 12,
    "start_time": "2023-12-15T13:38:17.369Z"
   },
   {
    "duration": 17,
    "start_time": "2023-12-15T13:38:17.383Z"
   },
   {
    "duration": 418,
    "start_time": "2023-12-15T13:38:17.402Z"
   },
   {
    "duration": 4,
    "start_time": "2023-12-15T13:38:35.401Z"
   },
   {
    "duration": 5,
    "start_time": "2023-12-15T13:38:35.793Z"
   },
   {
    "duration": 4,
    "start_time": "2023-12-15T13:38:36.057Z"
   },
   {
    "duration": 301,
    "start_time": "2023-12-15T13:38:36.555Z"
   },
   {
    "duration": 4,
    "start_time": "2023-12-15T13:41:01.187Z"
   },
   {
    "duration": 268,
    "start_time": "2023-12-15T13:41:01.436Z"
   },
   {
    "duration": 281,
    "start_time": "2023-12-15T13:41:01.772Z"
   },
   {
    "duration": 194,
    "start_time": "2023-12-15T13:41:07.922Z"
   },
   {
    "duration": 339,
    "start_time": "2023-12-15T13:41:32.292Z"
   },
   {
    "duration": 5,
    "start_time": "2023-12-15T13:42:40.415Z"
   },
   {
    "duration": 444,
    "start_time": "2023-12-15T13:42:40.614Z"
   },
   {
    "duration": 363,
    "start_time": "2023-12-15T13:43:36.790Z"
   },
   {
    "duration": 592,
    "start_time": "2023-12-15T13:44:36.017Z"
   },
   {
    "duration": 3,
    "start_time": "2023-12-15T13:45:08.632Z"
   },
   {
    "duration": 493,
    "start_time": "2023-12-15T13:45:09.392Z"
   },
   {
    "duration": 155,
    "start_time": "2023-12-15T14:05:48.090Z"
   },
   {
    "duration": 3,
    "start_time": "2023-12-15T14:05:48.282Z"
   },
   {
    "duration": 7,
    "start_time": "2023-12-15T14:05:48.682Z"
   },
   {
    "duration": 220,
    "start_time": "2023-12-15T14:06:36.346Z"
   },
   {
    "duration": 5,
    "start_time": "2023-12-15T14:08:29.415Z"
   },
   {
    "duration": 9,
    "start_time": "2023-12-15T14:09:37.702Z"
   },
   {
    "duration": 217,
    "start_time": "2023-12-15T14:09:47.327Z"
   },
   {
    "duration": 4,
    "start_time": "2023-12-15T14:10:39.152Z"
   },
   {
    "duration": 142,
    "start_time": "2023-12-15T14:20:12.807Z"
   },
   {
    "duration": 28,
    "start_time": "2023-12-15T14:26:50.070Z"
   },
   {
    "duration": 1171,
    "start_time": "2023-12-15T14:27:08.894Z"
   },
   {
    "duration": 2,
    "start_time": "2023-12-15T14:27:10.067Z"
   },
   {
    "duration": 25,
    "start_time": "2023-12-15T14:27:10.071Z"
   },
   {
    "duration": 43,
    "start_time": "2023-12-15T14:27:10.098Z"
   },
   {
    "duration": 61,
    "start_time": "2023-12-15T14:27:10.143Z"
   },
   {
    "duration": 2,
    "start_time": "2023-12-15T14:27:10.206Z"
   },
   {
    "duration": 10,
    "start_time": "2023-12-15T14:27:10.209Z"
   },
   {
    "duration": 4,
    "start_time": "2023-12-15T14:27:10.222Z"
   },
   {
    "duration": 6,
    "start_time": "2023-12-15T14:27:10.228Z"
   },
   {
    "duration": 3,
    "start_time": "2023-12-15T14:27:10.235Z"
   },
   {
    "duration": 11,
    "start_time": "2023-12-15T14:27:10.239Z"
   },
   {
    "duration": 4,
    "start_time": "2023-12-15T14:27:10.252Z"
   },
   {
    "duration": 6,
    "start_time": "2023-12-15T14:27:10.258Z"
   },
   {
    "duration": 5,
    "start_time": "2023-12-15T14:27:10.266Z"
   },
   {
    "duration": 15,
    "start_time": "2023-12-15T14:27:10.272Z"
   },
   {
    "duration": 3,
    "start_time": "2023-12-15T14:27:10.288Z"
   },
   {
    "duration": 4,
    "start_time": "2023-12-15T14:27:10.292Z"
   },
   {
    "duration": 20,
    "start_time": "2023-12-15T14:27:10.298Z"
   },
   {
    "duration": 5,
    "start_time": "2023-12-15T14:27:10.320Z"
   },
   {
    "duration": 2,
    "start_time": "2023-12-15T14:27:10.329Z"
   },
   {
    "duration": 41,
    "start_time": "2023-12-15T14:27:10.333Z"
   },
   {
    "duration": 11,
    "start_time": "2023-12-15T14:27:10.376Z"
   },
   {
    "duration": 12,
    "start_time": "2023-12-15T14:27:10.388Z"
   },
   {
    "duration": 20,
    "start_time": "2023-12-15T14:27:10.401Z"
   },
   {
    "duration": 7,
    "start_time": "2023-12-15T14:27:10.423Z"
   },
   {
    "duration": 16,
    "start_time": "2023-12-15T14:27:10.432Z"
   },
   {
    "duration": 8,
    "start_time": "2023-12-15T14:27:10.449Z"
   },
   {
    "duration": 20,
    "start_time": "2023-12-15T14:27:10.459Z"
   },
   {
    "duration": 16,
    "start_time": "2023-12-15T14:27:10.481Z"
   },
   {
    "duration": 28,
    "start_time": "2023-12-15T14:27:10.498Z"
   },
   {
    "duration": 17,
    "start_time": "2023-12-15T14:27:10.529Z"
   },
   {
    "duration": 35,
    "start_time": "2023-12-15T14:27:10.547Z"
   },
   {
    "duration": 6,
    "start_time": "2023-12-15T14:27:10.583Z"
   },
   {
    "duration": 20,
    "start_time": "2023-12-15T14:27:10.591Z"
   },
   {
    "duration": 18,
    "start_time": "2023-12-15T14:27:10.613Z"
   },
   {
    "duration": 2,
    "start_time": "2023-12-15T14:27:10.633Z"
   },
   {
    "duration": 4,
    "start_time": "2023-12-15T14:27:10.636Z"
   },
   {
    "duration": 25,
    "start_time": "2023-12-15T14:27:10.641Z"
   },
   {
    "duration": 7,
    "start_time": "2023-12-15T14:27:10.667Z"
   },
   {
    "duration": 4,
    "start_time": "2023-12-15T14:27:10.675Z"
   },
   {
    "duration": 3,
    "start_time": "2023-12-15T14:27:10.683Z"
   },
   {
    "duration": 4,
    "start_time": "2023-12-15T14:27:10.688Z"
   },
   {
    "duration": 4,
    "start_time": "2023-12-15T14:27:10.693Z"
   },
   {
    "duration": 4,
    "start_time": "2023-12-15T14:27:10.698Z"
   },
   {
    "duration": 12,
    "start_time": "2023-12-15T14:27:10.703Z"
   },
   {
    "duration": 3,
    "start_time": "2023-12-15T14:27:10.716Z"
   },
   {
    "duration": 7,
    "start_time": "2023-12-15T14:27:10.721Z"
   },
   {
    "duration": 4,
    "start_time": "2023-12-15T14:27:10.730Z"
   },
   {
    "duration": 10,
    "start_time": "2023-12-15T14:27:10.735Z"
   },
   {
    "duration": 7,
    "start_time": "2023-12-15T14:27:10.746Z"
   },
   {
    "duration": 3,
    "start_time": "2023-12-15T14:27:10.755Z"
   },
   {
    "duration": 16,
    "start_time": "2023-12-15T14:27:10.759Z"
   },
   {
    "duration": 6,
    "start_time": "2023-12-15T14:27:10.777Z"
   },
   {
    "duration": 7,
    "start_time": "2023-12-15T14:27:10.784Z"
   },
   {
    "duration": 182,
    "start_time": "2023-12-15T14:27:10.792Z"
   },
   {
    "duration": 2,
    "start_time": "2023-12-15T14:27:10.976Z"
   },
   {
    "duration": 116,
    "start_time": "2023-12-15T14:27:10.979Z"
   },
   {
    "duration": 3,
    "start_time": "2023-12-15T14:27:11.096Z"
   },
   {
    "duration": 15,
    "start_time": "2023-12-15T14:27:11.100Z"
   },
   {
    "duration": 3,
    "start_time": "2023-12-15T14:27:11.117Z"
   },
   {
    "duration": 11,
    "start_time": "2023-12-15T14:27:11.122Z"
   },
   {
    "duration": 3,
    "start_time": "2023-12-15T14:27:11.134Z"
   },
   {
    "duration": 5,
    "start_time": "2023-12-15T14:27:11.138Z"
   },
   {
    "duration": 6,
    "start_time": "2023-12-15T14:27:11.144Z"
   },
   {
    "duration": 7,
    "start_time": "2023-12-15T14:27:11.151Z"
   },
   {
    "duration": 416,
    "start_time": "2023-12-15T14:27:11.159Z"
   },
   {
    "duration": 3,
    "start_time": "2023-12-15T14:27:11.576Z"
   },
   {
    "duration": 5,
    "start_time": "2023-12-15T14:27:11.581Z"
   },
   {
    "duration": 5,
    "start_time": "2023-12-15T14:27:11.588Z"
   },
   {
    "duration": 377,
    "start_time": "2023-12-15T14:27:11.594Z"
   },
   {
    "duration": 3,
    "start_time": "2023-12-15T14:27:11.972Z"
   },
   {
    "duration": 7,
    "start_time": "2023-12-15T14:27:11.976Z"
   },
   {
    "duration": 5,
    "start_time": "2023-12-15T14:27:11.985Z"
   },
   {
    "duration": 4,
    "start_time": "2023-12-15T14:27:11.991Z"
   },
   {
    "duration": 448,
    "start_time": "2023-12-15T14:27:11.996Z"
   },
   {
    "duration": 10,
    "start_time": "2023-12-15T14:27:12.446Z"
   },
   {
    "duration": 4,
    "start_time": "2023-12-15T14:27:12.457Z"
   },
   {
    "duration": 2,
    "start_time": "2023-12-15T14:27:12.463Z"
   },
   {
    "duration": 350,
    "start_time": "2023-12-15T14:27:12.467Z"
   },
   {
    "duration": 4,
    "start_time": "2023-12-15T14:27:12.819Z"
   },
   {
    "duration": 3,
    "start_time": "2023-12-15T14:27:12.831Z"
   },
   {
    "duration": 13,
    "start_time": "2023-12-15T14:27:12.836Z"
   },
   {
    "duration": 10,
    "start_time": "2023-12-15T14:27:12.850Z"
   },
   {
    "duration": 473,
    "start_time": "2023-12-15T14:27:12.862Z"
   },
   {
    "duration": 3,
    "start_time": "2023-12-15T14:27:13.336Z"
   },
   {
    "duration": 9,
    "start_time": "2023-12-15T14:27:13.340Z"
   },
   {
    "duration": 4,
    "start_time": "2023-12-15T14:27:13.350Z"
   },
   {
    "duration": 139,
    "start_time": "2023-12-15T14:27:13.355Z"
   },
   {
    "duration": 3,
    "start_time": "2023-12-15T14:27:13.496Z"
   },
   {
    "duration": 15,
    "start_time": "2023-12-15T14:27:13.501Z"
   },
   {
    "duration": 6,
    "start_time": "2023-12-15T14:27:13.518Z"
   },
   {
    "duration": 216,
    "start_time": "2023-12-15T14:27:13.527Z"
   },
   {
    "duration": 3,
    "start_time": "2023-12-15T14:27:13.745Z"
   },
   {
    "duration": 5,
    "start_time": "2023-12-15T14:27:13.749Z"
   },
   {
    "duration": 6,
    "start_time": "2023-12-15T14:27:13.755Z"
   },
   {
    "duration": 3,
    "start_time": "2023-12-15T14:27:13.762Z"
   },
   {
    "duration": 4,
    "start_time": "2023-12-15T14:27:13.766Z"
   },
   {
    "duration": 4,
    "start_time": "2023-12-15T14:27:13.771Z"
   },
   {
    "duration": 11,
    "start_time": "2023-12-15T14:27:13.776Z"
   },
   {
    "duration": 259,
    "start_time": "2023-12-15T14:27:13.788Z"
   },
   {
    "duration": 2,
    "start_time": "2023-12-15T14:27:14.049Z"
   },
   {
    "duration": 5,
    "start_time": "2023-12-15T14:27:14.052Z"
   },
   {
    "duration": 8,
    "start_time": "2023-12-15T14:27:14.058Z"
   },
   {
    "duration": 13,
    "start_time": "2023-12-15T14:27:14.068Z"
   },
   {
    "duration": 4,
    "start_time": "2023-12-15T14:27:14.082Z"
   },
   {
    "duration": 140,
    "start_time": "2023-12-15T14:27:14.087Z"
   },
   {
    "duration": 11,
    "start_time": "2023-12-15T14:39:32.273Z"
   },
   {
    "duration": 108,
    "start_time": "2023-12-15T14:40:36.329Z"
   },
   {
    "duration": 9,
    "start_time": "2023-12-15T14:40:50.066Z"
   },
   {
    "duration": 86,
    "start_time": "2023-12-15T14:50:49.346Z"
   },
   {
    "duration": 1223,
    "start_time": "2023-12-15T14:50:59.815Z"
   },
   {
    "duration": 4,
    "start_time": "2023-12-15T14:51:01.039Z"
   },
   {
    "duration": 29,
    "start_time": "2023-12-15T14:51:01.044Z"
   },
   {
    "duration": 56,
    "start_time": "2023-12-15T14:51:01.075Z"
   },
   {
    "duration": 25,
    "start_time": "2023-12-15T14:51:01.133Z"
   },
   {
    "duration": 37,
    "start_time": "2023-12-15T14:51:01.160Z"
   },
   {
    "duration": 76,
    "start_time": "2023-12-15T14:51:01.199Z"
   },
   {
    "duration": 78,
    "start_time": "2023-12-15T14:51:01.277Z"
   },
   {
    "duration": 78,
    "start_time": "2023-12-15T14:51:01.356Z"
   },
   {
    "duration": 56,
    "start_time": "2023-12-15T14:51:01.435Z"
   },
   {
    "duration": 60,
    "start_time": "2023-12-15T14:51:01.493Z"
   },
   {
    "duration": 28,
    "start_time": "2023-12-15T14:51:01.554Z"
   },
   {
    "duration": 28,
    "start_time": "2023-12-15T14:51:01.584Z"
   },
   {
    "duration": 29,
    "start_time": "2023-12-15T14:51:01.617Z"
   },
   {
    "duration": 36,
    "start_time": "2023-12-15T14:51:01.648Z"
   },
   {
    "duration": 39,
    "start_time": "2023-12-15T14:51:01.686Z"
   },
   {
    "duration": 60,
    "start_time": "2023-12-15T14:51:01.729Z"
   },
   {
    "duration": 37,
    "start_time": "2023-12-15T14:51:01.791Z"
   },
   {
    "duration": 68,
    "start_time": "2023-12-15T14:51:01.830Z"
   },
   {
    "duration": 31,
    "start_time": "2023-12-15T14:51:01.899Z"
   },
   {
    "duration": 64,
    "start_time": "2023-12-15T14:51:01.932Z"
   },
   {
    "duration": 8,
    "start_time": "2023-12-15T14:51:01.998Z"
   },
   {
    "duration": 62,
    "start_time": "2023-12-15T14:51:02.008Z"
   },
   {
    "duration": 35,
    "start_time": "2023-12-15T14:51:02.072Z"
   },
   {
    "duration": 36,
    "start_time": "2023-12-15T14:51:02.110Z"
   },
   {
    "duration": 54,
    "start_time": "2023-12-15T14:51:02.149Z"
   },
   {
    "duration": 99,
    "start_time": "2023-12-15T14:51:02.205Z"
   },
   {
    "duration": 54,
    "start_time": "2023-12-15T14:51:02.305Z"
   },
   {
    "duration": 18,
    "start_time": "2023-12-15T14:51:02.360Z"
   },
   {
    "duration": 10,
    "start_time": "2023-12-15T14:51:02.380Z"
   },
   {
    "duration": 54,
    "start_time": "2023-12-15T14:51:02.391Z"
   },
   {
    "duration": 31,
    "start_time": "2023-12-15T14:51:02.447Z"
   },
   {
    "duration": 21,
    "start_time": "2023-12-15T14:51:02.481Z"
   },
   {
    "duration": 31,
    "start_time": "2023-12-15T14:51:02.504Z"
   },
   {
    "duration": 24,
    "start_time": "2023-12-15T14:51:02.536Z"
   },
   {
    "duration": 8,
    "start_time": "2023-12-15T14:51:02.562Z"
   },
   {
    "duration": 8,
    "start_time": "2023-12-15T14:51:02.572Z"
   },
   {
    "duration": 16,
    "start_time": "2023-12-15T14:51:02.583Z"
   },
   {
    "duration": 8,
    "start_time": "2023-12-15T14:51:02.600Z"
   },
   {
    "duration": 44,
    "start_time": "2023-12-15T14:51:02.609Z"
   },
   {
    "duration": 12,
    "start_time": "2023-12-15T14:51:02.658Z"
   },
   {
    "duration": 19,
    "start_time": "2023-12-15T14:51:02.672Z"
   },
   {
    "duration": 34,
    "start_time": "2023-12-15T14:51:02.693Z"
   },
   {
    "duration": 9,
    "start_time": "2023-12-15T14:51:02.729Z"
   },
   {
    "duration": 16,
    "start_time": "2023-12-15T14:51:02.740Z"
   },
   {
    "duration": 6,
    "start_time": "2023-12-15T14:51:02.758Z"
   },
   {
    "duration": 11,
    "start_time": "2023-12-15T14:51:02.765Z"
   },
   {
    "duration": 10,
    "start_time": "2023-12-15T14:51:02.777Z"
   },
   {
    "duration": 22,
    "start_time": "2023-12-15T14:51:02.789Z"
   },
   {
    "duration": 17,
    "start_time": "2023-12-15T14:51:02.813Z"
   },
   {
    "duration": 5,
    "start_time": "2023-12-15T14:51:02.832Z"
   },
   {
    "duration": 8,
    "start_time": "2023-12-15T14:51:02.839Z"
   },
   {
    "duration": 13,
    "start_time": "2023-12-15T14:51:02.849Z"
   },
   {
    "duration": 22,
    "start_time": "2023-12-15T14:51:02.863Z"
   },
   {
    "duration": 176,
    "start_time": "2023-12-15T14:51:02.886Z"
   },
   {
    "duration": 2,
    "start_time": "2023-12-15T14:51:03.063Z"
   },
   {
    "duration": 169,
    "start_time": "2023-12-15T14:51:03.067Z"
   },
   {
    "duration": 3,
    "start_time": "2023-12-15T14:51:03.237Z"
   },
   {
    "duration": 25,
    "start_time": "2023-12-15T14:51:03.241Z"
   },
   {
    "duration": 11,
    "start_time": "2023-12-15T14:51:03.267Z"
   },
   {
    "duration": 30,
    "start_time": "2023-12-15T14:51:03.279Z"
   },
   {
    "duration": 23,
    "start_time": "2023-12-15T14:51:03.310Z"
   },
   {
    "duration": 12,
    "start_time": "2023-12-15T14:51:03.334Z"
   },
   {
    "duration": 25,
    "start_time": "2023-12-15T14:51:03.347Z"
   },
   {
    "duration": 11,
    "start_time": "2023-12-15T14:51:03.373Z"
   },
   {
    "duration": 413,
    "start_time": "2023-12-15T14:51:03.386Z"
   },
   {
    "duration": 2,
    "start_time": "2023-12-15T14:51:03.801Z"
   },
   {
    "duration": 26,
    "start_time": "2023-12-15T14:51:03.804Z"
   },
   {
    "duration": 22,
    "start_time": "2023-12-15T14:51:03.832Z"
   },
   {
    "duration": 344,
    "start_time": "2023-12-15T14:51:03.855Z"
   },
   {
    "duration": 2,
    "start_time": "2023-12-15T14:51:04.201Z"
   },
   {
    "duration": 21,
    "start_time": "2023-12-15T14:51:04.204Z"
   },
   {
    "duration": 4,
    "start_time": "2023-12-15T14:51:04.227Z"
   },
   {
    "duration": 5,
    "start_time": "2023-12-15T14:51:04.232Z"
   },
   {
    "duration": 411,
    "start_time": "2023-12-15T14:51:04.238Z"
   },
   {
    "duration": 3,
    "start_time": "2023-12-15T14:51:04.651Z"
   },
   {
    "duration": 14,
    "start_time": "2023-12-15T14:51:04.655Z"
   },
   {
    "duration": 4,
    "start_time": "2023-12-15T14:51:04.670Z"
   },
   {
    "duration": 345,
    "start_time": "2023-12-15T14:51:04.675Z"
   },
   {
    "duration": 3,
    "start_time": "2023-12-15T14:51:05.022Z"
   },
   {
    "duration": 36,
    "start_time": "2023-12-15T14:51:05.028Z"
   },
   {
    "duration": 80,
    "start_time": "2023-12-15T14:51:05.065Z"
   },
   {
    "duration": 30,
    "start_time": "2023-12-15T14:51:05.147Z"
   },
   {
    "duration": 492,
    "start_time": "2023-12-15T14:51:05.179Z"
   },
   {
    "duration": 2,
    "start_time": "2023-12-15T14:51:05.673Z"
   },
   {
    "duration": 16,
    "start_time": "2023-12-15T14:51:05.676Z"
   },
   {
    "duration": 38,
    "start_time": "2023-12-15T14:51:05.694Z"
   },
   {
    "duration": 193,
    "start_time": "2023-12-15T14:51:05.733Z"
   },
   {
    "duration": 4,
    "start_time": "2023-12-15T14:51:05.928Z"
   },
   {
    "duration": 47,
    "start_time": "2023-12-15T14:51:05.934Z"
   },
   {
    "duration": 47,
    "start_time": "2023-12-15T14:51:05.983Z"
   },
   {
    "duration": 223,
    "start_time": "2023-12-15T14:51:06.032Z"
   },
   {
    "duration": 3,
    "start_time": "2023-12-15T14:51:06.256Z"
   },
   {
    "duration": 15,
    "start_time": "2023-12-15T14:51:06.260Z"
   },
   {
    "duration": 6,
    "start_time": "2023-12-15T14:51:06.277Z"
   },
   {
    "duration": 11,
    "start_time": "2023-12-15T14:51:06.284Z"
   },
   {
    "duration": 7,
    "start_time": "2023-12-15T14:51:06.296Z"
   },
   {
    "duration": 31,
    "start_time": "2023-12-15T14:51:06.305Z"
   },
   {
    "duration": 38,
    "start_time": "2023-12-15T14:51:06.337Z"
   },
   {
    "duration": 230,
    "start_time": "2023-12-15T14:51:06.376Z"
   },
   {
    "duration": 2,
    "start_time": "2023-12-15T14:51:06.608Z"
   },
   {
    "duration": 11,
    "start_time": "2023-12-15T14:51:06.612Z"
   },
   {
    "duration": 8,
    "start_time": "2023-12-15T14:51:06.625Z"
   },
   {
    "duration": 4,
    "start_time": "2023-12-15T14:51:06.634Z"
   },
   {
    "duration": 8,
    "start_time": "2023-12-15T14:51:06.639Z"
   },
   {
    "duration": 74,
    "start_time": "2023-12-15T14:51:06.648Z"
   },
   {
    "duration": 352,
    "start_time": "2023-12-15T14:51:44.424Z"
   },
   {
    "duration": 215,
    "start_time": "2023-12-15T14:52:49.049Z"
   },
   {
    "duration": 445,
    "start_time": "2023-12-15T15:04:25.306Z"
   },
   {
    "duration": 1113,
    "start_time": "2023-12-15T15:34:44.745Z"
   },
   {
    "duration": 3,
    "start_time": "2023-12-15T15:34:45.860Z"
   },
   {
    "duration": 13,
    "start_time": "2023-12-15T15:34:45.864Z"
   },
   {
    "duration": 33,
    "start_time": "2023-12-15T15:34:45.878Z"
   },
   {
    "duration": 11,
    "start_time": "2023-12-15T15:34:45.912Z"
   },
   {
    "duration": 10,
    "start_time": "2023-12-15T15:34:45.924Z"
   },
   {
    "duration": 8,
    "start_time": "2023-12-15T15:34:45.935Z"
   },
   {
    "duration": 15,
    "start_time": "2023-12-15T15:34:45.944Z"
   },
   {
    "duration": 8,
    "start_time": "2023-12-15T15:34:45.960Z"
   },
   {
    "duration": 3,
    "start_time": "2023-12-15T15:34:45.969Z"
   },
   {
    "duration": 18,
    "start_time": "2023-12-15T15:34:45.973Z"
   },
   {
    "duration": 16,
    "start_time": "2023-12-15T15:34:45.992Z"
   },
   {
    "duration": 6,
    "start_time": "2023-12-15T15:34:46.009Z"
   },
   {
    "duration": 11,
    "start_time": "2023-12-15T15:34:46.017Z"
   },
   {
    "duration": 19,
    "start_time": "2023-12-15T15:34:46.029Z"
   },
   {
    "duration": 7,
    "start_time": "2023-12-15T15:34:46.049Z"
   },
   {
    "duration": 59,
    "start_time": "2023-12-15T15:34:46.058Z"
   },
   {
    "duration": 5,
    "start_time": "2023-12-15T15:34:46.119Z"
   },
   {
    "duration": 25,
    "start_time": "2023-12-15T15:34:46.125Z"
   },
   {
    "duration": 54,
    "start_time": "2023-12-15T15:34:46.152Z"
   },
   {
    "duration": 58,
    "start_time": "2023-12-15T15:34:46.207Z"
   },
   {
    "duration": 7,
    "start_time": "2023-12-15T15:34:46.266Z"
   },
   {
    "duration": 31,
    "start_time": "2023-12-15T15:34:46.274Z"
   },
   {
    "duration": 8,
    "start_time": "2023-12-15T15:34:46.306Z"
   },
   {
    "duration": 17,
    "start_time": "2023-12-15T15:34:46.316Z"
   },
   {
    "duration": 17,
    "start_time": "2023-12-15T15:34:46.334Z"
   },
   {
    "duration": 7,
    "start_time": "2023-12-15T15:34:46.353Z"
   },
   {
    "duration": 43,
    "start_time": "2023-12-15T15:34:46.361Z"
   },
   {
    "duration": 5,
    "start_time": "2023-12-15T15:34:46.406Z"
   },
   {
    "duration": 14,
    "start_time": "2023-12-15T15:34:46.413Z"
   },
   {
    "duration": 4,
    "start_time": "2023-12-15T15:34:46.428Z"
   },
   {
    "duration": 13,
    "start_time": "2023-12-15T15:34:46.433Z"
   },
   {
    "duration": 48,
    "start_time": "2023-12-15T15:34:46.447Z"
   },
   {
    "duration": 24,
    "start_time": "2023-12-15T15:34:46.497Z"
   },
   {
    "duration": 25,
    "start_time": "2023-12-15T15:34:46.522Z"
   },
   {
    "duration": 26,
    "start_time": "2023-12-15T15:34:46.548Z"
   },
   {
    "duration": 23,
    "start_time": "2023-12-15T15:34:46.576Z"
   },
   {
    "duration": 8,
    "start_time": "2023-12-15T15:34:46.600Z"
   },
   {
    "duration": 14,
    "start_time": "2023-12-15T15:34:46.609Z"
   },
   {
    "duration": 6,
    "start_time": "2023-12-15T15:34:46.624Z"
   },
   {
    "duration": 3,
    "start_time": "2023-12-15T15:34:46.635Z"
   },
   {
    "duration": 9,
    "start_time": "2023-12-15T15:34:46.639Z"
   },
   {
    "duration": 3,
    "start_time": "2023-12-15T15:34:46.649Z"
   },
   {
    "duration": 6,
    "start_time": "2023-12-15T15:34:46.654Z"
   },
   {
    "duration": 15,
    "start_time": "2023-12-15T15:34:46.661Z"
   },
   {
    "duration": 11,
    "start_time": "2023-12-15T15:34:46.678Z"
   },
   {
    "duration": 10,
    "start_time": "2023-12-15T15:34:46.691Z"
   },
   {
    "duration": 6,
    "start_time": "2023-12-15T15:34:46.703Z"
   },
   {
    "duration": 8,
    "start_time": "2023-12-15T15:34:46.711Z"
   },
   {
    "duration": 18,
    "start_time": "2023-12-15T15:34:46.721Z"
   },
   {
    "duration": 24,
    "start_time": "2023-12-15T15:34:46.741Z"
   },
   {
    "duration": 9,
    "start_time": "2023-12-15T15:34:46.767Z"
   },
   {
    "duration": 10,
    "start_time": "2023-12-15T15:34:46.778Z"
   },
   {
    "duration": 5,
    "start_time": "2023-12-15T15:34:46.789Z"
   },
   {
    "duration": 157,
    "start_time": "2023-12-15T15:34:46.796Z"
   },
   {
    "duration": 2,
    "start_time": "2023-12-15T15:34:46.954Z"
   },
   {
    "duration": 113,
    "start_time": "2023-12-15T15:34:46.958Z"
   },
   {
    "duration": 2,
    "start_time": "2023-12-15T15:34:47.073Z"
   },
   {
    "duration": 12,
    "start_time": "2023-12-15T15:34:47.076Z"
   },
   {
    "duration": 6,
    "start_time": "2023-12-15T15:34:47.090Z"
   },
   {
    "duration": 20,
    "start_time": "2023-12-15T15:34:47.098Z"
   },
   {
    "duration": 3,
    "start_time": "2023-12-15T15:34:47.119Z"
   },
   {
    "duration": 5,
    "start_time": "2023-12-15T15:34:47.123Z"
   },
   {
    "duration": 5,
    "start_time": "2023-12-15T15:34:47.129Z"
   },
   {
    "duration": 5,
    "start_time": "2023-12-15T15:34:47.135Z"
   },
   {
    "duration": 397,
    "start_time": "2023-12-15T15:34:47.141Z"
   },
   {
    "duration": 3,
    "start_time": "2023-12-15T15:34:47.539Z"
   },
   {
    "duration": 5,
    "start_time": "2023-12-15T15:34:47.543Z"
   },
   {
    "duration": 5,
    "start_time": "2023-12-15T15:34:47.549Z"
   },
   {
    "duration": 343,
    "start_time": "2023-12-15T15:34:47.555Z"
   },
   {
    "duration": 3,
    "start_time": "2023-12-15T15:34:47.900Z"
   },
   {
    "duration": 16,
    "start_time": "2023-12-15T15:34:47.905Z"
   },
   {
    "duration": 4,
    "start_time": "2023-12-15T15:34:47.922Z"
   },
   {
    "duration": 5,
    "start_time": "2023-12-15T15:34:47.927Z"
   },
   {
    "duration": 398,
    "start_time": "2023-12-15T15:34:47.933Z"
   },
   {
    "duration": 3,
    "start_time": "2023-12-15T15:34:48.332Z"
   },
   {
    "duration": 7,
    "start_time": "2023-12-15T15:34:48.337Z"
   },
   {
    "duration": 3,
    "start_time": "2023-12-15T15:34:48.345Z"
   },
   {
    "duration": 326,
    "start_time": "2023-12-15T15:34:48.349Z"
   },
   {
    "duration": 2,
    "start_time": "2023-12-15T15:34:48.677Z"
   },
   {
    "duration": 11,
    "start_time": "2023-12-15T15:34:48.681Z"
   },
   {
    "duration": 5,
    "start_time": "2023-12-15T15:34:48.693Z"
   },
   {
    "duration": 7,
    "start_time": "2023-12-15T15:34:48.699Z"
   },
   {
    "duration": 446,
    "start_time": "2023-12-15T15:34:48.707Z"
   },
   {
    "duration": 2,
    "start_time": "2023-12-15T15:34:49.155Z"
   },
   {
    "duration": 4,
    "start_time": "2023-12-15T15:34:49.159Z"
   },
   {
    "duration": 3,
    "start_time": "2023-12-15T15:34:49.165Z"
   },
   {
    "duration": 128,
    "start_time": "2023-12-15T15:34:49.169Z"
   },
   {
    "duration": 16,
    "start_time": "2023-12-15T15:34:49.299Z"
   },
   {
    "duration": 7,
    "start_time": "2023-12-15T15:34:49.316Z"
   },
   {
    "duration": 3,
    "start_time": "2023-12-15T15:34:49.324Z"
   },
   {
    "duration": 200,
    "start_time": "2023-12-15T15:34:49.328Z"
   },
   {
    "duration": 2,
    "start_time": "2023-12-15T15:34:49.530Z"
   },
   {
    "duration": 8,
    "start_time": "2023-12-15T15:34:49.534Z"
   },
   {
    "duration": 6,
    "start_time": "2023-12-15T15:34:49.543Z"
   },
   {
    "duration": 3,
    "start_time": "2023-12-15T15:34:49.550Z"
   },
   {
    "duration": 4,
    "start_time": "2023-12-15T15:34:49.554Z"
   },
   {
    "duration": 4,
    "start_time": "2023-12-15T15:34:49.559Z"
   },
   {
    "duration": 10,
    "start_time": "2023-12-15T15:34:49.564Z"
   },
   {
    "duration": 230,
    "start_time": "2023-12-15T15:34:49.575Z"
   },
   {
    "duration": 7,
    "start_time": "2023-12-15T15:34:49.807Z"
   },
   {
    "duration": 4,
    "start_time": "2023-12-15T15:34:49.816Z"
   },
   {
    "duration": 6,
    "start_time": "2023-12-15T15:34:49.822Z"
   },
   {
    "duration": 7,
    "start_time": "2023-12-15T15:34:49.829Z"
   },
   {
    "duration": 2,
    "start_time": "2023-12-15T15:34:49.838Z"
   },
   {
    "duration": 6,
    "start_time": "2023-12-15T15:34:49.841Z"
   },
   {
    "duration": 110,
    "start_time": "2023-12-15T15:34:49.848Z"
   },
   {
    "duration": 0,
    "start_time": "2023-12-15T15:34:49.960Z"
   },
   {
    "duration": 0,
    "start_time": "2023-12-15T15:34:49.960Z"
   },
   {
    "duration": 12,
    "start_time": "2023-12-15T15:35:51.294Z"
   },
   {
    "duration": 15,
    "start_time": "2023-12-15T15:36:02.622Z"
   },
   {
    "duration": 8,
    "start_time": "2023-12-15T15:36:23.761Z"
   },
   {
    "duration": 7,
    "start_time": "2023-12-15T15:36:28.151Z"
   },
   {
    "duration": 6,
    "start_time": "2023-12-15T15:36:28.774Z"
   },
   {
    "duration": 8,
    "start_time": "2023-12-15T15:37:01.950Z"
   },
   {
    "duration": 28,
    "start_time": "2023-12-15T15:37:56.792Z"
   },
   {
    "duration": 14,
    "start_time": "2023-12-15T15:39:52.170Z"
   },
   {
    "duration": 1158,
    "start_time": "2023-12-15T15:48:19.332Z"
   },
   {
    "duration": 4,
    "start_time": "2023-12-15T15:48:20.492Z"
   },
   {
    "duration": 21,
    "start_time": "2023-12-15T15:48:20.497Z"
   },
   {
    "duration": 44,
    "start_time": "2023-12-15T15:48:20.519Z"
   },
   {
    "duration": 10,
    "start_time": "2023-12-15T15:48:20.565Z"
   },
   {
    "duration": 2,
    "start_time": "2023-12-15T15:48:20.577Z"
   },
   {
    "duration": 17,
    "start_time": "2023-12-15T15:48:20.581Z"
   },
   {
    "duration": 8,
    "start_time": "2023-12-15T15:48:20.599Z"
   },
   {
    "duration": 15,
    "start_time": "2023-12-15T15:48:20.608Z"
   },
   {
    "duration": 4,
    "start_time": "2023-12-15T15:48:20.625Z"
   },
   {
    "duration": 36,
    "start_time": "2023-12-15T15:48:20.630Z"
   },
   {
    "duration": 7,
    "start_time": "2023-12-15T15:48:20.668Z"
   },
   {
    "duration": 21,
    "start_time": "2023-12-15T15:48:20.676Z"
   },
   {
    "duration": 6,
    "start_time": "2023-12-15T15:48:20.701Z"
   },
   {
    "duration": 12,
    "start_time": "2023-12-15T15:48:20.709Z"
   },
   {
    "duration": 10,
    "start_time": "2023-12-15T15:48:20.722Z"
   },
   {
    "duration": 6,
    "start_time": "2023-12-15T15:48:20.734Z"
   },
   {
    "duration": 13,
    "start_time": "2023-12-15T15:48:20.741Z"
   },
   {
    "duration": 7,
    "start_time": "2023-12-15T15:48:20.755Z"
   },
   {
    "duration": 6,
    "start_time": "2023-12-15T15:48:20.763Z"
   },
   {
    "duration": 56,
    "start_time": "2023-12-15T15:48:20.770Z"
   },
   {
    "duration": 11,
    "start_time": "2023-12-15T15:48:20.828Z"
   },
   {
    "duration": 24,
    "start_time": "2023-12-15T15:48:20.840Z"
   },
   {
    "duration": 13,
    "start_time": "2023-12-15T15:48:20.866Z"
   },
   {
    "duration": 18,
    "start_time": "2023-12-15T15:48:20.881Z"
   },
   {
    "duration": 16,
    "start_time": "2023-12-15T15:48:20.901Z"
   },
   {
    "duration": 7,
    "start_time": "2023-12-15T15:48:20.918Z"
   },
   {
    "duration": 25,
    "start_time": "2023-12-15T15:48:20.927Z"
   },
   {
    "duration": 10,
    "start_time": "2023-12-15T15:48:20.953Z"
   },
   {
    "duration": 5,
    "start_time": "2023-12-15T15:48:20.964Z"
   },
   {
    "duration": 3,
    "start_time": "2023-12-15T15:48:20.970Z"
   },
   {
    "duration": 15,
    "start_time": "2023-12-15T15:48:20.975Z"
   },
   {
    "duration": 11,
    "start_time": "2023-12-15T15:48:20.991Z"
   },
   {
    "duration": 16,
    "start_time": "2023-12-15T15:48:21.003Z"
   },
   {
    "duration": 20,
    "start_time": "2023-12-15T15:48:21.020Z"
   },
   {
    "duration": 12,
    "start_time": "2023-12-15T15:48:21.042Z"
   },
   {
    "duration": 16,
    "start_time": "2023-12-15T15:48:21.055Z"
   },
   {
    "duration": 10,
    "start_time": "2023-12-15T15:48:21.073Z"
   },
   {
    "duration": 6,
    "start_time": "2023-12-15T15:48:21.084Z"
   },
   {
    "duration": 5,
    "start_time": "2023-12-15T15:48:21.091Z"
   },
   {
    "duration": 8,
    "start_time": "2023-12-15T15:48:21.101Z"
   },
   {
    "duration": 22,
    "start_time": "2023-12-15T15:48:21.110Z"
   },
   {
    "duration": 4,
    "start_time": "2023-12-15T15:48:21.134Z"
   },
   {
    "duration": 4,
    "start_time": "2023-12-15T15:48:21.139Z"
   },
   {
    "duration": 5,
    "start_time": "2023-12-15T15:48:21.144Z"
   },
   {
    "duration": 4,
    "start_time": "2023-12-15T15:48:21.151Z"
   },
   {
    "duration": 6,
    "start_time": "2023-12-15T15:48:21.156Z"
   },
   {
    "duration": 6,
    "start_time": "2023-12-15T15:48:21.164Z"
   },
   {
    "duration": 3,
    "start_time": "2023-12-15T15:48:21.171Z"
   },
   {
    "duration": 5,
    "start_time": "2023-12-15T15:48:21.176Z"
   },
   {
    "duration": 7,
    "start_time": "2023-12-15T15:48:21.182Z"
   },
   {
    "duration": 7,
    "start_time": "2023-12-15T15:48:21.190Z"
   },
   {
    "duration": 6,
    "start_time": "2023-12-15T15:48:21.199Z"
   },
   {
    "duration": 4,
    "start_time": "2023-12-15T15:48:21.206Z"
   },
   {
    "duration": 182,
    "start_time": "2023-12-15T15:48:21.212Z"
   },
   {
    "duration": 2,
    "start_time": "2023-12-15T15:48:21.396Z"
   },
   {
    "duration": 120,
    "start_time": "2023-12-15T15:48:21.399Z"
   },
   {
    "duration": 2,
    "start_time": "2023-12-15T15:48:21.521Z"
   },
   {
    "duration": 13,
    "start_time": "2023-12-15T15:48:21.525Z"
   },
   {
    "duration": 4,
    "start_time": "2023-12-15T15:48:21.539Z"
   },
   {
    "duration": 59,
    "start_time": "2023-12-15T15:48:21.545Z"
   },
   {
    "duration": 57,
    "start_time": "2023-12-15T15:48:21.606Z"
   },
   {
    "duration": 45,
    "start_time": "2023-12-15T15:48:21.665Z"
   },
   {
    "duration": 86,
    "start_time": "2023-12-15T15:48:21.712Z"
   },
   {
    "duration": 34,
    "start_time": "2023-12-15T15:48:21.800Z"
   },
   {
    "duration": 432,
    "start_time": "2023-12-15T15:48:21.835Z"
   },
   {
    "duration": 3,
    "start_time": "2023-12-15T15:48:22.268Z"
   },
   {
    "duration": 15,
    "start_time": "2023-12-15T15:48:22.273Z"
   },
   {
    "duration": 23,
    "start_time": "2023-12-15T15:48:22.290Z"
   },
   {
    "duration": 344,
    "start_time": "2023-12-15T15:48:22.315Z"
   },
   {
    "duration": 3,
    "start_time": "2023-12-15T15:48:22.660Z"
   },
   {
    "duration": 15,
    "start_time": "2023-12-15T15:48:22.664Z"
   },
   {
    "duration": 5,
    "start_time": "2023-12-15T15:48:22.680Z"
   },
   {
    "duration": 5,
    "start_time": "2023-12-15T15:48:22.686Z"
   },
   {
    "duration": 445,
    "start_time": "2023-12-15T15:48:22.692Z"
   },
   {
    "duration": 3,
    "start_time": "2023-12-15T15:48:23.139Z"
   },
   {
    "duration": 17,
    "start_time": "2023-12-15T15:48:23.144Z"
   },
   {
    "duration": 15,
    "start_time": "2023-12-15T15:48:23.163Z"
   },
   {
    "duration": 308,
    "start_time": "2023-12-15T15:48:23.180Z"
   },
   {
    "duration": 3,
    "start_time": "2023-12-15T15:48:23.490Z"
   },
   {
    "duration": 12,
    "start_time": "2023-12-15T15:48:23.495Z"
   },
   {
    "duration": 3,
    "start_time": "2023-12-15T15:48:23.514Z"
   },
   {
    "duration": 6,
    "start_time": "2023-12-15T15:48:23.519Z"
   },
   {
    "duration": 439,
    "start_time": "2023-12-15T15:48:23.526Z"
   },
   {
    "duration": 2,
    "start_time": "2023-12-15T15:48:23.966Z"
   },
   {
    "duration": 24,
    "start_time": "2023-12-15T15:48:23.970Z"
   },
   {
    "duration": 10,
    "start_time": "2023-12-15T15:48:23.995Z"
   },
   {
    "duration": 111,
    "start_time": "2023-12-15T15:48:24.006Z"
   },
   {
    "duration": 2,
    "start_time": "2023-12-15T15:48:24.119Z"
   },
   {
    "duration": 13,
    "start_time": "2023-12-15T15:48:24.123Z"
   },
   {
    "duration": 2,
    "start_time": "2023-12-15T15:48:24.137Z"
   },
   {
    "duration": 202,
    "start_time": "2023-12-15T15:48:24.141Z"
   },
   {
    "duration": 3,
    "start_time": "2023-12-15T15:48:24.344Z"
   },
   {
    "duration": 6,
    "start_time": "2023-12-15T15:48:24.348Z"
   },
   {
    "duration": 4,
    "start_time": "2023-12-15T15:48:24.355Z"
   },
   {
    "duration": 3,
    "start_time": "2023-12-15T15:48:24.360Z"
   },
   {
    "duration": 2,
    "start_time": "2023-12-15T15:48:24.365Z"
   },
   {
    "duration": 3,
    "start_time": "2023-12-15T15:48:24.369Z"
   },
   {
    "duration": 12,
    "start_time": "2023-12-15T15:48:24.373Z"
   },
   {
    "duration": 244,
    "start_time": "2023-12-15T15:48:24.387Z"
   },
   {
    "duration": 3,
    "start_time": "2023-12-15T15:48:24.632Z"
   },
   {
    "duration": 9,
    "start_time": "2023-12-15T15:48:24.636Z"
   },
   {
    "duration": 10,
    "start_time": "2023-12-15T15:48:24.646Z"
   },
   {
    "duration": 5,
    "start_time": "2023-12-15T15:48:24.657Z"
   },
   {
    "duration": 5,
    "start_time": "2023-12-15T15:48:24.663Z"
   },
   {
    "duration": 7,
    "start_time": "2023-12-15T15:48:24.669Z"
   },
   {
    "duration": 10,
    "start_time": "2023-12-15T15:48:24.678Z"
   },
   {
    "duration": 6,
    "start_time": "2023-12-15T15:48:24.689Z"
   },
   {
    "duration": 7,
    "start_time": "2023-12-15T15:48:24.717Z"
   },
   {
    "duration": 12,
    "start_time": "2023-12-15T15:48:24.725Z"
   },
   {
    "duration": 7,
    "start_time": "2023-12-15T15:48:24.738Z"
   },
   {
    "duration": 11,
    "start_time": "2023-12-15T15:48:24.747Z"
   },
   {
    "duration": 35,
    "start_time": "2023-12-15T15:48:24.760Z"
   },
   {
    "duration": 2,
    "start_time": "2023-12-15T15:48:24.796Z"
   },
   {
    "duration": 16,
    "start_time": "2023-12-15T15:48:24.800Z"
   },
   {
    "duration": 4,
    "start_time": "2023-12-15T15:48:24.818Z"
   },
   {
    "duration": 16,
    "start_time": "2023-12-15T15:48:24.825Z"
   },
   {
    "duration": 2,
    "start_time": "2023-12-15T15:48:24.843Z"
   },
   {
    "duration": 4,
    "start_time": "2023-12-15T15:48:24.847Z"
   },
   {
    "duration": 4,
    "start_time": "2023-12-15T15:48:24.852Z"
   },
   {
    "duration": 1104,
    "start_time": "2023-12-15T16:05:13.437Z"
   },
   {
    "duration": 2,
    "start_time": "2023-12-15T16:05:14.543Z"
   },
   {
    "duration": 4,
    "start_time": "2023-12-15T16:05:14.547Z"
   },
   {
    "duration": 30,
    "start_time": "2023-12-15T16:05:14.552Z"
   },
   {
    "duration": 18,
    "start_time": "2023-12-15T16:05:14.584Z"
   },
   {
    "duration": 3,
    "start_time": "2023-12-15T16:05:14.604Z"
   },
   {
    "duration": 5,
    "start_time": "2023-12-15T16:05:14.608Z"
   },
   {
    "duration": 5,
    "start_time": "2023-12-15T16:05:14.614Z"
   },
   {
    "duration": 6,
    "start_time": "2023-12-15T16:05:14.620Z"
   },
   {
    "duration": 3,
    "start_time": "2023-12-15T16:05:14.627Z"
   },
   {
    "duration": 11,
    "start_time": "2023-12-15T16:05:14.632Z"
   },
   {
    "duration": 3,
    "start_time": "2023-12-15T16:05:14.644Z"
   },
   {
    "duration": 5,
    "start_time": "2023-12-15T16:05:14.648Z"
   },
   {
    "duration": 5,
    "start_time": "2023-12-15T16:05:14.656Z"
   },
   {
    "duration": 12,
    "start_time": "2023-12-15T16:05:14.662Z"
   },
   {
    "duration": 8,
    "start_time": "2023-12-15T16:05:14.675Z"
   },
   {
    "duration": 4,
    "start_time": "2023-12-15T16:05:14.685Z"
   },
   {
    "duration": 26,
    "start_time": "2023-12-15T16:05:14.691Z"
   },
   {
    "duration": 6,
    "start_time": "2023-12-15T16:05:14.719Z"
   },
   {
    "duration": 4,
    "start_time": "2023-12-15T16:05:14.727Z"
   },
   {
    "duration": 45,
    "start_time": "2023-12-15T16:05:14.733Z"
   },
   {
    "duration": 8,
    "start_time": "2023-12-15T16:05:14.780Z"
   },
   {
    "duration": 12,
    "start_time": "2023-12-15T16:05:14.789Z"
   },
   {
    "duration": 20,
    "start_time": "2023-12-15T16:05:14.803Z"
   },
   {
    "duration": 8,
    "start_time": "2023-12-15T16:05:14.825Z"
   },
   {
    "duration": 25,
    "start_time": "2023-12-15T16:05:14.834Z"
   },
   {
    "duration": 16,
    "start_time": "2023-12-15T16:05:14.860Z"
   },
   {
    "duration": 23,
    "start_time": "2023-12-15T16:05:14.877Z"
   },
   {
    "duration": 6,
    "start_time": "2023-12-15T16:05:14.902Z"
   },
   {
    "duration": 7,
    "start_time": "2023-12-15T16:05:14.909Z"
   },
   {
    "duration": 7,
    "start_time": "2023-12-15T16:05:14.918Z"
   },
   {
    "duration": 19,
    "start_time": "2023-12-15T16:05:14.927Z"
   },
   {
    "duration": 16,
    "start_time": "2023-12-15T16:05:14.948Z"
   },
   {
    "duration": 19,
    "start_time": "2023-12-15T16:05:14.965Z"
   },
   {
    "duration": 10,
    "start_time": "2023-12-15T16:05:14.986Z"
   },
   {
    "duration": 3,
    "start_time": "2023-12-15T16:05:14.998Z"
   },
   {
    "duration": 50,
    "start_time": "2023-12-15T16:05:15.003Z"
   },
   {
    "duration": 34,
    "start_time": "2023-12-15T16:05:15.055Z"
   },
   {
    "duration": 18,
    "start_time": "2023-12-15T16:05:15.091Z"
   },
   {
    "duration": 8,
    "start_time": "2023-12-15T16:05:15.110Z"
   },
   {
    "duration": 10,
    "start_time": "2023-12-15T16:05:15.125Z"
   },
   {
    "duration": 7,
    "start_time": "2023-12-15T16:05:15.136Z"
   },
   {
    "duration": 5,
    "start_time": "2023-12-15T16:05:15.144Z"
   },
   {
    "duration": 5,
    "start_time": "2023-12-15T16:05:15.150Z"
   },
   {
    "duration": 8,
    "start_time": "2023-12-15T16:05:15.156Z"
   },
   {
    "duration": 7,
    "start_time": "2023-12-15T16:05:15.165Z"
   },
   {
    "duration": 7,
    "start_time": "2023-12-15T16:05:15.174Z"
   },
   {
    "duration": 8,
    "start_time": "2023-12-15T16:05:15.182Z"
   },
   {
    "duration": 14,
    "start_time": "2023-12-15T16:05:15.191Z"
   },
   {
    "duration": 9,
    "start_time": "2023-12-15T16:05:15.206Z"
   },
   {
    "duration": 10,
    "start_time": "2023-12-15T16:05:15.216Z"
   },
   {
    "duration": 6,
    "start_time": "2023-12-15T16:05:15.227Z"
   },
   {
    "duration": 7,
    "start_time": "2023-12-15T16:05:15.234Z"
   },
   {
    "duration": 9,
    "start_time": "2023-12-15T16:05:15.242Z"
   },
   {
    "duration": 160,
    "start_time": "2023-12-15T16:05:15.252Z"
   },
   {
    "duration": 2,
    "start_time": "2023-12-15T16:05:15.415Z"
   },
   {
    "duration": 129,
    "start_time": "2023-12-15T16:05:15.419Z"
   },
   {
    "duration": 2,
    "start_time": "2023-12-15T16:05:15.549Z"
   },
   {
    "duration": 9,
    "start_time": "2023-12-15T16:05:15.553Z"
   },
   {
    "duration": 5,
    "start_time": "2023-12-15T16:05:15.563Z"
   },
   {
    "duration": 11,
    "start_time": "2023-12-15T16:05:15.570Z"
   },
   {
    "duration": 12,
    "start_time": "2023-12-15T16:05:15.583Z"
   },
   {
    "duration": 5,
    "start_time": "2023-12-15T16:05:15.596Z"
   },
   {
    "duration": 12,
    "start_time": "2023-12-15T16:05:15.602Z"
   },
   {
    "duration": 5,
    "start_time": "2023-12-15T16:05:15.616Z"
   },
   {
    "duration": 408,
    "start_time": "2023-12-15T16:05:15.623Z"
   },
   {
    "duration": 2,
    "start_time": "2023-12-15T16:05:16.033Z"
   },
   {
    "duration": 28,
    "start_time": "2023-12-15T16:05:16.037Z"
   },
   {
    "duration": 10,
    "start_time": "2023-12-15T16:05:16.066Z"
   },
   {
    "duration": 321,
    "start_time": "2023-12-15T16:05:16.078Z"
   },
   {
    "duration": 3,
    "start_time": "2023-12-15T16:05:16.400Z"
   },
   {
    "duration": 9,
    "start_time": "2023-12-15T16:05:16.404Z"
   },
   {
    "duration": 5,
    "start_time": "2023-12-15T16:05:16.414Z"
   },
   {
    "duration": 9,
    "start_time": "2023-12-15T16:05:16.420Z"
   },
   {
    "duration": 432,
    "start_time": "2023-12-15T16:05:16.430Z"
   },
   {
    "duration": 2,
    "start_time": "2023-12-15T16:05:16.864Z"
   },
   {
    "duration": 4,
    "start_time": "2023-12-15T16:05:16.868Z"
   },
   {
    "duration": 7,
    "start_time": "2023-12-15T16:05:16.873Z"
   },
   {
    "duration": 362,
    "start_time": "2023-12-15T16:05:16.881Z"
   },
   {
    "duration": 4,
    "start_time": "2023-12-15T16:05:17.245Z"
   },
   {
    "duration": 15,
    "start_time": "2023-12-15T16:05:17.251Z"
   },
   {
    "duration": 11,
    "start_time": "2023-12-15T16:05:17.268Z"
   },
   {
    "duration": 11,
    "start_time": "2023-12-15T16:05:17.280Z"
   },
   {
    "duration": 498,
    "start_time": "2023-12-15T16:05:17.292Z"
   },
   {
    "duration": 2,
    "start_time": "2023-12-15T16:05:17.792Z"
   },
   {
    "duration": 10,
    "start_time": "2023-12-15T16:05:17.796Z"
   },
   {
    "duration": 8,
    "start_time": "2023-12-15T16:05:17.808Z"
   },
   {
    "duration": 169,
    "start_time": "2023-12-15T16:05:17.817Z"
   },
   {
    "duration": 3,
    "start_time": "2023-12-15T16:05:17.987Z"
   },
   {
    "duration": 13,
    "start_time": "2023-12-15T16:05:17.991Z"
   },
   {
    "duration": 10,
    "start_time": "2023-12-15T16:05:18.005Z"
   },
   {
    "duration": 230,
    "start_time": "2023-12-15T16:05:18.016Z"
   },
   {
    "duration": 2,
    "start_time": "2023-12-15T16:05:18.248Z"
   },
   {
    "duration": 20,
    "start_time": "2023-12-15T16:05:18.252Z"
   },
   {
    "duration": 14,
    "start_time": "2023-12-15T16:05:18.274Z"
   },
   {
    "duration": 9,
    "start_time": "2023-12-15T16:05:18.289Z"
   },
   {
    "duration": 15,
    "start_time": "2023-12-15T16:05:18.300Z"
   },
   {
    "duration": 17,
    "start_time": "2023-12-15T16:05:18.316Z"
   },
   {
    "duration": 17,
    "start_time": "2023-12-15T16:05:18.334Z"
   },
   {
    "duration": 8,
    "start_time": "2023-12-15T16:05:18.352Z"
   },
   {
    "duration": 10,
    "start_time": "2023-12-15T16:05:18.362Z"
   },
   {
    "duration": 204,
    "start_time": "2023-12-15T16:05:18.374Z"
   },
   {
    "duration": 2,
    "start_time": "2023-12-15T16:05:18.580Z"
   },
   {
    "duration": 13,
    "start_time": "2023-12-15T16:05:18.584Z"
   },
   {
    "duration": 9,
    "start_time": "2023-12-15T16:05:18.598Z"
   },
   {
    "duration": 13,
    "start_time": "2023-12-15T16:05:18.609Z"
   },
   {
    "duration": 5,
    "start_time": "2023-12-15T16:05:18.623Z"
   },
   {
    "duration": 16,
    "start_time": "2023-12-15T16:05:18.629Z"
   },
   {
    "duration": 4,
    "start_time": "2023-12-15T16:05:18.646Z"
   },
   {
    "duration": 6,
    "start_time": "2023-12-15T16:05:18.651Z"
   },
   {
    "duration": 9,
    "start_time": "2023-12-15T16:05:18.659Z"
   },
   {
    "duration": 5,
    "start_time": "2023-12-15T16:05:18.670Z"
   },
   {
    "duration": 6,
    "start_time": "2023-12-15T16:05:18.676Z"
   },
   {
    "duration": 4,
    "start_time": "2023-12-15T16:05:18.683Z"
   },
   {
    "duration": 9,
    "start_time": "2023-12-15T16:05:18.688Z"
   },
   {
    "duration": 11,
    "start_time": "2023-12-15T16:05:18.698Z"
   },
   {
    "duration": 26,
    "start_time": "2023-12-15T16:05:18.715Z"
   },
   {
    "duration": 2,
    "start_time": "2023-12-15T16:05:18.742Z"
   },
   {
    "duration": 8,
    "start_time": "2023-12-15T16:05:18.746Z"
   },
   {
    "duration": 4,
    "start_time": "2023-12-15T16:05:18.755Z"
   },
   {
    "duration": 14,
    "start_time": "2023-12-15T16:05:18.761Z"
   },
   {
    "duration": 3,
    "start_time": "2023-12-15T16:05:18.782Z"
   },
   {
    "duration": 11,
    "start_time": "2023-12-15T16:05:18.786Z"
   },
   {
    "duration": 3,
    "start_time": "2023-12-15T16:05:18.815Z"
   },
   {
    "duration": 98,
    "start_time": "2023-12-15T16:06:13.322Z"
   },
   {
    "duration": 12,
    "start_time": "2023-12-15T16:06:52.673Z"
   },
   {
    "duration": 9,
    "start_time": "2023-12-15T16:07:04.658Z"
   },
   {
    "duration": 6,
    "start_time": "2023-12-15T16:07:05.329Z"
   },
   {
    "duration": 6,
    "start_time": "2023-12-15T16:07:05.689Z"
   },
   {
    "duration": 1361,
    "start_time": "2023-12-15T16:08:31.771Z"
   },
   {
    "duration": 10,
    "start_time": "2023-12-15T16:08:50.020Z"
   },
   {
    "duration": 1267,
    "start_time": "2023-12-15T16:09:52.812Z"
   },
   {
    "duration": 10,
    "start_time": "2023-12-15T16:10:06.853Z"
   },
   {
    "duration": 27,
    "start_time": "2023-12-15T16:10:32.652Z"
   },
   {
    "duration": 1569,
    "start_time": "2023-12-15T16:12:03.510Z"
   },
   {
    "duration": 1186,
    "start_time": "2023-12-15T16:12:19.000Z"
   },
   {
    "duration": 13,
    "start_time": "2023-12-15T16:12:30.831Z"
   },
   {
    "duration": 90,
    "start_time": "2023-12-16T12:19:13.917Z"
   },
   {
    "duration": 1328,
    "start_time": "2023-12-16T12:55:57.190Z"
   },
   {
    "duration": 3,
    "start_time": "2023-12-16T12:55:58.520Z"
   },
   {
    "duration": 59,
    "start_time": "2023-12-16T12:55:58.525Z"
   },
   {
    "duration": 11,
    "start_time": "2023-12-16T12:55:58.586Z"
   },
   {
    "duration": 3,
    "start_time": "2023-12-16T12:55:58.598Z"
   },
   {
    "duration": 6,
    "start_time": "2023-12-16T12:55:58.602Z"
   },
   {
    "duration": 2,
    "start_time": "2023-12-16T12:55:58.610Z"
   },
   {
    "duration": 9,
    "start_time": "2023-12-16T12:55:58.613Z"
   },
   {
    "duration": 4,
    "start_time": "2023-12-16T12:55:58.624Z"
   },
   {
    "duration": 6,
    "start_time": "2023-12-16T12:55:58.630Z"
   },
   {
    "duration": 9,
    "start_time": "2023-12-16T12:55:58.637Z"
   },
   {
    "duration": 77,
    "start_time": "2023-12-16T12:55:58.647Z"
   },
   {
    "duration": 0,
    "start_time": "2023-12-16T12:55:58.728Z"
   },
   {
    "duration": 0,
    "start_time": "2023-12-16T12:55:58.729Z"
   },
   {
    "duration": 0,
    "start_time": "2023-12-16T12:55:58.730Z"
   },
   {
    "duration": 0,
    "start_time": "2023-12-16T12:55:58.731Z"
   },
   {
    "duration": 0,
    "start_time": "2023-12-16T12:55:58.732Z"
   },
   {
    "duration": 0,
    "start_time": "2023-12-16T12:55:58.733Z"
   },
   {
    "duration": 0,
    "start_time": "2023-12-16T12:55:58.734Z"
   },
   {
    "duration": 0,
    "start_time": "2023-12-16T12:55:58.735Z"
   },
   {
    "duration": 0,
    "start_time": "2023-12-16T12:55:58.736Z"
   },
   {
    "duration": 0,
    "start_time": "2023-12-16T12:55:58.737Z"
   },
   {
    "duration": 0,
    "start_time": "2023-12-16T12:55:58.738Z"
   },
   {
    "duration": 0,
    "start_time": "2023-12-16T12:55:58.739Z"
   },
   {
    "duration": 0,
    "start_time": "2023-12-16T12:55:58.740Z"
   },
   {
    "duration": 0,
    "start_time": "2023-12-16T12:55:58.741Z"
   },
   {
    "duration": 0,
    "start_time": "2023-12-16T12:55:58.742Z"
   },
   {
    "duration": 0,
    "start_time": "2023-12-16T12:55:58.743Z"
   },
   {
    "duration": 0,
    "start_time": "2023-12-16T12:55:58.744Z"
   },
   {
    "duration": 0,
    "start_time": "2023-12-16T12:55:58.745Z"
   },
   {
    "duration": 0,
    "start_time": "2023-12-16T12:55:58.745Z"
   },
   {
    "duration": 0,
    "start_time": "2023-12-16T12:55:58.746Z"
   },
   {
    "duration": 0,
    "start_time": "2023-12-16T12:55:58.747Z"
   },
   {
    "duration": 0,
    "start_time": "2023-12-16T12:55:58.748Z"
   },
   {
    "duration": 0,
    "start_time": "2023-12-16T12:55:58.749Z"
   },
   {
    "duration": 0,
    "start_time": "2023-12-16T12:55:58.750Z"
   },
   {
    "duration": 0,
    "start_time": "2023-12-16T12:55:58.751Z"
   },
   {
    "duration": 0,
    "start_time": "2023-12-16T12:55:58.752Z"
   },
   {
    "duration": 0,
    "start_time": "2023-12-16T12:55:58.753Z"
   },
   {
    "duration": 0,
    "start_time": "2023-12-16T12:55:58.754Z"
   },
   {
    "duration": 0,
    "start_time": "2023-12-16T12:55:58.755Z"
   },
   {
    "duration": 0,
    "start_time": "2023-12-16T12:55:58.756Z"
   },
   {
    "duration": 0,
    "start_time": "2023-12-16T12:55:58.757Z"
   },
   {
    "duration": 0,
    "start_time": "2023-12-16T12:55:58.758Z"
   },
   {
    "duration": 0,
    "start_time": "2023-12-16T12:55:58.759Z"
   },
   {
    "duration": 0,
    "start_time": "2023-12-16T12:55:58.760Z"
   },
   {
    "duration": 0,
    "start_time": "2023-12-16T12:55:58.761Z"
   },
   {
    "duration": 0,
    "start_time": "2023-12-16T12:55:58.762Z"
   },
   {
    "duration": 0,
    "start_time": "2023-12-16T12:55:58.763Z"
   },
   {
    "duration": 0,
    "start_time": "2023-12-16T12:55:58.764Z"
   },
   {
    "duration": 0,
    "start_time": "2023-12-16T12:55:58.765Z"
   },
   {
    "duration": 0,
    "start_time": "2023-12-16T12:55:58.811Z"
   },
   {
    "duration": 0,
    "start_time": "2023-12-16T12:55:58.812Z"
   },
   {
    "duration": 0,
    "start_time": "2023-12-16T12:55:58.813Z"
   },
   {
    "duration": 0,
    "start_time": "2023-12-16T12:55:58.814Z"
   },
   {
    "duration": 0,
    "start_time": "2023-12-16T12:55:58.816Z"
   },
   {
    "duration": 0,
    "start_time": "2023-12-16T12:55:58.816Z"
   },
   {
    "duration": 0,
    "start_time": "2023-12-16T12:55:58.818Z"
   },
   {
    "duration": 0,
    "start_time": "2023-12-16T12:55:58.818Z"
   },
   {
    "duration": 0,
    "start_time": "2023-12-16T12:55:58.819Z"
   },
   {
    "duration": 0,
    "start_time": "2023-12-16T12:55:58.820Z"
   },
   {
    "duration": 0,
    "start_time": "2023-12-16T12:55:58.821Z"
   },
   {
    "duration": 0,
    "start_time": "2023-12-16T12:55:58.822Z"
   },
   {
    "duration": 0,
    "start_time": "2023-12-16T12:55:58.824Z"
   },
   {
    "duration": 0,
    "start_time": "2023-12-16T12:55:58.825Z"
   },
   {
    "duration": 0,
    "start_time": "2023-12-16T12:55:58.826Z"
   },
   {
    "duration": 0,
    "start_time": "2023-12-16T12:55:58.827Z"
   },
   {
    "duration": 0,
    "start_time": "2023-12-16T12:55:58.828Z"
   },
   {
    "duration": 0,
    "start_time": "2023-12-16T12:55:58.829Z"
   },
   {
    "duration": 0,
    "start_time": "2023-12-16T12:55:58.830Z"
   },
   {
    "duration": 0,
    "start_time": "2023-12-16T12:55:58.831Z"
   },
   {
    "duration": 1,
    "start_time": "2023-12-16T12:55:58.832Z"
   },
   {
    "duration": 0,
    "start_time": "2023-12-16T12:55:58.833Z"
   },
   {
    "duration": 0,
    "start_time": "2023-12-16T12:55:58.834Z"
   },
   {
    "duration": 0,
    "start_time": "2023-12-16T12:55:58.835Z"
   },
   {
    "duration": 0,
    "start_time": "2023-12-16T12:55:58.837Z"
   },
   {
    "duration": 0,
    "start_time": "2023-12-16T12:55:58.837Z"
   },
   {
    "duration": 0,
    "start_time": "2023-12-16T12:55:58.838Z"
   },
   {
    "duration": 0,
    "start_time": "2023-12-16T12:55:58.839Z"
   },
   {
    "duration": 0,
    "start_time": "2023-12-16T12:55:58.840Z"
   },
   {
    "duration": 0,
    "start_time": "2023-12-16T12:55:58.841Z"
   },
   {
    "duration": 0,
    "start_time": "2023-12-16T12:55:58.842Z"
   },
   {
    "duration": 0,
    "start_time": "2023-12-16T12:55:58.843Z"
   },
   {
    "duration": 0,
    "start_time": "2023-12-16T12:55:58.844Z"
   },
   {
    "duration": 0,
    "start_time": "2023-12-16T12:55:58.845Z"
   },
   {
    "duration": 0,
    "start_time": "2023-12-16T12:55:58.846Z"
   },
   {
    "duration": 0,
    "start_time": "2023-12-16T12:55:58.847Z"
   },
   {
    "duration": 0,
    "start_time": "2023-12-16T12:55:58.848Z"
   },
   {
    "duration": 0,
    "start_time": "2023-12-16T12:55:58.911Z"
   },
   {
    "duration": 0,
    "start_time": "2023-12-16T12:55:58.912Z"
   },
   {
    "duration": 0,
    "start_time": "2023-12-16T12:55:58.913Z"
   },
   {
    "duration": 0,
    "start_time": "2023-12-16T12:55:58.915Z"
   },
   {
    "duration": 0,
    "start_time": "2023-12-16T12:55:58.915Z"
   },
   {
    "duration": 0,
    "start_time": "2023-12-16T12:55:58.916Z"
   },
   {
    "duration": 0,
    "start_time": "2023-12-16T12:55:58.917Z"
   },
   {
    "duration": 0,
    "start_time": "2023-12-16T12:55:58.918Z"
   },
   {
    "duration": 0,
    "start_time": "2023-12-16T12:55:58.919Z"
   },
   {
    "duration": 0,
    "start_time": "2023-12-16T12:55:58.920Z"
   },
   {
    "duration": 0,
    "start_time": "2023-12-16T12:55:58.921Z"
   },
   {
    "duration": 0,
    "start_time": "2023-12-16T12:55:58.922Z"
   },
   {
    "duration": 0,
    "start_time": "2023-12-16T12:55:58.923Z"
   },
   {
    "duration": 0,
    "start_time": "2023-12-16T12:55:58.924Z"
   },
   {
    "duration": 0,
    "start_time": "2023-12-16T12:55:58.924Z"
   },
   {
    "duration": 0,
    "start_time": "2023-12-16T12:55:58.925Z"
   },
   {
    "duration": 0,
    "start_time": "2023-12-16T12:55:58.926Z"
   },
   {
    "duration": 0,
    "start_time": "2023-12-16T12:55:58.927Z"
   },
   {
    "duration": 0,
    "start_time": "2023-12-16T12:55:58.928Z"
   },
   {
    "duration": 0,
    "start_time": "2023-12-16T12:55:58.929Z"
   },
   {
    "duration": 0,
    "start_time": "2023-12-16T12:55:58.930Z"
   },
   {
    "duration": 0,
    "start_time": "2023-12-16T12:55:58.931Z"
   },
   {
    "duration": 0,
    "start_time": "2023-12-16T12:55:58.932Z"
   },
   {
    "duration": 0,
    "start_time": "2023-12-16T12:55:58.933Z"
   },
   {
    "duration": 1,
    "start_time": "2023-12-16T12:55:58.933Z"
   },
   {
    "duration": 0,
    "start_time": "2023-12-16T12:55:58.934Z"
   },
   {
    "duration": 0,
    "start_time": "2023-12-16T12:55:58.936Z"
   },
   {
    "duration": 0,
    "start_time": "2023-12-16T12:55:58.936Z"
   },
   {
    "duration": 0,
    "start_time": "2023-12-16T12:55:58.937Z"
   },
   {
    "duration": 0,
    "start_time": "2023-12-16T12:55:58.938Z"
   },
   {
    "duration": 0,
    "start_time": "2023-12-16T12:55:58.939Z"
   },
   {
    "duration": 0,
    "start_time": "2023-12-16T12:55:58.940Z"
   },
   {
    "duration": 0,
    "start_time": "2023-12-16T12:55:58.941Z"
   },
   {
    "duration": 0,
    "start_time": "2023-12-16T12:55:58.943Z"
   },
   {
    "duration": 0,
    "start_time": "2023-12-16T12:55:58.944Z"
   },
   {
    "duration": 1123,
    "start_time": "2023-12-16T12:56:35.425Z"
   },
   {
    "duration": 3,
    "start_time": "2023-12-16T12:56:36.549Z"
   },
   {
    "duration": 28,
    "start_time": "2023-12-16T12:56:36.554Z"
   },
   {
    "duration": 11,
    "start_time": "2023-12-16T12:56:36.584Z"
   },
   {
    "duration": 2,
    "start_time": "2023-12-16T12:56:36.598Z"
   },
   {
    "duration": 7,
    "start_time": "2023-12-16T12:56:36.602Z"
   },
   {
    "duration": 5,
    "start_time": "2023-12-16T12:56:36.611Z"
   },
   {
    "duration": 10,
    "start_time": "2023-12-16T12:56:36.617Z"
   },
   {
    "duration": 5,
    "start_time": "2023-12-16T12:56:36.628Z"
   },
   {
    "duration": 4,
    "start_time": "2023-12-16T12:56:36.634Z"
   },
   {
    "duration": 10,
    "start_time": "2023-12-16T12:56:36.639Z"
   },
   {
    "duration": 4,
    "start_time": "2023-12-16T12:56:36.650Z"
   },
   {
    "duration": 84,
    "start_time": "2023-12-16T12:56:36.655Z"
   },
   {
    "duration": 8,
    "start_time": "2023-12-16T12:56:36.742Z"
   },
   {
    "duration": 11,
    "start_time": "2023-12-16T12:56:36.752Z"
   },
   {
    "duration": 6,
    "start_time": "2023-12-16T12:56:36.765Z"
   },
   {
    "duration": 5,
    "start_time": "2023-12-16T12:56:36.772Z"
   },
   {
    "duration": 52,
    "start_time": "2023-12-16T12:56:36.778Z"
   },
   {
    "duration": 7,
    "start_time": "2023-12-16T12:56:36.831Z"
   },
   {
    "duration": 9,
    "start_time": "2023-12-16T12:56:36.839Z"
   },
   {
    "duration": 6,
    "start_time": "2023-12-16T12:56:36.850Z"
   },
   {
    "duration": 4,
    "start_time": "2023-12-16T12:56:36.858Z"
   },
   {
    "duration": 13,
    "start_time": "2023-12-16T12:56:36.863Z"
   },
   {
    "duration": 4,
    "start_time": "2023-12-16T12:56:36.877Z"
   },
   {
    "duration": 15,
    "start_time": "2023-12-16T12:56:36.882Z"
   },
   {
    "duration": 18,
    "start_time": "2023-12-16T12:56:36.898Z"
   },
   {
    "duration": 6,
    "start_time": "2023-12-16T12:56:36.917Z"
   },
   {
    "duration": 5,
    "start_time": "2023-12-16T12:56:36.924Z"
   },
   {
    "duration": 3,
    "start_time": "2023-12-16T12:56:36.930Z"
   },
   {
    "duration": 4,
    "start_time": "2023-12-16T12:56:36.935Z"
   },
   {
    "duration": 3,
    "start_time": "2023-12-16T12:56:36.940Z"
   },
   {
    "duration": 4,
    "start_time": "2023-12-16T12:56:36.944Z"
   },
   {
    "duration": 6,
    "start_time": "2023-12-16T12:56:36.950Z"
   },
   {
    "duration": 8,
    "start_time": "2023-12-16T12:56:36.957Z"
   },
   {
    "duration": 5,
    "start_time": "2023-12-16T12:56:36.966Z"
   },
   {
    "duration": 6,
    "start_time": "2023-12-16T12:56:36.972Z"
   },
   {
    "duration": 5,
    "start_time": "2023-12-16T12:56:36.979Z"
   },
   {
    "duration": 14,
    "start_time": "2023-12-16T12:56:36.985Z"
   },
   {
    "duration": 13,
    "start_time": "2023-12-16T12:56:37.001Z"
   },
   {
    "duration": 17,
    "start_time": "2023-12-16T12:56:37.015Z"
   },
   {
    "duration": 1,
    "start_time": "2023-12-16T12:56:37.037Z"
   },
   {
    "duration": 4,
    "start_time": "2023-12-16T12:56:37.040Z"
   },
   {
    "duration": 10,
    "start_time": "2023-12-16T12:56:37.045Z"
   },
   {
    "duration": 149,
    "start_time": "2023-12-16T12:56:37.056Z"
   },
   {
    "duration": 116,
    "start_time": "2023-12-16T12:56:37.207Z"
   },
   {
    "duration": 6,
    "start_time": "2023-12-16T12:56:37.325Z"
   },
   {
    "duration": 5,
    "start_time": "2023-12-16T12:56:37.332Z"
   },
   {
    "duration": 10,
    "start_time": "2023-12-16T12:56:37.338Z"
   },
   {
    "duration": 7,
    "start_time": "2023-12-16T12:56:37.350Z"
   },
   {
    "duration": 6,
    "start_time": "2023-12-16T12:56:37.359Z"
   },
   {
    "duration": 5,
    "start_time": "2023-12-16T12:56:37.366Z"
   },
   {
    "duration": 417,
    "start_time": "2023-12-16T12:56:37.372Z"
   },
   {
    "duration": 3,
    "start_time": "2023-12-16T12:56:37.791Z"
   },
   {
    "duration": 12,
    "start_time": "2023-12-16T12:56:37.796Z"
   },
   {
    "duration": 4,
    "start_time": "2023-12-16T12:56:37.810Z"
   },
   {
    "duration": 313,
    "start_time": "2023-12-16T12:56:37.815Z"
   },
   {
    "duration": 2,
    "start_time": "2023-12-16T12:56:38.130Z"
   },
   {
    "duration": 6,
    "start_time": "2023-12-16T12:56:38.134Z"
   },
   {
    "duration": 3,
    "start_time": "2023-12-16T12:56:38.142Z"
   },
   {
    "duration": 4,
    "start_time": "2023-12-16T12:56:38.146Z"
   },
   {
    "duration": 392,
    "start_time": "2023-12-16T12:56:38.151Z"
   },
   {
    "duration": 2,
    "start_time": "2023-12-16T12:56:38.545Z"
   },
   {
    "duration": 7,
    "start_time": "2023-12-16T12:56:38.549Z"
   },
   {
    "duration": 20,
    "start_time": "2023-12-16T12:56:38.558Z"
   },
   {
    "duration": 315,
    "start_time": "2023-12-16T12:56:38.579Z"
   },
   {
    "duration": 3,
    "start_time": "2023-12-16T12:56:38.896Z"
   },
   {
    "duration": 11,
    "start_time": "2023-12-16T12:56:38.901Z"
   },
   {
    "duration": 3,
    "start_time": "2023-12-16T12:56:38.914Z"
   },
   {
    "duration": 6,
    "start_time": "2023-12-16T12:56:38.918Z"
   },
   {
    "duration": 433,
    "start_time": "2023-12-16T12:56:38.925Z"
   },
   {
    "duration": 2,
    "start_time": "2023-12-16T12:56:39.360Z"
   },
   {
    "duration": 5,
    "start_time": "2023-12-16T12:56:39.364Z"
   },
   {
    "duration": 4,
    "start_time": "2023-12-16T12:56:39.370Z"
   },
   {
    "duration": 123,
    "start_time": "2023-12-16T12:56:39.375Z"
   },
   {
    "duration": 2,
    "start_time": "2023-12-16T12:56:39.500Z"
   },
   {
    "duration": 7,
    "start_time": "2023-12-16T12:56:39.510Z"
   },
   {
    "duration": 2,
    "start_time": "2023-12-16T12:56:39.518Z"
   },
   {
    "duration": 194,
    "start_time": "2023-12-16T12:56:39.522Z"
   },
   {
    "duration": 2,
    "start_time": "2023-12-16T12:56:39.718Z"
   },
   {
    "duration": 5,
    "start_time": "2023-12-16T12:56:39.721Z"
   },
   {
    "duration": 5,
    "start_time": "2023-12-16T12:56:39.727Z"
   },
   {
    "duration": 2,
    "start_time": "2023-12-16T12:56:39.734Z"
   },
   {
    "duration": 3,
    "start_time": "2023-12-16T12:56:39.738Z"
   },
   {
    "duration": 3,
    "start_time": "2023-12-16T12:56:39.742Z"
   },
   {
    "duration": 4,
    "start_time": "2023-12-16T12:56:39.746Z"
   },
   {
    "duration": 3,
    "start_time": "2023-12-16T12:56:39.751Z"
   },
   {
    "duration": 8,
    "start_time": "2023-12-16T12:56:39.756Z"
   },
   {
    "duration": 251,
    "start_time": "2023-12-16T12:56:39.766Z"
   },
   {
    "duration": 2,
    "start_time": "2023-12-16T12:56:40.019Z"
   },
   {
    "duration": 23,
    "start_time": "2023-12-16T12:56:40.022Z"
   },
   {
    "duration": 19,
    "start_time": "2023-12-16T12:56:40.046Z"
   },
   {
    "duration": 5,
    "start_time": "2023-12-16T12:56:40.066Z"
   },
   {
    "duration": 8,
    "start_time": "2023-12-16T12:56:40.073Z"
   },
   {
    "duration": 20,
    "start_time": "2023-12-16T12:56:40.083Z"
   },
   {
    "duration": 9,
    "start_time": "2023-12-16T12:56:40.105Z"
   },
   {
    "duration": 4,
    "start_time": "2023-12-16T12:56:40.116Z"
   },
   {
    "duration": 10,
    "start_time": "2023-12-16T12:56:40.121Z"
   },
   {
    "duration": 6,
    "start_time": "2023-12-16T12:56:40.132Z"
   },
   {
    "duration": 6,
    "start_time": "2023-12-16T12:56:40.139Z"
   },
   {
    "duration": 4,
    "start_time": "2023-12-16T12:56:40.146Z"
   },
   {
    "duration": 9,
    "start_time": "2023-12-16T12:56:40.151Z"
   },
   {
    "duration": 4,
    "start_time": "2023-12-16T12:56:40.161Z"
   },
   {
    "duration": 48,
    "start_time": "2023-12-16T12:56:40.167Z"
   },
   {
    "duration": 2,
    "start_time": "2023-12-16T12:56:40.216Z"
   },
   {
    "duration": 9,
    "start_time": "2023-12-16T12:56:40.220Z"
   },
   {
    "duration": 5,
    "start_time": "2023-12-16T12:56:40.230Z"
   },
   {
    "duration": 12,
    "start_time": "2023-12-16T12:56:40.236Z"
   },
   {
    "duration": 3,
    "start_time": "2023-12-16T12:56:40.249Z"
   },
   {
    "duration": 6,
    "start_time": "2023-12-16T12:56:40.253Z"
   },
   {
    "duration": 3,
    "start_time": "2023-12-16T12:56:40.261Z"
   },
   {
    "duration": 5,
    "start_time": "2023-12-16T12:56:40.266Z"
   },
   {
    "duration": 5,
    "start_time": "2023-12-16T12:56:40.272Z"
   },
   {
    "duration": 33,
    "start_time": "2023-12-16T12:56:40.279Z"
   },
   {
    "duration": 3,
    "start_time": "2023-12-16T12:56:40.314Z"
   },
   {
    "duration": 10,
    "start_time": "2023-12-16T12:56:40.319Z"
   },
   {
    "duration": 3,
    "start_time": "2023-12-16T12:56:40.330Z"
   },
   {
    "duration": 27,
    "start_time": "2023-12-16T12:56:40.334Z"
   },
   {
    "duration": 2,
    "start_time": "2023-12-16T12:56:40.363Z"
   },
   {
    "duration": 5,
    "start_time": "2023-12-16T12:56:40.367Z"
   },
   {
    "duration": 4,
    "start_time": "2023-12-16T12:56:40.373Z"
   },
   {
    "duration": 48,
    "start_time": "2023-12-16T12:56:40.378Z"
   },
   {
    "duration": 2,
    "start_time": "2023-12-16T12:56:40.433Z"
   },
   {
    "duration": 1079,
    "start_time": "2023-12-16T13:27:24.968Z"
   },
   {
    "duration": 3,
    "start_time": "2023-12-16T13:27:26.049Z"
   },
   {
    "duration": 28,
    "start_time": "2023-12-16T13:27:26.053Z"
   },
   {
    "duration": 3,
    "start_time": "2023-12-16T13:27:26.083Z"
   },
   {
    "duration": 12,
    "start_time": "2023-12-16T13:27:26.088Z"
   },
   {
    "duration": 3,
    "start_time": "2023-12-16T13:27:26.102Z"
   },
   {
    "duration": 6,
    "start_time": "2023-12-16T13:27:26.106Z"
   },
   {
    "duration": 6,
    "start_time": "2023-12-16T13:27:26.113Z"
   },
   {
    "duration": 9,
    "start_time": "2023-12-16T13:27:26.121Z"
   },
   {
    "duration": 6,
    "start_time": "2023-12-16T13:27:26.132Z"
   },
   {
    "duration": 12,
    "start_time": "2023-12-16T13:27:26.139Z"
   },
   {
    "duration": 10,
    "start_time": "2023-12-16T13:27:26.152Z"
   },
   {
    "duration": 4,
    "start_time": "2023-12-16T13:27:26.163Z"
   },
   {
    "duration": 49,
    "start_time": "2023-12-16T13:27:26.168Z"
   },
   {
    "duration": 7,
    "start_time": "2023-12-16T13:27:26.218Z"
   },
   {
    "duration": 26,
    "start_time": "2023-12-16T13:27:26.227Z"
   },
   {
    "duration": 7,
    "start_time": "2023-12-16T13:27:26.254Z"
   },
   {
    "duration": 7,
    "start_time": "2023-12-16T13:27:26.262Z"
   },
   {
    "duration": 18,
    "start_time": "2023-12-16T13:27:26.270Z"
   },
   {
    "duration": 7,
    "start_time": "2023-12-16T13:27:26.290Z"
   },
   {
    "duration": 14,
    "start_time": "2023-12-16T13:27:26.299Z"
   },
   {
    "duration": 6,
    "start_time": "2023-12-16T13:27:26.315Z"
   },
   {
    "duration": 16,
    "start_time": "2023-12-16T13:27:26.323Z"
   },
   {
    "duration": 13,
    "start_time": "2023-12-16T13:27:26.341Z"
   },
   {
    "duration": 19,
    "start_time": "2023-12-16T13:27:26.356Z"
   },
   {
    "duration": 20,
    "start_time": "2023-12-16T13:27:26.377Z"
   },
   {
    "duration": 17,
    "start_time": "2023-12-16T13:27:26.399Z"
   },
   {
    "duration": 2,
    "start_time": "2023-12-16T13:27:26.421Z"
   },
   {
    "duration": 12,
    "start_time": "2023-12-16T13:27:26.425Z"
   },
   {
    "duration": 15,
    "start_time": "2023-12-16T13:27:26.439Z"
   },
   {
    "duration": 8,
    "start_time": "2023-12-16T13:27:26.456Z"
   },
   {
    "duration": 4,
    "start_time": "2023-12-16T13:27:26.466Z"
   },
   {
    "duration": 10,
    "start_time": "2023-12-16T13:27:26.472Z"
   },
   {
    "duration": 4,
    "start_time": "2023-12-16T13:27:26.484Z"
   },
   {
    "duration": 8,
    "start_time": "2023-12-16T13:27:26.490Z"
   },
   {
    "duration": 8,
    "start_time": "2023-12-16T13:27:26.499Z"
   },
   {
    "duration": 4,
    "start_time": "2023-12-16T13:27:26.508Z"
   },
   {
    "duration": 4,
    "start_time": "2023-12-16T13:27:26.514Z"
   },
   {
    "duration": 5,
    "start_time": "2023-12-16T13:27:26.519Z"
   },
   {
    "duration": 3,
    "start_time": "2023-12-16T13:27:26.526Z"
   },
   {
    "duration": 8,
    "start_time": "2023-12-16T13:27:26.531Z"
   },
   {
    "duration": 5,
    "start_time": "2023-12-16T13:27:26.540Z"
   },
   {
    "duration": 4,
    "start_time": "2023-12-16T13:27:26.546Z"
   },
   {
    "duration": 8,
    "start_time": "2023-12-16T13:27:26.551Z"
   },
   {
    "duration": 167,
    "start_time": "2023-12-16T13:27:26.560Z"
   },
   {
    "duration": 122,
    "start_time": "2023-12-16T13:27:26.728Z"
   },
   {
    "duration": 5,
    "start_time": "2023-12-16T13:27:26.852Z"
   },
   {
    "duration": 6,
    "start_time": "2023-12-16T13:27:26.859Z"
   },
   {
    "duration": 13,
    "start_time": "2023-12-16T13:27:26.867Z"
   },
   {
    "duration": 4,
    "start_time": "2023-12-16T13:27:26.881Z"
   },
   {
    "duration": 8,
    "start_time": "2023-12-16T13:27:26.887Z"
   },
   {
    "duration": 15,
    "start_time": "2023-12-16T13:27:26.896Z"
   },
   {
    "duration": 371,
    "start_time": "2023-12-16T13:27:26.912Z"
   },
   {
    "duration": 3,
    "start_time": "2023-12-16T13:27:27.285Z"
   },
   {
    "duration": 327,
    "start_time": "2023-12-16T13:27:27.289Z"
   },
   {
    "duration": 3,
    "start_time": "2023-12-16T13:27:27.618Z"
   },
   {
    "duration": 421,
    "start_time": "2023-12-16T13:27:27.622Z"
   },
   {
    "duration": 316,
    "start_time": "2023-12-16T13:27:28.045Z"
   },
   {
    "duration": 4,
    "start_time": "2023-12-16T13:27:28.362Z"
   },
   {
    "duration": 444,
    "start_time": "2023-12-16T13:27:28.367Z"
   },
   {
    "duration": 161,
    "start_time": "2023-12-16T13:27:28.812Z"
   },
   {
    "duration": 3,
    "start_time": "2023-12-16T13:27:28.975Z"
   },
   {
    "duration": 9,
    "start_time": "2023-12-16T13:27:28.979Z"
   },
   {
    "duration": 214,
    "start_time": "2023-12-16T13:27:28.990Z"
   },
   {
    "duration": 6,
    "start_time": "2023-12-16T13:27:29.205Z"
   },
   {
    "duration": 4,
    "start_time": "2023-12-16T13:27:29.212Z"
   },
   {
    "duration": 8,
    "start_time": "2023-12-16T13:27:29.217Z"
   },
   {
    "duration": 11,
    "start_time": "2023-12-16T13:27:29.227Z"
   },
   {
    "duration": 3,
    "start_time": "2023-12-16T13:27:29.239Z"
   },
   {
    "duration": 3,
    "start_time": "2023-12-16T13:27:29.243Z"
   },
   {
    "duration": 3,
    "start_time": "2023-12-16T13:27:29.247Z"
   },
   {
    "duration": 3,
    "start_time": "2023-12-16T13:27:29.251Z"
   },
   {
    "duration": 10,
    "start_time": "2023-12-16T13:27:29.255Z"
   },
   {
    "duration": 215,
    "start_time": "2023-12-16T13:27:29.267Z"
   },
   {
    "duration": 3,
    "start_time": "2023-12-16T13:27:29.483Z"
   },
   {
    "duration": 4,
    "start_time": "2023-12-16T13:27:29.487Z"
   },
   {
    "duration": 20,
    "start_time": "2023-12-16T13:27:29.492Z"
   },
   {
    "duration": 8,
    "start_time": "2023-12-16T13:27:29.513Z"
   },
   {
    "duration": 5,
    "start_time": "2023-12-16T13:27:29.523Z"
   },
   {
    "duration": 5,
    "start_time": "2023-12-16T13:27:29.529Z"
   },
   {
    "duration": 3,
    "start_time": "2023-12-16T13:27:29.535Z"
   },
   {
    "duration": 2,
    "start_time": "2023-12-16T13:27:29.544Z"
   },
   {
    "duration": 16,
    "start_time": "2023-12-16T13:27:29.547Z"
   },
   {
    "duration": 6,
    "start_time": "2023-12-16T13:27:29.564Z"
   },
   {
    "duration": 16,
    "start_time": "2023-12-16T13:27:29.572Z"
   },
   {
    "duration": 6,
    "start_time": "2023-12-16T13:27:29.589Z"
   },
   {
    "duration": 21,
    "start_time": "2023-12-16T13:27:29.596Z"
   },
   {
    "duration": 15,
    "start_time": "2023-12-16T13:27:29.618Z"
   },
   {
    "duration": 27,
    "start_time": "2023-12-16T13:27:29.634Z"
   },
   {
    "duration": 2,
    "start_time": "2023-12-16T13:27:29.663Z"
   },
   {
    "duration": 9,
    "start_time": "2023-12-16T13:27:29.667Z"
   },
   {
    "duration": 4,
    "start_time": "2023-12-16T13:27:29.677Z"
   },
   {
    "duration": 11,
    "start_time": "2023-12-16T13:27:29.683Z"
   },
   {
    "duration": 6,
    "start_time": "2023-12-16T13:27:29.695Z"
   },
   {
    "duration": 9,
    "start_time": "2023-12-16T13:27:29.702Z"
   },
   {
    "duration": 7,
    "start_time": "2023-12-16T13:27:29.712Z"
   },
   {
    "duration": 3,
    "start_time": "2023-12-16T13:27:29.720Z"
   },
   {
    "duration": 5,
    "start_time": "2023-12-16T13:27:29.725Z"
   },
   {
    "duration": 9,
    "start_time": "2023-12-16T13:27:29.731Z"
   },
   {
    "duration": 3,
    "start_time": "2023-12-16T13:27:29.741Z"
   },
   {
    "duration": 8,
    "start_time": "2023-12-16T13:27:29.745Z"
   },
   {
    "duration": 8,
    "start_time": "2023-12-16T13:27:29.755Z"
   },
   {
    "duration": 30,
    "start_time": "2023-12-16T13:27:29.765Z"
   },
   {
    "duration": 3,
    "start_time": "2023-12-16T13:27:29.811Z"
   },
   {
    "duration": 7,
    "start_time": "2023-12-16T13:27:29.815Z"
   },
   {
    "duration": 3,
    "start_time": "2023-12-16T13:27:29.823Z"
   },
   {
    "duration": 14,
    "start_time": "2023-12-16T13:27:29.827Z"
   },
   {
    "duration": 2,
    "start_time": "2023-12-16T13:27:29.842Z"
   },
   {
    "duration": 88,
    "start_time": "2023-12-16T14:05:25.608Z"
   },
   {
    "duration": 1118,
    "start_time": "2023-12-16T16:09:38.629Z"
   },
   {
    "duration": 26,
    "start_time": "2023-12-16T16:09:39.749Z"
   },
   {
    "duration": 3,
    "start_time": "2023-12-16T16:09:39.776Z"
   },
   {
    "duration": 16,
    "start_time": "2023-12-16T16:09:39.781Z"
   },
   {
    "duration": 3,
    "start_time": "2023-12-16T16:09:39.798Z"
   },
   {
    "duration": 13,
    "start_time": "2023-12-16T16:09:39.802Z"
   },
   {
    "duration": 7,
    "start_time": "2023-12-16T16:09:39.816Z"
   },
   {
    "duration": 14,
    "start_time": "2023-12-16T16:09:39.824Z"
   },
   {
    "duration": 8,
    "start_time": "2023-12-16T16:09:39.839Z"
   },
   {
    "duration": 3,
    "start_time": "2023-12-16T16:09:39.849Z"
   },
   {
    "duration": 12,
    "start_time": "2023-12-16T16:09:39.853Z"
   },
   {
    "duration": 40,
    "start_time": "2023-12-16T16:09:39.866Z"
   },
   {
    "duration": 7,
    "start_time": "2023-12-16T16:09:39.907Z"
   },
   {
    "duration": 11,
    "start_time": "2023-12-16T16:09:39.915Z"
   },
   {
    "duration": 5,
    "start_time": "2023-12-16T16:09:39.927Z"
   },
   {
    "duration": 4,
    "start_time": "2023-12-16T16:09:39.933Z"
   },
   {
    "duration": 15,
    "start_time": "2023-12-16T16:09:39.939Z"
   },
   {
    "duration": 7,
    "start_time": "2023-12-16T16:09:39.955Z"
   },
   {
    "duration": 11,
    "start_time": "2023-12-16T16:09:39.963Z"
   },
   {
    "duration": 6,
    "start_time": "2023-12-16T16:09:39.975Z"
   },
   {
    "duration": 6,
    "start_time": "2023-12-16T16:09:39.982Z"
   },
   {
    "duration": 12,
    "start_time": "2023-12-16T16:09:40.010Z"
   },
   {
    "duration": 8,
    "start_time": "2023-12-16T16:09:40.023Z"
   },
   {
    "duration": 14,
    "start_time": "2023-12-16T16:09:40.032Z"
   },
   {
    "duration": 11,
    "start_time": "2023-12-16T16:09:40.047Z"
   },
   {
    "duration": 6,
    "start_time": "2023-12-16T16:09:40.059Z"
   },
   {
    "duration": 160,
    "start_time": "2023-12-16T16:09:40.066Z"
   },
   {
    "duration": 120,
    "start_time": "2023-12-16T16:09:40.229Z"
   },
   {
    "duration": 5,
    "start_time": "2023-12-16T16:09:40.351Z"
   },
   {
    "duration": 5,
    "start_time": "2023-12-16T16:09:40.357Z"
   },
   {
    "duration": 10,
    "start_time": "2023-12-16T16:09:40.363Z"
   },
   {
    "duration": 12,
    "start_time": "2023-12-16T16:09:40.374Z"
   },
   {
    "duration": 13,
    "start_time": "2023-12-16T16:09:40.387Z"
   },
   {
    "duration": 25,
    "start_time": "2023-12-16T16:09:40.402Z"
   },
   {
    "duration": 377,
    "start_time": "2023-12-16T16:09:40.429Z"
   },
   {
    "duration": 4,
    "start_time": "2023-12-16T16:09:40.808Z"
   },
   {
    "duration": 319,
    "start_time": "2023-12-16T16:09:40.813Z"
   },
   {
    "duration": 4,
    "start_time": "2023-12-16T16:09:41.134Z"
   },
   {
    "duration": 387,
    "start_time": "2023-12-16T16:09:41.139Z"
   },
   {
    "duration": 322,
    "start_time": "2023-12-16T16:09:41.528Z"
   },
   {
    "duration": 4,
    "start_time": "2023-12-16T16:09:41.851Z"
   },
   {
    "duration": 415,
    "start_time": "2023-12-16T16:09:41.856Z"
   },
   {
    "duration": 148,
    "start_time": "2023-12-16T16:09:42.272Z"
   },
   {
    "duration": 2,
    "start_time": "2023-12-16T16:09:42.422Z"
   },
   {
    "duration": 9,
    "start_time": "2023-12-16T16:09:42.425Z"
   },
   {
    "duration": 185,
    "start_time": "2023-12-16T16:09:42.435Z"
   },
   {
    "duration": 4,
    "start_time": "2023-12-16T16:09:42.622Z"
   },
   {
    "duration": 4,
    "start_time": "2023-12-16T16:09:42.627Z"
   },
   {
    "duration": 15,
    "start_time": "2023-12-16T16:09:42.632Z"
   },
   {
    "duration": 207,
    "start_time": "2023-12-16T16:09:42.648Z"
   },
   {
    "duration": 3,
    "start_time": "2023-12-16T16:09:42.857Z"
   },
   {
    "duration": 5,
    "start_time": "2023-12-16T16:09:42.861Z"
   },
   {
    "duration": 8,
    "start_time": "2023-12-16T16:09:42.867Z"
   },
   {
    "duration": 5,
    "start_time": "2023-12-16T16:09:42.876Z"
   },
   {
    "duration": 5,
    "start_time": "2023-12-16T16:09:42.882Z"
   },
   {
    "duration": 25,
    "start_time": "2023-12-16T16:09:42.889Z"
   },
   {
    "duration": 24,
    "start_time": "2023-12-16T16:09:42.916Z"
   },
   {
    "duration": 12,
    "start_time": "2023-12-16T16:09:42.942Z"
   },
   {
    "duration": 8,
    "start_time": "2023-12-16T16:09:42.956Z"
   },
   {
    "duration": 8,
    "start_time": "2023-12-16T16:09:42.966Z"
   },
   {
    "duration": 54,
    "start_time": "2023-12-16T16:09:42.975Z"
   },
   {
    "duration": 15,
    "start_time": "2023-12-16T16:09:43.031Z"
   },
   {
    "duration": 1249,
    "start_time": "2023-12-17T18:46:29.222Z"
   },
   {
    "duration": 61,
    "start_time": "2023-12-17T18:46:30.473Z"
   },
   {
    "duration": 3,
    "start_time": "2023-12-17T18:46:30.536Z"
   },
   {
    "duration": 33,
    "start_time": "2023-12-17T18:46:30.540Z"
   },
   {
    "duration": 23,
    "start_time": "2023-12-17T18:46:30.575Z"
   },
   {
    "duration": 46,
    "start_time": "2023-12-17T18:46:30.600Z"
   },
   {
    "duration": 39,
    "start_time": "2023-12-17T18:46:30.648Z"
   },
   {
    "duration": 53,
    "start_time": "2023-12-17T18:46:30.688Z"
   },
   {
    "duration": 45,
    "start_time": "2023-12-17T18:46:30.742Z"
   },
   {
    "duration": 51,
    "start_time": "2023-12-17T18:46:30.790Z"
   },
   {
    "duration": 41,
    "start_time": "2023-12-17T18:46:30.842Z"
   },
   {
    "duration": 134,
    "start_time": "2023-12-17T18:46:30.885Z"
   },
   {
    "duration": 8,
    "start_time": "2023-12-17T18:46:31.021Z"
   },
   {
    "duration": 53,
    "start_time": "2023-12-17T18:46:31.030Z"
   },
   {
    "duration": 30,
    "start_time": "2023-12-17T18:46:31.085Z"
   },
   {
    "duration": 34,
    "start_time": "2023-12-17T18:46:31.116Z"
   },
   {
    "duration": 84,
    "start_time": "2023-12-17T18:46:31.151Z"
   },
   {
    "duration": 7,
    "start_time": "2023-12-17T18:46:31.236Z"
   },
   {
    "duration": 40,
    "start_time": "2023-12-17T18:46:31.244Z"
   },
   {
    "duration": 42,
    "start_time": "2023-12-17T18:46:31.285Z"
   },
   {
    "duration": 39,
    "start_time": "2023-12-17T18:46:31.328Z"
   },
   {
    "duration": 28,
    "start_time": "2023-12-17T18:46:31.369Z"
   },
   {
    "duration": 29,
    "start_time": "2023-12-17T18:46:31.398Z"
   },
   {
    "duration": 35,
    "start_time": "2023-12-17T18:46:31.428Z"
   },
   {
    "duration": 28,
    "start_time": "2023-12-17T18:46:31.464Z"
   },
   {
    "duration": 20,
    "start_time": "2023-12-17T18:46:31.494Z"
   },
   {
    "duration": 173,
    "start_time": "2023-12-17T18:46:31.515Z"
   },
   {
    "duration": 118,
    "start_time": "2023-12-17T18:46:31.691Z"
   },
   {
    "duration": 5,
    "start_time": "2023-12-17T18:46:31.811Z"
   },
   {
    "duration": 33,
    "start_time": "2023-12-17T18:46:31.818Z"
   },
   {
    "duration": 19,
    "start_time": "2023-12-17T18:46:31.853Z"
   },
   {
    "duration": 26,
    "start_time": "2023-12-17T18:46:31.874Z"
   },
   {
    "duration": 32,
    "start_time": "2023-12-17T18:46:31.902Z"
   },
   {
    "duration": 22,
    "start_time": "2023-12-17T18:46:31.935Z"
   },
   {
    "duration": 381,
    "start_time": "2023-12-17T18:46:31.959Z"
   },
   {
    "duration": 3,
    "start_time": "2023-12-17T18:46:32.342Z"
   },
   {
    "duration": 325,
    "start_time": "2023-12-17T18:46:32.347Z"
   },
   {
    "duration": 3,
    "start_time": "2023-12-17T18:46:32.673Z"
   },
   {
    "duration": 445,
    "start_time": "2023-12-17T18:46:32.678Z"
   },
   {
    "duration": 311,
    "start_time": "2023-12-17T18:46:33.125Z"
   },
   {
    "duration": 3,
    "start_time": "2023-12-17T18:46:33.438Z"
   },
   {
    "duration": 466,
    "start_time": "2023-12-17T18:46:33.442Z"
   },
   {
    "duration": 117,
    "start_time": "2023-12-17T18:46:33.910Z"
   },
   {
    "duration": 2,
    "start_time": "2023-12-17T18:46:34.029Z"
   },
   {
    "duration": 26,
    "start_time": "2023-12-17T18:46:34.033Z"
   },
   {
    "duration": 200,
    "start_time": "2023-12-17T18:46:34.060Z"
   },
   {
    "duration": 4,
    "start_time": "2023-12-17T18:46:34.261Z"
   },
   {
    "duration": 10,
    "start_time": "2023-12-17T18:46:34.267Z"
   },
   {
    "duration": 20,
    "start_time": "2023-12-17T18:46:34.278Z"
   },
   {
    "duration": 233,
    "start_time": "2023-12-17T18:46:34.299Z"
   },
   {
    "duration": 4,
    "start_time": "2023-12-17T18:46:34.534Z"
   },
   {
    "duration": 6,
    "start_time": "2023-12-17T18:46:34.539Z"
   },
   {
    "duration": 21,
    "start_time": "2023-12-17T18:46:34.547Z"
   },
   {
    "duration": 6,
    "start_time": "2023-12-17T18:46:34.569Z"
   },
   {
    "duration": 14,
    "start_time": "2023-12-17T18:46:34.576Z"
   },
   {
    "duration": 15,
    "start_time": "2023-12-17T18:46:34.591Z"
   },
   {
    "duration": 26,
    "start_time": "2023-12-17T18:46:34.607Z"
   },
   {
    "duration": 22,
    "start_time": "2023-12-17T18:46:34.635Z"
   },
   {
    "duration": 9,
    "start_time": "2023-12-17T18:46:34.659Z"
   },
   {
    "duration": 17,
    "start_time": "2023-12-17T18:46:34.669Z"
   },
   {
    "duration": 25,
    "start_time": "2023-12-17T18:46:34.687Z"
   },
   {
    "duration": 15,
    "start_time": "2023-12-17T18:46:34.714Z"
   },
   {
    "duration": 1097,
    "start_time": "2023-12-17T18:49:56.382Z"
   },
   {
    "duration": 27,
    "start_time": "2023-12-17T18:49:57.481Z"
   },
   {
    "duration": 3,
    "start_time": "2023-12-17T18:49:57.510Z"
   },
   {
    "duration": 14,
    "start_time": "2023-12-17T18:49:57.515Z"
   },
   {
    "duration": 9,
    "start_time": "2023-12-17T18:49:57.531Z"
   },
   {
    "duration": 25,
    "start_time": "2023-12-17T18:49:57.542Z"
   },
   {
    "duration": 16,
    "start_time": "2023-12-17T18:49:57.569Z"
   },
   {
    "duration": 16,
    "start_time": "2023-12-17T18:49:57.587Z"
   },
   {
    "duration": 16,
    "start_time": "2023-12-17T18:49:57.605Z"
   },
   {
    "duration": 11,
    "start_time": "2023-12-17T18:49:57.625Z"
   },
   {
    "duration": 15,
    "start_time": "2023-12-17T18:49:57.637Z"
   },
   {
    "duration": 58,
    "start_time": "2023-12-17T18:49:57.654Z"
   },
   {
    "duration": 8,
    "start_time": "2023-12-17T18:49:57.714Z"
   },
   {
    "duration": 16,
    "start_time": "2023-12-17T18:49:57.723Z"
   },
   {
    "duration": 7,
    "start_time": "2023-12-17T18:49:57.740Z"
   },
   {
    "duration": 7,
    "start_time": "2023-12-17T18:49:57.749Z"
   },
   {
    "duration": 17,
    "start_time": "2023-12-17T18:49:57.757Z"
   },
   {
    "duration": 6,
    "start_time": "2023-12-17T18:49:57.776Z"
   },
   {
    "duration": 9,
    "start_time": "2023-12-17T18:49:57.784Z"
   },
   {
    "duration": 4,
    "start_time": "2023-12-17T18:49:57.795Z"
   },
   {
    "duration": 7,
    "start_time": "2023-12-17T18:49:57.801Z"
   },
   {
    "duration": 13,
    "start_time": "2023-12-17T18:49:57.809Z"
   },
   {
    "duration": 9,
    "start_time": "2023-12-17T18:49:57.823Z"
   },
   {
    "duration": 12,
    "start_time": "2023-12-17T18:49:57.834Z"
   },
   {
    "duration": 10,
    "start_time": "2023-12-17T18:49:57.865Z"
   },
   {
    "duration": 30,
    "start_time": "2023-12-17T18:49:57.876Z"
   },
   {
    "duration": 193,
    "start_time": "2023-12-17T18:49:57.908Z"
   },
   {
    "duration": 125,
    "start_time": "2023-12-17T18:49:58.104Z"
   },
   {
    "duration": 6,
    "start_time": "2023-12-17T18:49:58.230Z"
   },
   {
    "duration": 10,
    "start_time": "2023-12-17T18:49:58.238Z"
   },
   {
    "duration": 17,
    "start_time": "2023-12-17T18:49:58.249Z"
   },
   {
    "duration": 3,
    "start_time": "2023-12-17T18:49:58.268Z"
   },
   {
    "duration": 8,
    "start_time": "2023-12-17T18:49:58.272Z"
   },
   {
    "duration": 5,
    "start_time": "2023-12-17T18:49:58.282Z"
   },
   {
    "duration": 372,
    "start_time": "2023-12-17T18:49:58.289Z"
   },
   {
    "duration": 3,
    "start_time": "2023-12-17T18:49:58.663Z"
   },
   {
    "duration": 388,
    "start_time": "2023-12-17T18:49:58.668Z"
   },
   {
    "duration": 4,
    "start_time": "2023-12-17T18:49:59.057Z"
   },
   {
    "duration": 419,
    "start_time": "2023-12-17T18:49:59.063Z"
   },
   {
    "duration": 310,
    "start_time": "2023-12-17T18:49:59.484Z"
   },
   {
    "duration": 4,
    "start_time": "2023-12-17T18:49:59.795Z"
   },
   {
    "duration": 447,
    "start_time": "2023-12-17T18:49:59.800Z"
   },
   {
    "duration": 130,
    "start_time": "2023-12-17T18:50:00.249Z"
   },
   {
    "duration": 3,
    "start_time": "2023-12-17T18:50:00.381Z"
   },
   {
    "duration": 53,
    "start_time": "2023-12-17T18:50:00.385Z"
   },
   {
    "duration": 211,
    "start_time": "2023-12-17T18:50:00.439Z"
   },
   {
    "duration": 4,
    "start_time": "2023-12-17T18:50:00.651Z"
   },
   {
    "duration": 38,
    "start_time": "2023-12-17T18:50:00.657Z"
   },
   {
    "duration": 33,
    "start_time": "2023-12-17T18:50:00.696Z"
   },
   {
    "duration": 255,
    "start_time": "2023-12-17T18:50:00.731Z"
   },
   {
    "duration": 5,
    "start_time": "2023-12-17T18:50:00.988Z"
   },
   {
    "duration": 38,
    "start_time": "2023-12-17T18:50:00.995Z"
   },
   {
    "duration": 81,
    "start_time": "2023-12-17T18:50:01.034Z"
   },
   {
    "duration": 154,
    "start_time": "2023-12-17T18:50:01.117Z"
   },
   {
    "duration": 228,
    "start_time": "2023-12-17T18:50:01.272Z"
   },
   {
    "duration": 81,
    "start_time": "2023-12-17T18:50:01.501Z"
   },
   {
    "duration": 56,
    "start_time": "2023-12-17T18:50:01.584Z"
   },
   {
    "duration": 59,
    "start_time": "2023-12-17T18:50:01.642Z"
   },
   {
    "duration": 63,
    "start_time": "2023-12-17T18:50:01.702Z"
   },
   {
    "duration": 50,
    "start_time": "2023-12-17T18:50:01.767Z"
   },
   {
    "duration": 114,
    "start_time": "2023-12-17T18:50:01.819Z"
   },
   {
    "duration": 72,
    "start_time": "2023-12-17T18:50:01.934Z"
   },
   {
    "duration": 1063,
    "start_time": "2023-12-17T18:50:27.020Z"
   },
   {
    "duration": 28,
    "start_time": "2023-12-17T18:50:28.085Z"
   },
   {
    "duration": 3,
    "start_time": "2023-12-17T18:50:28.114Z"
   },
   {
    "duration": 13,
    "start_time": "2023-12-17T18:50:28.119Z"
   },
   {
    "duration": 3,
    "start_time": "2023-12-17T18:50:28.133Z"
   },
   {
    "duration": 8,
    "start_time": "2023-12-17T18:50:28.137Z"
   },
   {
    "duration": 6,
    "start_time": "2023-12-17T18:50:28.146Z"
   },
   {
    "duration": 10,
    "start_time": "2023-12-17T18:50:28.153Z"
   },
   {
    "duration": 5,
    "start_time": "2023-12-17T18:50:28.164Z"
   },
   {
    "duration": 4,
    "start_time": "2023-12-17T18:50:28.171Z"
   },
   {
    "duration": 28,
    "start_time": "2023-12-17T18:50:28.176Z"
   },
   {
    "duration": 46,
    "start_time": "2023-12-17T18:50:28.206Z"
   },
   {
    "duration": 7,
    "start_time": "2023-12-17T18:50:28.253Z"
   },
   {
    "duration": 12,
    "start_time": "2023-12-17T18:50:28.261Z"
   },
   {
    "duration": 4,
    "start_time": "2023-12-17T18:50:28.274Z"
   },
   {
    "duration": 38,
    "start_time": "2023-12-17T18:50:28.279Z"
   },
   {
    "duration": 18,
    "start_time": "2023-12-17T18:50:28.319Z"
   },
   {
    "duration": 6,
    "start_time": "2023-12-17T18:50:28.339Z"
   },
   {
    "duration": 10,
    "start_time": "2023-12-17T18:50:28.346Z"
   },
   {
    "duration": 6,
    "start_time": "2023-12-17T18:50:28.357Z"
   },
   {
    "duration": 8,
    "start_time": "2023-12-17T18:50:28.364Z"
   },
   {
    "duration": 12,
    "start_time": "2023-12-17T18:50:28.373Z"
   },
   {
    "duration": 8,
    "start_time": "2023-12-17T18:50:28.386Z"
   },
   {
    "duration": 15,
    "start_time": "2023-12-17T18:50:28.395Z"
   },
   {
    "duration": 19,
    "start_time": "2023-12-17T18:50:28.411Z"
   },
   {
    "duration": 6,
    "start_time": "2023-12-17T18:50:28.431Z"
   },
   {
    "duration": 157,
    "start_time": "2023-12-17T18:50:28.439Z"
   },
   {
    "duration": 116,
    "start_time": "2023-12-17T18:50:28.599Z"
   },
   {
    "duration": 6,
    "start_time": "2023-12-17T18:50:28.716Z"
   },
   {
    "duration": 32,
    "start_time": "2023-12-17T18:50:28.724Z"
   },
   {
    "duration": 11,
    "start_time": "2023-12-17T18:50:28.757Z"
   },
   {
    "duration": 6,
    "start_time": "2023-12-17T18:50:28.770Z"
   },
   {
    "duration": 10,
    "start_time": "2023-12-17T18:50:28.777Z"
   },
   {
    "duration": 8,
    "start_time": "2023-12-17T18:50:28.789Z"
   },
   {
    "duration": 394,
    "start_time": "2023-12-17T18:50:28.799Z"
   },
   {
    "duration": 3,
    "start_time": "2023-12-17T18:50:29.195Z"
   },
   {
    "duration": 313,
    "start_time": "2023-12-17T18:50:29.199Z"
   },
   {
    "duration": 3,
    "start_time": "2023-12-17T18:50:29.513Z"
   },
   {
    "duration": 399,
    "start_time": "2023-12-17T18:50:29.518Z"
   },
   {
    "duration": 299,
    "start_time": "2023-12-17T18:50:29.919Z"
   },
   {
    "duration": 3,
    "start_time": "2023-12-17T18:50:30.219Z"
   },
   {
    "duration": 504,
    "start_time": "2023-12-17T18:50:30.224Z"
   },
   {
    "duration": 115,
    "start_time": "2023-12-17T18:50:30.730Z"
   },
   {
    "duration": 2,
    "start_time": "2023-12-17T18:50:30.847Z"
   },
   {
    "duration": 98,
    "start_time": "2023-12-17T18:50:30.851Z"
   },
   {
    "duration": 271,
    "start_time": "2023-12-17T18:50:30.951Z"
   },
   {
    "duration": 4,
    "start_time": "2023-12-17T18:50:31.223Z"
   },
   {
    "duration": 44,
    "start_time": "2023-12-17T18:50:31.229Z"
   },
   {
    "duration": 76,
    "start_time": "2023-12-17T18:50:31.275Z"
   },
   {
    "duration": 290,
    "start_time": "2023-12-17T18:50:31.353Z"
   },
   {
    "duration": 4,
    "start_time": "2023-12-17T18:50:31.645Z"
   },
   {
    "duration": 38,
    "start_time": "2023-12-17T18:50:31.650Z"
   },
   {
    "duration": 61,
    "start_time": "2023-12-17T18:50:31.689Z"
   },
   {
    "duration": 31,
    "start_time": "2023-12-17T18:50:31.752Z"
   },
   {
    "duration": 26,
    "start_time": "2023-12-17T18:50:31.785Z"
   },
   {
    "duration": 25,
    "start_time": "2023-12-17T18:50:31.812Z"
   },
   {
    "duration": 64,
    "start_time": "2023-12-17T18:50:31.838Z"
   },
   {
    "duration": 25,
    "start_time": "2023-12-17T18:50:31.904Z"
   },
   {
    "duration": 103,
    "start_time": "2023-12-17T18:50:31.931Z"
   },
   {
    "duration": 88,
    "start_time": "2023-12-17T18:50:32.036Z"
   },
   {
    "duration": 38,
    "start_time": "2023-12-17T18:50:32.126Z"
   },
   {
    "duration": 15,
    "start_time": "2023-12-17T18:50:32.165Z"
   },
   {
    "duration": 1104,
    "start_time": "2023-12-17T19:16:52.471Z"
   },
   {
    "duration": 26,
    "start_time": "2023-12-17T19:16:53.577Z"
   },
   {
    "duration": 3,
    "start_time": "2023-12-17T19:16:53.605Z"
   },
   {
    "duration": 12,
    "start_time": "2023-12-17T19:16:53.609Z"
   },
   {
    "duration": 3,
    "start_time": "2023-12-17T19:16:53.622Z"
   },
   {
    "duration": 6,
    "start_time": "2023-12-17T19:16:53.626Z"
   },
   {
    "duration": 5,
    "start_time": "2023-12-17T19:16:53.633Z"
   },
   {
    "duration": 10,
    "start_time": "2023-12-17T19:16:53.639Z"
   },
   {
    "duration": 4,
    "start_time": "2023-12-17T19:16:53.650Z"
   },
   {
    "duration": 3,
    "start_time": "2023-12-17T19:16:53.664Z"
   },
   {
    "duration": 10,
    "start_time": "2023-12-17T19:16:53.668Z"
   },
   {
    "duration": 37,
    "start_time": "2023-12-17T19:16:53.680Z"
   },
   {
    "duration": 8,
    "start_time": "2023-12-17T19:16:53.719Z"
   },
   {
    "duration": 15,
    "start_time": "2023-12-17T19:16:53.729Z"
   },
   {
    "duration": 13,
    "start_time": "2023-12-17T19:16:53.745Z"
   },
   {
    "duration": 14,
    "start_time": "2023-12-17T19:16:53.760Z"
   },
   {
    "duration": 16,
    "start_time": "2023-12-17T19:16:53.784Z"
   },
   {
    "duration": 10,
    "start_time": "2023-12-17T19:16:53.803Z"
   },
   {
    "duration": 19,
    "start_time": "2023-12-17T19:16:53.814Z"
   },
   {
    "duration": 14,
    "start_time": "2023-12-17T19:16:53.835Z"
   },
   {
    "duration": 15,
    "start_time": "2023-12-17T19:16:53.851Z"
   },
   {
    "duration": 17,
    "start_time": "2023-12-17T19:16:53.867Z"
   },
   {
    "duration": 11,
    "start_time": "2023-12-17T19:16:53.885Z"
   },
   {
    "duration": 16,
    "start_time": "2023-12-17T19:16:53.897Z"
   },
   {
    "duration": 12,
    "start_time": "2023-12-17T19:16:53.915Z"
   },
   {
    "duration": 94,
    "start_time": "2023-12-17T19:16:53.928Z"
   },
   {
    "duration": 0,
    "start_time": "2023-12-17T19:16:54.024Z"
   },
   {
    "duration": 0,
    "start_time": "2023-12-17T19:16:54.025Z"
   },
   {
    "duration": 0,
    "start_time": "2023-12-17T19:16:54.027Z"
   },
   {
    "duration": 0,
    "start_time": "2023-12-17T19:16:54.028Z"
   },
   {
    "duration": 0,
    "start_time": "2023-12-17T19:16:54.028Z"
   },
   {
    "duration": 0,
    "start_time": "2023-12-17T19:16:54.029Z"
   },
   {
    "duration": 0,
    "start_time": "2023-12-17T19:16:54.030Z"
   },
   {
    "duration": 0,
    "start_time": "2023-12-17T19:16:54.031Z"
   },
   {
    "duration": 0,
    "start_time": "2023-12-17T19:16:54.032Z"
   },
   {
    "duration": 0,
    "start_time": "2023-12-17T19:16:54.033Z"
   },
   {
    "duration": 0,
    "start_time": "2023-12-17T19:16:54.034Z"
   },
   {
    "duration": 0,
    "start_time": "2023-12-17T19:16:54.036Z"
   },
   {
    "duration": 0,
    "start_time": "2023-12-17T19:16:54.037Z"
   },
   {
    "duration": 0,
    "start_time": "2023-12-17T19:16:54.037Z"
   },
   {
    "duration": 0,
    "start_time": "2023-12-17T19:16:54.038Z"
   },
   {
    "duration": 0,
    "start_time": "2023-12-17T19:16:54.039Z"
   },
   {
    "duration": 0,
    "start_time": "2023-12-17T19:16:54.040Z"
   },
   {
    "duration": 0,
    "start_time": "2023-12-17T19:16:54.041Z"
   },
   {
    "duration": 0,
    "start_time": "2023-12-17T19:16:54.042Z"
   },
   {
    "duration": 0,
    "start_time": "2023-12-17T19:16:54.043Z"
   },
   {
    "duration": 0,
    "start_time": "2023-12-17T19:16:54.044Z"
   },
   {
    "duration": 0,
    "start_time": "2023-12-17T19:16:54.044Z"
   },
   {
    "duration": 0,
    "start_time": "2023-12-17T19:16:54.045Z"
   },
   {
    "duration": 0,
    "start_time": "2023-12-17T19:16:54.046Z"
   },
   {
    "duration": 0,
    "start_time": "2023-12-17T19:16:54.047Z"
   },
   {
    "duration": 0,
    "start_time": "2023-12-17T19:16:54.049Z"
   },
   {
    "duration": 0,
    "start_time": "2023-12-17T19:16:54.050Z"
   },
   {
    "duration": 0,
    "start_time": "2023-12-17T19:16:54.051Z"
   },
   {
    "duration": 0,
    "start_time": "2023-12-17T19:16:54.052Z"
   },
   {
    "duration": 0,
    "start_time": "2023-12-17T19:16:54.053Z"
   },
   {
    "duration": 0,
    "start_time": "2023-12-17T19:16:54.053Z"
   },
   {
    "duration": 0,
    "start_time": "2023-12-17T19:16:54.054Z"
   },
   {
    "duration": 0,
    "start_time": "2023-12-17T19:16:54.056Z"
   },
   {
    "duration": 0,
    "start_time": "2023-12-17T19:16:54.057Z"
   },
   {
    "duration": 0,
    "start_time": "2023-12-17T19:16:54.058Z"
   },
   {
    "duration": 0,
    "start_time": "2023-12-17T19:16:54.059Z"
   },
   {
    "duration": 0,
    "start_time": "2023-12-17T19:16:54.065Z"
   },
   {
    "duration": 3,
    "start_time": "2023-12-17T19:17:09.248Z"
   },
   {
    "duration": 3,
    "start_time": "2023-12-17T19:18:21.503Z"
   },
   {
    "duration": 3,
    "start_time": "2023-12-17T19:18:31.766Z"
   },
   {
    "duration": 8,
    "start_time": "2023-12-17T19:22:34.391Z"
   },
   {
    "duration": 98,
    "start_time": "2023-12-17T19:26:37.113Z"
   },
   {
    "duration": 4,
    "start_time": "2023-12-17T19:26:47.092Z"
   },
   {
    "duration": 3,
    "start_time": "2023-12-17T19:26:56.605Z"
   },
   {
    "duration": 4,
    "start_time": "2023-12-17T19:27:09.661Z"
   },
   {
    "duration": 8,
    "start_time": "2023-12-17T19:27:10.213Z"
   },
   {
    "duration": 5,
    "start_time": "2023-12-17T19:27:32.149Z"
   },
   {
    "duration": 4,
    "start_time": "2023-12-17T19:27:32.717Z"
   },
   {
    "duration": 7,
    "start_time": "2023-12-17T19:29:04.679Z"
   },
   {
    "duration": 5,
    "start_time": "2023-12-17T19:29:10.079Z"
   },
   {
    "duration": 154,
    "start_time": "2023-12-17T19:29:11.031Z"
   },
   {
    "duration": 125,
    "start_time": "2023-12-17T19:29:15.014Z"
   },
   {
    "duration": 6,
    "start_time": "2023-12-17T19:29:16.206Z"
   },
   {
    "duration": 3,
    "start_time": "2023-12-17T19:29:17.190Z"
   },
   {
    "duration": 5,
    "start_time": "2023-12-17T19:29:17.527Z"
   },
   {
    "duration": 4,
    "start_time": "2023-12-17T19:29:22.646Z"
   },
   {
    "duration": 4,
    "start_time": "2023-12-17T19:29:23.382Z"
   },
   {
    "duration": 5,
    "start_time": "2023-12-17T19:30:20.897Z"
   },
   {
    "duration": 4,
    "start_time": "2023-12-17T19:30:21.343Z"
   },
   {
    "duration": 4,
    "start_time": "2023-12-17T19:36:20.006Z"
   },
   {
    "duration": 4,
    "start_time": "2023-12-17T19:36:39.830Z"
   },
   {
    "duration": 5,
    "start_time": "2023-12-17T19:36:59.437Z"
   },
   {
    "duration": 3,
    "start_time": "2023-12-17T19:37:00.022Z"
   },
   {
    "duration": 4,
    "start_time": "2023-12-17T19:38:47.519Z"
   },
   {
    "duration": 3,
    "start_time": "2023-12-17T19:38:47.696Z"
   },
   {
    "duration": 4,
    "start_time": "2023-12-17T19:39:40.400Z"
   },
   {
    "duration": 3,
    "start_time": "2023-12-17T19:39:40.720Z"
   },
   {
    "duration": 3,
    "start_time": "2023-12-17T19:54:32.429Z"
   },
   {
    "duration": 4,
    "start_time": "2023-12-17T19:54:32.876Z"
   },
   {
    "duration": 3,
    "start_time": "2023-12-17T19:55:02.677Z"
   },
   {
    "duration": 3,
    "start_time": "2023-12-17T19:55:02.845Z"
   },
   {
    "duration": 4,
    "start_time": "2023-12-17T19:55:45.813Z"
   },
   {
    "duration": 7,
    "start_time": "2023-12-17T19:55:45.990Z"
   },
   {
    "duration": 4,
    "start_time": "2023-12-17T19:56:19.246Z"
   },
   {
    "duration": 4,
    "start_time": "2023-12-17T19:56:19.430Z"
   },
   {
    "duration": 1148,
    "start_time": "2023-12-17T20:06:01.671Z"
   },
   {
    "duration": 27,
    "start_time": "2023-12-17T20:06:02.821Z"
   },
   {
    "duration": 3,
    "start_time": "2023-12-17T20:06:02.849Z"
   },
   {
    "duration": 15,
    "start_time": "2023-12-17T20:06:02.854Z"
   },
   {
    "duration": 2,
    "start_time": "2023-12-17T20:06:02.871Z"
   },
   {
    "duration": 17,
    "start_time": "2023-12-17T20:06:02.874Z"
   },
   {
    "duration": 11,
    "start_time": "2023-12-17T20:06:02.892Z"
   },
   {
    "duration": 15,
    "start_time": "2023-12-17T20:06:02.904Z"
   },
   {
    "duration": 11,
    "start_time": "2023-12-17T20:06:02.920Z"
   },
   {
    "duration": 5,
    "start_time": "2023-12-17T20:06:02.933Z"
   },
   {
    "duration": 11,
    "start_time": "2023-12-17T20:06:02.939Z"
   },
   {
    "duration": 51,
    "start_time": "2023-12-17T20:06:02.952Z"
   },
   {
    "duration": 7,
    "start_time": "2023-12-17T20:06:03.005Z"
   },
   {
    "duration": 15,
    "start_time": "2023-12-17T20:06:03.013Z"
   },
   {
    "duration": 9,
    "start_time": "2023-12-17T20:06:03.029Z"
   },
   {
    "duration": 4,
    "start_time": "2023-12-17T20:06:03.040Z"
   },
   {
    "duration": 16,
    "start_time": "2023-12-17T20:06:03.045Z"
   },
   {
    "duration": 6,
    "start_time": "2023-12-17T20:06:03.063Z"
   },
   {
    "duration": 10,
    "start_time": "2023-12-17T20:06:03.071Z"
   },
   {
    "duration": 5,
    "start_time": "2023-12-17T20:06:03.083Z"
   },
   {
    "duration": 6,
    "start_time": "2023-12-17T20:06:03.089Z"
   },
   {
    "duration": 21,
    "start_time": "2023-12-17T20:06:03.097Z"
   },
   {
    "duration": 6,
    "start_time": "2023-12-17T20:06:03.119Z"
   },
   {
    "duration": 11,
    "start_time": "2023-12-17T20:06:03.126Z"
   },
   {
    "duration": 8,
    "start_time": "2023-12-17T20:06:03.138Z"
   },
   {
    "duration": 10,
    "start_time": "2023-12-17T20:06:03.164Z"
   },
   {
    "duration": 6,
    "start_time": "2023-12-17T20:06:03.175Z"
   },
   {
    "duration": 3,
    "start_time": "2023-12-17T20:06:03.185Z"
   },
   {
    "duration": 11,
    "start_time": "2023-12-17T20:06:03.189Z"
   },
   {
    "duration": 6,
    "start_time": "2023-12-17T20:06:03.201Z"
   },
   {
    "duration": 3,
    "start_time": "2023-12-17T20:06:03.209Z"
   },
   {
    "duration": 7,
    "start_time": "2023-12-17T20:06:03.213Z"
   },
   {
    "duration": 10,
    "start_time": "2023-12-17T20:06:03.221Z"
   },
   {
    "duration": 105,
    "start_time": "2023-12-17T20:06:03.232Z"
   },
   {
    "duration": 0,
    "start_time": "2023-12-17T20:06:03.338Z"
   },
   {
    "duration": 1,
    "start_time": "2023-12-17T20:06:03.339Z"
   },
   {
    "duration": 0,
    "start_time": "2023-12-17T20:06:03.340Z"
   },
   {
    "duration": 0,
    "start_time": "2023-12-17T20:06:03.341Z"
   },
   {
    "duration": 0,
    "start_time": "2023-12-17T20:06:03.343Z"
   },
   {
    "duration": 0,
    "start_time": "2023-12-17T20:06:03.344Z"
   },
   {
    "duration": 0,
    "start_time": "2023-12-17T20:06:03.345Z"
   },
   {
    "duration": 0,
    "start_time": "2023-12-17T20:06:03.346Z"
   },
   {
    "duration": 0,
    "start_time": "2023-12-17T20:06:03.347Z"
   },
   {
    "duration": 0,
    "start_time": "2023-12-17T20:06:03.365Z"
   },
   {
    "duration": 0,
    "start_time": "2023-12-17T20:06:03.366Z"
   },
   {
    "duration": 0,
    "start_time": "2023-12-17T20:06:03.367Z"
   },
   {
    "duration": 0,
    "start_time": "2023-12-17T20:06:03.368Z"
   },
   {
    "duration": 0,
    "start_time": "2023-12-17T20:06:03.369Z"
   },
   {
    "duration": 1,
    "start_time": "2023-12-17T20:06:03.370Z"
   },
   {
    "duration": 0,
    "start_time": "2023-12-17T20:06:03.372Z"
   },
   {
    "duration": 0,
    "start_time": "2023-12-17T20:06:03.373Z"
   },
   {
    "duration": 0,
    "start_time": "2023-12-17T20:06:03.373Z"
   },
   {
    "duration": 0,
    "start_time": "2023-12-17T20:06:03.374Z"
   },
   {
    "duration": 0,
    "start_time": "2023-12-17T20:06:03.375Z"
   },
   {
    "duration": 0,
    "start_time": "2023-12-17T20:06:03.376Z"
   },
   {
    "duration": 0,
    "start_time": "2023-12-17T20:06:03.377Z"
   },
   {
    "duration": 0,
    "start_time": "2023-12-17T20:06:03.378Z"
   },
   {
    "duration": 0,
    "start_time": "2023-12-17T20:06:03.379Z"
   },
   {
    "duration": 0,
    "start_time": "2023-12-17T20:06:03.380Z"
   },
   {
    "duration": 0,
    "start_time": "2023-12-17T20:06:03.381Z"
   },
   {
    "duration": 0,
    "start_time": "2023-12-17T20:06:03.382Z"
   },
   {
    "duration": 0,
    "start_time": "2023-12-17T20:06:03.383Z"
   },
   {
    "duration": 0,
    "start_time": "2023-12-17T20:06:03.384Z"
   },
   {
    "duration": 0,
    "start_time": "2023-12-17T20:06:03.385Z"
   },
   {
    "duration": 0,
    "start_time": "2023-12-17T20:06:03.386Z"
   },
   {
    "duration": 0,
    "start_time": "2023-12-17T20:06:03.387Z"
   },
   {
    "duration": 0,
    "start_time": "2023-12-17T20:06:03.388Z"
   },
   {
    "duration": 0,
    "start_time": "2023-12-17T20:06:03.389Z"
   },
   {
    "duration": 0,
    "start_time": "2023-12-17T20:06:03.390Z"
   },
   {
    "duration": 0,
    "start_time": "2023-12-17T20:06:03.391Z"
   },
   {
    "duration": 0,
    "start_time": "2023-12-17T20:06:03.392Z"
   },
   {
    "duration": 1070,
    "start_time": "2023-12-17T20:07:15.601Z"
   },
   {
    "duration": 26,
    "start_time": "2023-12-17T20:07:16.672Z"
   },
   {
    "duration": 3,
    "start_time": "2023-12-17T20:07:16.700Z"
   },
   {
    "duration": 32,
    "start_time": "2023-12-17T20:07:16.704Z"
   },
   {
    "duration": 3,
    "start_time": "2023-12-17T20:07:16.737Z"
   },
   {
    "duration": 14,
    "start_time": "2023-12-17T20:07:16.741Z"
   },
   {
    "duration": 3,
    "start_time": "2023-12-17T20:07:16.756Z"
   },
   {
    "duration": 39,
    "start_time": "2023-12-17T20:07:16.760Z"
   },
   {
    "duration": 12,
    "start_time": "2023-12-17T20:07:16.801Z"
   },
   {
    "duration": 6,
    "start_time": "2023-12-17T20:07:16.815Z"
   },
   {
    "duration": 12,
    "start_time": "2023-12-17T20:07:16.822Z"
   },
   {
    "duration": 37,
    "start_time": "2023-12-17T20:07:16.836Z"
   },
   {
    "duration": 7,
    "start_time": "2023-12-17T20:07:16.874Z"
   },
   {
    "duration": 19,
    "start_time": "2023-12-17T20:07:16.883Z"
   },
   {
    "duration": 7,
    "start_time": "2023-12-17T20:07:16.903Z"
   },
   {
    "duration": 7,
    "start_time": "2023-12-17T20:07:16.911Z"
   },
   {
    "duration": 17,
    "start_time": "2023-12-17T20:07:16.919Z"
   },
   {
    "duration": 6,
    "start_time": "2023-12-17T20:07:16.937Z"
   },
   {
    "duration": 10,
    "start_time": "2023-12-17T20:07:16.944Z"
   },
   {
    "duration": 11,
    "start_time": "2023-12-17T20:07:16.955Z"
   },
   {
    "duration": 4,
    "start_time": "2023-12-17T20:07:16.967Z"
   },
   {
    "duration": 16,
    "start_time": "2023-12-17T20:07:16.973Z"
   },
   {
    "duration": 19,
    "start_time": "2023-12-17T20:07:16.990Z"
   },
   {
    "duration": 11,
    "start_time": "2023-12-17T20:07:17.010Z"
   },
   {
    "duration": 11,
    "start_time": "2023-12-17T20:07:17.022Z"
   },
   {
    "duration": 4,
    "start_time": "2023-12-17T20:07:17.034Z"
   },
   {
    "duration": 4,
    "start_time": "2023-12-17T20:07:17.039Z"
   },
   {
    "duration": 4,
    "start_time": "2023-12-17T20:07:17.046Z"
   },
   {
    "duration": 8,
    "start_time": "2023-12-17T20:07:17.065Z"
   },
   {
    "duration": 5,
    "start_time": "2023-12-17T20:07:17.074Z"
   },
   {
    "duration": 6,
    "start_time": "2023-12-17T20:07:17.080Z"
   },
   {
    "duration": 4,
    "start_time": "2023-12-17T20:07:17.088Z"
   },
   {
    "duration": 12,
    "start_time": "2023-12-17T20:07:17.093Z"
   },
   {
    "duration": 167,
    "start_time": "2023-12-17T20:07:17.106Z"
   },
   {
    "duration": 120,
    "start_time": "2023-12-17T20:07:17.275Z"
   },
   {
    "duration": 6,
    "start_time": "2023-12-17T20:07:17.397Z"
   },
   {
    "duration": 5,
    "start_time": "2023-12-17T20:07:17.404Z"
   },
   {
    "duration": 16,
    "start_time": "2023-12-17T20:07:17.410Z"
   },
   {
    "duration": 6,
    "start_time": "2023-12-17T20:07:17.427Z"
   },
   {
    "duration": 4,
    "start_time": "2023-12-17T20:07:17.434Z"
   },
   {
    "duration": 15,
    "start_time": "2023-12-17T20:07:17.440Z"
   },
   {
    "duration": 8,
    "start_time": "2023-12-17T20:07:17.457Z"
   },
   {
    "duration": 9,
    "start_time": "2023-12-17T20:07:17.466Z"
   },
   {
    "duration": 392,
    "start_time": "2023-12-17T20:07:17.476Z"
   },
   {
    "duration": 4,
    "start_time": "2023-12-17T20:07:17.869Z"
   },
   {
    "duration": 350,
    "start_time": "2023-12-17T20:07:17.874Z"
   },
   {
    "duration": 4,
    "start_time": "2023-12-17T20:07:18.225Z"
   },
   {
    "duration": 425,
    "start_time": "2023-12-17T20:07:18.231Z"
   },
   {
    "duration": 345,
    "start_time": "2023-12-17T20:07:18.658Z"
   },
   {
    "duration": 3,
    "start_time": "2023-12-17T20:07:19.004Z"
   },
   {
    "duration": 478,
    "start_time": "2023-12-17T20:07:19.009Z"
   },
   {
    "duration": 117,
    "start_time": "2023-12-17T20:07:19.488Z"
   },
   {
    "duration": 3,
    "start_time": "2023-12-17T20:07:19.606Z"
   },
   {
    "duration": 8,
    "start_time": "2023-12-17T20:07:19.610Z"
   },
   {
    "duration": 272,
    "start_time": "2023-12-17T20:07:19.619Z"
   },
   {
    "duration": 5,
    "start_time": "2023-12-17T20:07:19.892Z"
   },
   {
    "duration": 4,
    "start_time": "2023-12-17T20:07:19.898Z"
   },
   {
    "duration": 9,
    "start_time": "2023-12-17T20:07:19.903Z"
   },
   {
    "duration": 278,
    "start_time": "2023-12-17T20:07:19.913Z"
   },
   {
    "duration": 3,
    "start_time": "2023-12-17T20:07:20.193Z"
   },
   {
    "duration": 4,
    "start_time": "2023-12-17T20:07:20.198Z"
   },
   {
    "duration": 9,
    "start_time": "2023-12-17T20:07:20.203Z"
   },
   {
    "duration": 5,
    "start_time": "2023-12-17T20:07:20.214Z"
   },
   {
    "duration": 6,
    "start_time": "2023-12-17T20:07:20.220Z"
   },
   {
    "duration": 12,
    "start_time": "2023-12-17T20:07:20.227Z"
   },
   {
    "duration": 49,
    "start_time": "2023-12-17T20:07:20.240Z"
   },
   {
    "duration": 13,
    "start_time": "2023-12-17T20:07:20.291Z"
   },
   {
    "duration": 10,
    "start_time": "2023-12-17T20:07:20.306Z"
   },
   {
    "duration": 13,
    "start_time": "2023-12-17T20:07:20.318Z"
   },
   {
    "duration": 51,
    "start_time": "2023-12-17T20:07:20.333Z"
   },
   {
    "duration": 14,
    "start_time": "2023-12-17T20:07:20.386Z"
   },
   {
    "duration": 1119,
    "start_time": "2023-12-17T20:11:46.088Z"
   },
   {
    "duration": 26,
    "start_time": "2023-12-17T20:11:47.209Z"
   },
   {
    "duration": 3,
    "start_time": "2023-12-17T20:11:47.236Z"
   },
   {
    "duration": 14,
    "start_time": "2023-12-17T20:11:47.241Z"
   },
   {
    "duration": 4,
    "start_time": "2023-12-17T20:11:47.257Z"
   },
   {
    "duration": 20,
    "start_time": "2023-12-17T20:11:47.262Z"
   },
   {
    "duration": 8,
    "start_time": "2023-12-17T20:11:47.283Z"
   },
   {
    "duration": 18,
    "start_time": "2023-12-17T20:11:47.292Z"
   },
   {
    "duration": 5,
    "start_time": "2023-12-17T20:11:47.312Z"
   },
   {
    "duration": 3,
    "start_time": "2023-12-17T20:11:47.319Z"
   },
   {
    "duration": 10,
    "start_time": "2023-12-17T20:11:47.323Z"
   },
   {
    "duration": 46,
    "start_time": "2023-12-17T20:11:47.334Z"
   },
   {
    "duration": 7,
    "start_time": "2023-12-17T20:11:47.381Z"
   },
   {
    "duration": 10,
    "start_time": "2023-12-17T20:11:47.390Z"
   },
   {
    "duration": 5,
    "start_time": "2023-12-17T20:11:47.401Z"
   },
   {
    "duration": 5,
    "start_time": "2023-12-17T20:11:47.407Z"
   },
   {
    "duration": 16,
    "start_time": "2023-12-17T20:11:47.413Z"
   },
   {
    "duration": 6,
    "start_time": "2023-12-17T20:11:47.431Z"
   },
   {
    "duration": 10,
    "start_time": "2023-12-17T20:11:47.439Z"
   },
   {
    "duration": 24,
    "start_time": "2023-12-17T20:11:47.451Z"
   },
   {
    "duration": 5,
    "start_time": "2023-12-17T20:11:47.477Z"
   },
   {
    "duration": 15,
    "start_time": "2023-12-17T20:11:47.484Z"
   },
   {
    "duration": 4,
    "start_time": "2023-12-17T20:11:47.500Z"
   },
   {
    "duration": 11,
    "start_time": "2023-12-17T20:11:47.506Z"
   },
   {
    "duration": 10,
    "start_time": "2023-12-17T20:11:47.519Z"
   },
   {
    "duration": 5,
    "start_time": "2023-12-17T20:11:47.531Z"
   },
   {
    "duration": 13,
    "start_time": "2023-12-17T20:11:47.538Z"
   },
   {
    "duration": 5,
    "start_time": "2023-12-17T20:11:47.565Z"
   },
   {
    "duration": 8,
    "start_time": "2023-12-17T20:11:47.572Z"
   },
   {
    "duration": 9,
    "start_time": "2023-12-17T20:11:47.582Z"
   },
   {
    "duration": 6,
    "start_time": "2023-12-17T20:11:47.592Z"
   },
   {
    "duration": 5,
    "start_time": "2023-12-17T20:11:47.599Z"
   },
   {
    "duration": 6,
    "start_time": "2023-12-17T20:11:47.605Z"
   },
   {
    "duration": 211,
    "start_time": "2023-12-17T20:11:47.612Z"
   },
   {
    "duration": 118,
    "start_time": "2023-12-17T20:11:47.825Z"
   },
   {
    "duration": 5,
    "start_time": "2023-12-17T20:11:47.945Z"
   },
   {
    "duration": 19,
    "start_time": "2023-12-17T20:11:47.951Z"
   },
   {
    "duration": 7,
    "start_time": "2023-12-17T20:11:47.973Z"
   },
   {
    "duration": 7,
    "start_time": "2023-12-17T20:11:47.982Z"
   },
   {
    "duration": 4,
    "start_time": "2023-12-17T20:11:47.990Z"
   },
   {
    "duration": 5,
    "start_time": "2023-12-17T20:11:47.995Z"
   },
   {
    "duration": 6,
    "start_time": "2023-12-17T20:11:48.001Z"
   },
   {
    "duration": 5,
    "start_time": "2023-12-17T20:11:48.008Z"
   },
   {
    "duration": 429,
    "start_time": "2023-12-17T20:11:48.014Z"
   },
   {
    "duration": 3,
    "start_time": "2023-12-17T20:11:48.445Z"
   },
   {
    "duration": 359,
    "start_time": "2023-12-17T20:11:48.449Z"
   },
   {
    "duration": 3,
    "start_time": "2023-12-17T20:11:48.809Z"
   },
   {
    "duration": 402,
    "start_time": "2023-12-17T20:11:48.814Z"
   },
   {
    "duration": 330,
    "start_time": "2023-12-17T20:11:49.218Z"
   },
   {
    "duration": 4,
    "start_time": "2023-12-17T20:11:49.549Z"
   },
   {
    "duration": 543,
    "start_time": "2023-12-17T20:11:49.554Z"
   },
   {
    "duration": 145,
    "start_time": "2023-12-17T20:11:50.099Z"
   },
   {
    "duration": 2,
    "start_time": "2023-12-17T20:11:50.246Z"
   },
   {
    "duration": 28,
    "start_time": "2023-12-17T20:11:50.250Z"
   },
   {
    "duration": 254,
    "start_time": "2023-12-17T20:11:50.279Z"
   },
   {
    "duration": 3,
    "start_time": "2023-12-17T20:11:50.535Z"
   },
   {
    "duration": 7,
    "start_time": "2023-12-17T20:11:50.539Z"
   },
   {
    "duration": 11,
    "start_time": "2023-12-17T20:11:50.547Z"
   },
   {
    "duration": 276,
    "start_time": "2023-12-17T20:11:50.559Z"
   },
   {
    "duration": 3,
    "start_time": "2023-12-17T20:11:50.837Z"
   },
   {
    "duration": 16,
    "start_time": "2023-12-17T20:11:50.842Z"
   },
   {
    "duration": 14,
    "start_time": "2023-12-17T20:11:50.860Z"
   },
   {
    "duration": 7,
    "start_time": "2023-12-17T20:11:50.876Z"
   },
   {
    "duration": 6,
    "start_time": "2023-12-17T20:11:50.884Z"
   },
   {
    "duration": 7,
    "start_time": "2023-12-17T20:11:50.891Z"
   },
   {
    "duration": 26,
    "start_time": "2023-12-17T20:11:50.899Z"
   },
   {
    "duration": 13,
    "start_time": "2023-12-17T20:11:50.927Z"
   },
   {
    "duration": 14,
    "start_time": "2023-12-17T20:11:50.966Z"
   },
   {
    "duration": 9,
    "start_time": "2023-12-17T20:11:50.982Z"
   },
   {
    "duration": 40,
    "start_time": "2023-12-17T20:11:50.992Z"
   },
   {
    "duration": 14,
    "start_time": "2023-12-17T20:11:51.034Z"
   },
   {
    "duration": 1060,
    "start_time": "2023-12-17T20:14:32.611Z"
   },
   {
    "duration": 26,
    "start_time": "2023-12-17T20:14:33.674Z"
   },
   {
    "duration": 2,
    "start_time": "2023-12-17T20:14:33.702Z"
   },
   {
    "duration": 18,
    "start_time": "2023-12-17T20:14:33.706Z"
   },
   {
    "duration": 4,
    "start_time": "2023-12-17T20:14:33.726Z"
   },
   {
    "duration": 6,
    "start_time": "2023-12-17T20:14:33.731Z"
   },
   {
    "duration": 14,
    "start_time": "2023-12-17T20:14:33.738Z"
   },
   {
    "duration": 10,
    "start_time": "2023-12-17T20:14:33.754Z"
   },
   {
    "duration": 9,
    "start_time": "2023-12-17T20:14:33.766Z"
   },
   {
    "duration": 14,
    "start_time": "2023-12-17T20:14:33.776Z"
   },
   {
    "duration": 19,
    "start_time": "2023-12-17T20:14:33.791Z"
   },
   {
    "duration": 41,
    "start_time": "2023-12-17T20:14:33.811Z"
   },
   {
    "duration": 8,
    "start_time": "2023-12-17T20:14:33.853Z"
   },
   {
    "duration": 10,
    "start_time": "2023-12-17T20:14:33.865Z"
   },
   {
    "duration": 5,
    "start_time": "2023-12-17T20:14:33.877Z"
   },
   {
    "duration": 8,
    "start_time": "2023-12-17T20:14:33.883Z"
   },
   {
    "duration": 15,
    "start_time": "2023-12-17T20:14:33.892Z"
   },
   {
    "duration": 6,
    "start_time": "2023-12-17T20:14:33.909Z"
   },
   {
    "duration": 12,
    "start_time": "2023-12-17T20:14:33.916Z"
   },
   {
    "duration": 5,
    "start_time": "2023-12-17T20:14:33.929Z"
   },
   {
    "duration": 31,
    "start_time": "2023-12-17T20:14:33.935Z"
   },
   {
    "duration": 12,
    "start_time": "2023-12-17T20:14:33.968Z"
   },
   {
    "duration": 6,
    "start_time": "2023-12-17T20:14:33.981Z"
   },
   {
    "duration": 11,
    "start_time": "2023-12-17T20:14:33.988Z"
   },
   {
    "duration": 9,
    "start_time": "2023-12-17T20:14:34.000Z"
   },
   {
    "duration": 3,
    "start_time": "2023-12-17T20:14:34.011Z"
   },
   {
    "duration": 4,
    "start_time": "2023-12-17T20:14:34.015Z"
   },
   {
    "duration": 7,
    "start_time": "2023-12-17T20:14:34.021Z"
   },
   {
    "duration": 4,
    "start_time": "2023-12-17T20:14:34.029Z"
   },
   {
    "duration": 8,
    "start_time": "2023-12-17T20:14:34.065Z"
   },
   {
    "duration": 5,
    "start_time": "2023-12-17T20:14:34.074Z"
   },
   {
    "duration": 4,
    "start_time": "2023-12-17T20:14:34.081Z"
   },
   {
    "duration": 6,
    "start_time": "2023-12-17T20:14:34.086Z"
   },
   {
    "duration": 105,
    "start_time": "2023-12-17T20:14:34.093Z"
   },
   {
    "duration": 0,
    "start_time": "2023-12-17T20:14:34.200Z"
   },
   {
    "duration": 0,
    "start_time": "2023-12-17T20:14:34.202Z"
   },
   {
    "duration": 0,
    "start_time": "2023-12-17T20:14:34.203Z"
   },
   {
    "duration": 0,
    "start_time": "2023-12-17T20:14:34.205Z"
   },
   {
    "duration": 0,
    "start_time": "2023-12-17T20:14:34.207Z"
   },
   {
    "duration": 0,
    "start_time": "2023-12-17T20:14:34.207Z"
   },
   {
    "duration": 0,
    "start_time": "2023-12-17T20:14:34.208Z"
   },
   {
    "duration": 0,
    "start_time": "2023-12-17T20:14:34.210Z"
   },
   {
    "duration": 0,
    "start_time": "2023-12-17T20:14:34.211Z"
   },
   {
    "duration": 0,
    "start_time": "2023-12-17T20:14:34.212Z"
   },
   {
    "duration": 0,
    "start_time": "2023-12-17T20:14:34.214Z"
   },
   {
    "duration": 0,
    "start_time": "2023-12-17T20:14:34.215Z"
   },
   {
    "duration": 0,
    "start_time": "2023-12-17T20:14:34.216Z"
   },
   {
    "duration": 0,
    "start_time": "2023-12-17T20:14:34.217Z"
   },
   {
    "duration": 0,
    "start_time": "2023-12-17T20:14:34.219Z"
   },
   {
    "duration": 0,
    "start_time": "2023-12-17T20:14:34.220Z"
   },
   {
    "duration": 0,
    "start_time": "2023-12-17T20:14:34.221Z"
   },
   {
    "duration": 0,
    "start_time": "2023-12-17T20:14:34.222Z"
   },
   {
    "duration": 0,
    "start_time": "2023-12-17T20:14:34.223Z"
   },
   {
    "duration": 0,
    "start_time": "2023-12-17T20:14:34.224Z"
   },
   {
    "duration": 0,
    "start_time": "2023-12-17T20:14:34.226Z"
   },
   {
    "duration": 0,
    "start_time": "2023-12-17T20:14:34.227Z"
   },
   {
    "duration": 0,
    "start_time": "2023-12-17T20:14:34.265Z"
   },
   {
    "duration": 0,
    "start_time": "2023-12-17T20:14:34.266Z"
   },
   {
    "duration": 0,
    "start_time": "2023-12-17T20:14:34.267Z"
   },
   {
    "duration": 0,
    "start_time": "2023-12-17T20:14:34.268Z"
   },
   {
    "duration": 0,
    "start_time": "2023-12-17T20:14:34.269Z"
   },
   {
    "duration": 0,
    "start_time": "2023-12-17T20:14:34.270Z"
   },
   {
    "duration": 0,
    "start_time": "2023-12-17T20:14:34.271Z"
   },
   {
    "duration": 0,
    "start_time": "2023-12-17T20:14:34.272Z"
   },
   {
    "duration": 0,
    "start_time": "2023-12-17T20:14:34.275Z"
   },
   {
    "duration": 0,
    "start_time": "2023-12-17T20:14:34.276Z"
   },
   {
    "duration": 0,
    "start_time": "2023-12-17T20:14:34.277Z"
   },
   {
    "duration": 0,
    "start_time": "2023-12-17T20:14:34.278Z"
   },
   {
    "duration": 0,
    "start_time": "2023-12-17T20:14:34.279Z"
   },
   {
    "duration": 0,
    "start_time": "2023-12-17T20:14:34.280Z"
   },
   {
    "duration": 0,
    "start_time": "2023-12-17T20:14:34.280Z"
   },
   {
    "duration": 17,
    "start_time": "2023-12-17T20:15:41.844Z"
   },
   {
    "duration": 1176,
    "start_time": "2023-12-17T20:19:23.746Z"
   },
   {
    "duration": 27,
    "start_time": "2023-12-17T20:19:24.924Z"
   },
   {
    "duration": 6,
    "start_time": "2023-12-17T20:19:24.952Z"
   },
   {
    "duration": 30,
    "start_time": "2023-12-17T20:19:24.960Z"
   },
   {
    "duration": 29,
    "start_time": "2023-12-17T20:19:24.992Z"
   },
   {
    "duration": 26,
    "start_time": "2023-12-17T20:19:25.023Z"
   },
   {
    "duration": 8,
    "start_time": "2023-12-17T20:19:25.051Z"
   },
   {
    "duration": 29,
    "start_time": "2023-12-17T20:19:25.061Z"
   },
   {
    "duration": 6,
    "start_time": "2023-12-17T20:19:25.092Z"
   },
   {
    "duration": 4,
    "start_time": "2023-12-17T20:19:25.100Z"
   },
   {
    "duration": 11,
    "start_time": "2023-12-17T20:19:25.106Z"
   },
   {
    "duration": 38,
    "start_time": "2023-12-17T20:19:25.119Z"
   },
   {
    "duration": 7,
    "start_time": "2023-12-17T20:19:25.159Z"
   },
   {
    "duration": 14,
    "start_time": "2023-12-17T20:19:25.167Z"
   },
   {
    "duration": 6,
    "start_time": "2023-12-17T20:19:25.182Z"
   },
   {
    "duration": 9,
    "start_time": "2023-12-17T20:19:25.189Z"
   },
   {
    "duration": 15,
    "start_time": "2023-12-17T20:19:25.199Z"
   },
   {
    "duration": 6,
    "start_time": "2023-12-17T20:19:25.216Z"
   },
   {
    "duration": 8,
    "start_time": "2023-12-17T20:19:25.224Z"
   },
   {
    "duration": 7,
    "start_time": "2023-12-17T20:19:25.234Z"
   },
   {
    "duration": 5,
    "start_time": "2023-12-17T20:19:25.242Z"
   },
   {
    "duration": 24,
    "start_time": "2023-12-17T20:19:25.248Z"
   },
   {
    "duration": 18,
    "start_time": "2023-12-17T20:19:25.273Z"
   },
   {
    "duration": 21,
    "start_time": "2023-12-17T20:19:25.293Z"
   },
   {
    "duration": 25,
    "start_time": "2023-12-17T20:19:25.315Z"
   },
   {
    "duration": 14,
    "start_time": "2023-12-17T20:19:25.341Z"
   },
   {
    "duration": 6,
    "start_time": "2023-12-17T20:19:25.356Z"
   },
   {
    "duration": 4,
    "start_time": "2023-12-17T20:19:25.366Z"
   },
   {
    "duration": 17,
    "start_time": "2023-12-17T20:19:25.371Z"
   },
   {
    "duration": 4,
    "start_time": "2023-12-17T20:19:25.389Z"
   },
   {
    "duration": 3,
    "start_time": "2023-12-17T20:19:25.395Z"
   },
   {
    "duration": 5,
    "start_time": "2023-12-17T20:19:25.399Z"
   },
   {
    "duration": 12,
    "start_time": "2023-12-17T20:19:25.406Z"
   },
   {
    "duration": 5,
    "start_time": "2023-12-17T20:19:25.419Z"
   },
   {
    "duration": 13,
    "start_time": "2023-12-17T20:19:25.425Z"
   },
   {
    "duration": 161,
    "start_time": "2023-12-17T20:19:25.439Z"
   },
   {
    "duration": 133,
    "start_time": "2023-12-17T20:19:25.601Z"
   },
   {
    "duration": 7,
    "start_time": "2023-12-17T20:19:25.735Z"
   },
   {
    "duration": 9,
    "start_time": "2023-12-17T20:19:25.743Z"
   },
   {
    "duration": 8,
    "start_time": "2023-12-17T20:19:25.768Z"
   },
   {
    "duration": 5,
    "start_time": "2023-12-17T20:19:25.778Z"
   },
   {
    "duration": 4,
    "start_time": "2023-12-17T20:19:25.785Z"
   },
   {
    "duration": 6,
    "start_time": "2023-12-17T20:19:25.790Z"
   },
   {
    "duration": 8,
    "start_time": "2023-12-17T20:19:25.797Z"
   },
   {
    "duration": 4,
    "start_time": "2023-12-17T20:19:25.814Z"
   },
   {
    "duration": 411,
    "start_time": "2023-12-17T20:19:25.820Z"
   },
   {
    "duration": 4,
    "start_time": "2023-12-17T20:19:26.232Z"
   },
   {
    "duration": 343,
    "start_time": "2023-12-17T20:19:26.237Z"
   },
   {
    "duration": 3,
    "start_time": "2023-12-17T20:19:26.581Z"
   },
   {
    "duration": 476,
    "start_time": "2023-12-17T20:19:26.586Z"
   },
   {
    "duration": 316,
    "start_time": "2023-12-17T20:19:27.063Z"
   },
   {
    "duration": 4,
    "start_time": "2023-12-17T20:19:27.380Z"
   },
   {
    "duration": 518,
    "start_time": "2023-12-17T20:19:27.385Z"
   },
   {
    "duration": 128,
    "start_time": "2023-12-17T20:19:27.904Z"
   },
   {
    "duration": 2,
    "start_time": "2023-12-17T20:19:28.034Z"
   },
   {
    "duration": 37,
    "start_time": "2023-12-17T20:19:28.038Z"
   },
   {
    "duration": 251,
    "start_time": "2023-12-17T20:19:28.076Z"
   },
   {
    "duration": 4,
    "start_time": "2023-12-17T20:19:28.329Z"
   },
   {
    "duration": 20,
    "start_time": "2023-12-17T20:19:28.334Z"
   },
   {
    "duration": 10,
    "start_time": "2023-12-17T20:19:28.355Z"
   },
   {
    "duration": 257,
    "start_time": "2023-12-17T20:19:28.366Z"
   },
   {
    "duration": 5,
    "start_time": "2023-12-17T20:19:28.624Z"
   },
   {
    "duration": 6,
    "start_time": "2023-12-17T20:19:28.630Z"
   },
   {
    "duration": 11,
    "start_time": "2023-12-17T20:19:28.637Z"
   },
   {
    "duration": 23,
    "start_time": "2023-12-17T20:19:28.650Z"
   },
   {
    "duration": 6,
    "start_time": "2023-12-17T20:19:28.674Z"
   },
   {
    "duration": 6,
    "start_time": "2023-12-17T20:19:28.681Z"
   },
   {
    "duration": 24,
    "start_time": "2023-12-17T20:19:28.688Z"
   },
   {
    "duration": 13,
    "start_time": "2023-12-17T20:19:28.714Z"
   },
   {
    "duration": 37,
    "start_time": "2023-12-17T20:19:28.728Z"
   },
   {
    "duration": 9,
    "start_time": "2023-12-17T20:19:28.766Z"
   },
   {
    "duration": 24,
    "start_time": "2023-12-17T20:19:28.776Z"
   },
   {
    "duration": 13,
    "start_time": "2023-12-17T20:19:28.802Z"
   }
  ],
  "kernelspec": {
   "display_name": "Python 3 (ipykernel)",
   "language": "python",
   "name": "python3"
  },
  "language_info": {
   "codemirror_mode": {
    "name": "ipython",
    "version": 3
   },
   "file_extension": ".py",
   "mimetype": "text/x-python",
   "name": "python",
   "nbconvert_exporter": "python",
   "pygments_lexer": "ipython3",
   "version": "3.9.5"
  },
  "toc": {
   "base_numbering": 1,
   "nav_menu": {},
   "number_sections": true,
   "sideBar": true,
   "skip_h1_title": true,
   "title_cell": "Table of Contents",
   "title_sidebar": "Contents",
   "toc_cell": false,
   "toc_position": {},
   "toc_section_display": true,
   "toc_window_display": false
  }
 },
 "nbformat": 4,
 "nbformat_minor": 2
}
